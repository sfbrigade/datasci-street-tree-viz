{
 "cells": [
  {
   "cell_type": "code",
   "execution_count": 1,
   "metadata": {
    "collapsed": false
   },
   "outputs": [],
   "source": [
    "import pandas as pd\n",
    "%matplotlib inline"
   ]
  },
  {
   "cell_type": "code",
   "execution_count": 2,
   "metadata": {
    "collapsed": false
   },
   "outputs": [
    {
     "name": "stdout",
     "output_type": "stream",
     "text": [
      "FUF Salesforce Data Dump.csv\n",
      "combined_tree_data_with_header_with_derived_neighborhood.csv\n"
     ]
    }
   ],
   "source": [
    "%%bash\n",
    "ls data/"
   ]
  },
  {
   "cell_type": "code",
   "execution_count": 3,
   "metadata": {
    "collapsed": false
   },
   "outputs": [
    {
     "name": "stderr",
     "output_type": "stream",
     "text": [
      "/Users/spencer/Documents/Personal/datasci-street-tree-viz/venv/lib/python2.7/site-packages/IPython/core/interactiveshell.py:2705: DtypeWarning: Columns (2) have mixed types. Specify dtype option on import or set low_memory=False.\n",
      "  interactivity=interactivity, compiler=compiler, result=result)\n"
     ]
    },
    {
     "data": {
      "text/html": [
       "<div>\n",
       "<table border=\"1\" class=\"dataframe\">\n",
       "  <thead>\n",
       "    <tr style=\"text-align: right;\">\n",
       "      <th></th>\n",
       "      <th>Tree Planting: Planting ID</th>\n",
       "      <th>Tree Species</th>\n",
       "      <th>Tree Bldg Num</th>\n",
       "      <th>Tree Street</th>\n",
       "      <th>Tree Zip Code</th>\n",
       "      <th>Neighborhood</th>\n",
       "      <th>Cross Street</th>\n",
       "      <th>Basin Type</th>\n",
       "      <th>Permit #</th>\n",
       "      <th>Survey2mDoneDate</th>\n",
       "      <th>Survey2mStatus</th>\n",
       "      <th>Care1Done</th>\n",
       "      <th>2yrDone</th>\n",
       "      <th>Survey2yrStatus</th>\n",
       "      <th>3yrDone</th>\n",
       "      <th>Survey3yrStatus</th>\n",
       "      <th>4yrDone</th>\n",
       "      <th>Survey4yrStatus</th>\n",
       "      <th>5yrDone</th>\n",
       "      <th>Survey5yrStatus</th>\n",
       "    </tr>\n",
       "  </thead>\n",
       "  <tbody>\n",
       "    <tr>\n",
       "      <th>0</th>\n",
       "      <td>A-61746</td>\n",
       "      <td>NaN</td>\n",
       "      <td>743</td>\n",
       "      <td>North Point St</td>\n",
       "      <td>94109</td>\n",
       "      <td>Nob Hill/Chinatown</td>\n",
       "      <td>Hyde &amp; Leavenworth</td>\n",
       "      <td>NaN</td>\n",
       "      <td>776830</td>\n",
       "      <td>NaN</td>\n",
       "      <td>NaN</td>\n",
       "      <td>NaN</td>\n",
       "      <td>NaN</td>\n",
       "      <td>NaN</td>\n",
       "      <td>NaN</td>\n",
       "      <td>NaN</td>\n",
       "      <td>NaN</td>\n",
       "      <td>NaN</td>\n",
       "      <td>NaN</td>\n",
       "      <td>NaN</td>\n",
       "    </tr>\n",
       "    <tr>\n",
       "      <th>1</th>\n",
       "      <td>A-24604</td>\n",
       "      <td>Prunus serrulata 'Kwanzan'</td>\n",
       "      <td>456</td>\n",
       "      <td>Missouri St</td>\n",
       "      <td>94107</td>\n",
       "      <td>Potrero Hill</td>\n",
       "      <td>19th-20th St.</td>\n",
       "      <td>3x3</td>\n",
       "      <td>NaN</td>\n",
       "      <td>NaN</td>\n",
       "      <td>NaN</td>\n",
       "      <td>9/30/1999</td>\n",
       "      <td>NaN</td>\n",
       "      <td>NaN</td>\n",
       "      <td>11/3/2001</td>\n",
       "      <td>NaN</td>\n",
       "      <td>NaN</td>\n",
       "      <td>NaN</td>\n",
       "      <td>NaN</td>\n",
       "      <td>NaN</td>\n",
       "    </tr>\n",
       "    <tr>\n",
       "      <th>2</th>\n",
       "      <td>A-7957</td>\n",
       "      <td>Prunus yedoensis 'Akebono'</td>\n",
       "      <td>960</td>\n",
       "      <td>Anza St</td>\n",
       "      <td>94118</td>\n",
       "      <td>USF/NoPa</td>\n",
       "      <td>Almaden Court</td>\n",
       "      <td>NaN</td>\n",
       "      <td>NaN</td>\n",
       "      <td>NaN</td>\n",
       "      <td>NaN</td>\n",
       "      <td>NaN</td>\n",
       "      <td>NaN</td>\n",
       "      <td>NaN</td>\n",
       "      <td>NaN</td>\n",
       "      <td>NaN</td>\n",
       "      <td>NaN</td>\n",
       "      <td>NaN</td>\n",
       "      <td>NaN</td>\n",
       "      <td>NaN</td>\n",
       "    </tr>\n",
       "    <tr>\n",
       "      <th>3</th>\n",
       "      <td>A-63601</td>\n",
       "      <td>NaN</td>\n",
       "      <td>NaN</td>\n",
       "      <td>NaN</td>\n",
       "      <td>NaN</td>\n",
       "      <td>Crocker Amazon/Cayuga Terrace</td>\n",
       "      <td>NaN</td>\n",
       "      <td>NaN</td>\n",
       "      <td>NaN</td>\n",
       "      <td>NaN</td>\n",
       "      <td>NaN</td>\n",
       "      <td>NaN</td>\n",
       "      <td>NaN</td>\n",
       "      <td>NaN</td>\n",
       "      <td>NaN</td>\n",
       "      <td>NaN</td>\n",
       "      <td>NaN</td>\n",
       "      <td>NaN</td>\n",
       "      <td>NaN</td>\n",
       "      <td>NaN</td>\n",
       "    </tr>\n",
       "    <tr>\n",
       "      <th>4</th>\n",
       "      <td>A-24605</td>\n",
       "      <td>Trachycarpus fortunei</td>\n",
       "      <td>1000</td>\n",
       "      <td>Jarboe Ave</td>\n",
       "      <td>94110</td>\n",
       "      <td>Bernal Heights</td>\n",
       "      <td>Bronte And Bradford</td>\n",
       "      <td>NaN</td>\n",
       "      <td>NaN</td>\n",
       "      <td>NaN</td>\n",
       "      <td>NaN</td>\n",
       "      <td>8/31/2000</td>\n",
       "      <td>NaN</td>\n",
       "      <td>NaN</td>\n",
       "      <td>4/13/2002</td>\n",
       "      <td>1 Very healthy</td>\n",
       "      <td>NaN</td>\n",
       "      <td>NaN</td>\n",
       "      <td>NaN</td>\n",
       "      <td>NaN</td>\n",
       "    </tr>\n",
       "  </tbody>\n",
       "</table>\n",
       "</div>"
      ],
      "text/plain": [
       "  Tree Planting: Planting ID                Tree Species Tree Bldg Num  \\\n",
       "0                    A-61746                         NaN           743   \n",
       "1                    A-24604  Prunus serrulata 'Kwanzan'           456   \n",
       "2                     A-7957  Prunus yedoensis 'Akebono'           960   \n",
       "3                    A-63601                         NaN           NaN   \n",
       "4                    A-24605       Trachycarpus fortunei          1000   \n",
       "\n",
       "      Tree Street Tree Zip Code                   Neighborhood  \\\n",
       "0  North Point St         94109             Nob Hill/Chinatown   \n",
       "1     Missouri St         94107                   Potrero Hill   \n",
       "2         Anza St         94118                       USF/NoPa   \n",
       "3             NaN           NaN  Crocker Amazon/Cayuga Terrace   \n",
       "4      Jarboe Ave         94110                 Bernal Heights   \n",
       "\n",
       "          Cross Street Basin Type Permit # Survey2mDoneDate Survey2mStatus  \\\n",
       "0   Hyde & Leavenworth        NaN   776830              NaN            NaN   \n",
       "1        19th-20th St.        3x3      NaN              NaN            NaN   \n",
       "2        Almaden Court        NaN      NaN              NaN            NaN   \n",
       "3                  NaN        NaN      NaN              NaN            NaN   \n",
       "4  Bronte And Bradford        NaN      NaN              NaN            NaN   \n",
       "\n",
       "   Care1Done 2yrDone Survey2yrStatus    3yrDone Survey3yrStatus 4yrDone  \\\n",
       "0        NaN     NaN             NaN        NaN             NaN     NaN   \n",
       "1  9/30/1999     NaN             NaN  11/3/2001             NaN     NaN   \n",
       "2        NaN     NaN             NaN        NaN             NaN     NaN   \n",
       "3        NaN     NaN             NaN        NaN             NaN     NaN   \n",
       "4  8/31/2000     NaN             NaN  4/13/2002  1 Very healthy     NaN   \n",
       "\n",
       "  Survey4yrStatus 5yrDone Survey5yrStatus  \n",
       "0             NaN     NaN             NaN  \n",
       "1             NaN     NaN             NaN  \n",
       "2             NaN     NaN             NaN  \n",
       "3             NaN     NaN             NaN  \n",
       "4             NaN     NaN             NaN  "
      ]
     },
     "execution_count": 3,
     "metadata": {},
     "output_type": "execute_result"
    }
   ],
   "source": [
    "df = pd.read_csv('data/FUF Salesforce Data Dump.csv')\n",
    "df.head()"
   ]
  },
  {
   "cell_type": "code",
   "execution_count": 12,
   "metadata": {
    "collapsed": false
   },
   "outputs": [
    {
     "data": {
      "text/plain": [
       "(61745, 23)"
      ]
     },
     "execution_count": 12,
     "metadata": {},
     "output_type": "execute_result"
    }
   ],
   "source": [
    "df.shape"
   ]
  },
  {
   "cell_type": "code",
   "execution_count": 4,
   "metadata": {
    "collapsed": false
   },
   "outputs": [
    {
     "data": {
      "text/html": [
       "<div>\n",
       "<table border=\"1\" class=\"dataframe\">\n",
       "  <thead>\n",
       "    <tr style=\"text-align: right;\">\n",
       "      <th></th>\n",
       "      <th>Tree Planting: Planting ID</th>\n",
       "      <th>Tree Species</th>\n",
       "      <th>Tree Bldg Num</th>\n",
       "      <th>Tree Street</th>\n",
       "      <th>Tree Zip Code</th>\n",
       "      <th>Neighborhood</th>\n",
       "      <th>Cross Street</th>\n",
       "      <th>Basin Type</th>\n",
       "      <th>Permit #</th>\n",
       "      <th>Survey2mDoneDate</th>\n",
       "      <th>Survey2mStatus</th>\n",
       "      <th>Care1Done</th>\n",
       "      <th>2yrDone</th>\n",
       "      <th>Survey2yrStatus</th>\n",
       "      <th>3yrDone</th>\n",
       "      <th>Survey3yrStatus</th>\n",
       "      <th>4yrDone</th>\n",
       "      <th>Survey4yrStatus</th>\n",
       "      <th>5yrDone</th>\n",
       "      <th>Survey5yrStatus</th>\n",
       "    </tr>\n",
       "  </thead>\n",
       "  <tbody>\n",
       "    <tr>\n",
       "      <th>count</th>\n",
       "      <td>61745</td>\n",
       "      <td>51502</td>\n",
       "      <td>59790.0</td>\n",
       "      <td>61371</td>\n",
       "      <td>57992</td>\n",
       "      <td>61694</td>\n",
       "      <td>41304</td>\n",
       "      <td>25983</td>\n",
       "      <td>1763</td>\n",
       "      <td>4632</td>\n",
       "      <td>14435</td>\n",
       "      <td>27556</td>\n",
       "      <td>760</td>\n",
       "      <td>747</td>\n",
       "      <td>21395</td>\n",
       "      <td>18690</td>\n",
       "      <td>61</td>\n",
       "      <td>60</td>\n",
       "      <td>3244</td>\n",
       "      <td>3046</td>\n",
       "    </tr>\n",
       "    <tr>\n",
       "      <th>unique</th>\n",
       "      <td>61745</td>\n",
       "      <td>394</td>\n",
       "      <td>7153.0</td>\n",
       "      <td>2434</td>\n",
       "      <td>633</td>\n",
       "      <td>52</td>\n",
       "      <td>6326</td>\n",
       "      <td>141</td>\n",
       "      <td>1097</td>\n",
       "      <td>347</td>\n",
       "      <td>9</td>\n",
       "      <td>1098</td>\n",
       "      <td>262</td>\n",
       "      <td>5</td>\n",
       "      <td>1129</td>\n",
       "      <td>6</td>\n",
       "      <td>30</td>\n",
       "      <td>3</td>\n",
       "      <td>502</td>\n",
       "      <td>5</td>\n",
       "    </tr>\n",
       "    <tr>\n",
       "      <th>top</th>\n",
       "      <td>A-32230</td>\n",
       "      <td>Prunus serrulata 'Kwanzan'</td>\n",
       "      <td>100.0</td>\n",
       "      <td>Folsom St</td>\n",
       "      <td>94110</td>\n",
       "      <td>Mission</td>\n",
       "      <td>Ortega</td>\n",
       "      <td>3x3</td>\n",
       "      <td>hardcopy</td>\n",
       "      <td>2/20/2014</td>\n",
       "      <td>1 Very healthy</td>\n",
       "      <td>11/30/2000</td>\n",
       "      <td>3/2/2016</td>\n",
       "      <td>2 Good</td>\n",
       "      <td>7/20/2002</td>\n",
       "      <td>2 Good</td>\n",
       "      <td>3/21/2015</td>\n",
       "      <td>2 Good</td>\n",
       "      <td>9/30/2005</td>\n",
       "      <td>1 Very healthy</td>\n",
       "    </tr>\n",
       "    <tr>\n",
       "      <th>freq</th>\n",
       "      <td>1</td>\n",
       "      <td>3226</td>\n",
       "      <td>288.0</td>\n",
       "      <td>508</td>\n",
       "      <td>8761</td>\n",
       "      <td>6000</td>\n",
       "      <td>285</td>\n",
       "      <td>12026</td>\n",
       "      <td>325</td>\n",
       "      <td>91</td>\n",
       "      <td>8872</td>\n",
       "      <td>458</td>\n",
       "      <td>60</td>\n",
       "      <td>343</td>\n",
       "      <td>288</td>\n",
       "      <td>7515</td>\n",
       "      <td>11</td>\n",
       "      <td>35</td>\n",
       "      <td>121</td>\n",
       "      <td>1481</td>\n",
       "    </tr>\n",
       "  </tbody>\n",
       "</table>\n",
       "</div>"
      ],
      "text/plain": [
       "       Tree Planting: Planting ID                Tree Species  Tree Bldg Num  \\\n",
       "count                       61745                       51502        59790.0   \n",
       "unique                      61745                         394         7153.0   \n",
       "top                       A-32230  Prunus serrulata 'Kwanzan'          100.0   \n",
       "freq                            1                        3226          288.0   \n",
       "\n",
       "       Tree Street Tree Zip Code Neighborhood Cross Street Basin Type  \\\n",
       "count        61371         57992        61694        41304      25983   \n",
       "unique        2434           633           52         6326        141   \n",
       "top      Folsom St         94110      Mission       Ortega        3x3   \n",
       "freq           508          8761         6000          285      12026   \n",
       "\n",
       "        Permit # Survey2mDoneDate  Survey2mStatus   Care1Done   2yrDone  \\\n",
       "count       1763             4632           14435       27556       760   \n",
       "unique      1097              347               9        1098       262   \n",
       "top     hardcopy        2/20/2014  1 Very healthy  11/30/2000  3/2/2016   \n",
       "freq         325               91            8872         458        60   \n",
       "\n",
       "       Survey2yrStatus    3yrDone Survey3yrStatus    4yrDone Survey4yrStatus  \\\n",
       "count              747      21395           18690         61              60   \n",
       "unique               5       1129               6         30               3   \n",
       "top             2 Good  7/20/2002          2 Good  3/21/2015          2 Good   \n",
       "freq               343        288            7515         11              35   \n",
       "\n",
       "          5yrDone Survey5yrStatus  \n",
       "count        3244            3046  \n",
       "unique        502               5  \n",
       "top     9/30/2005  1 Very healthy  \n",
       "freq          121            1481  "
      ]
     },
     "execution_count": 4,
     "metadata": {},
     "output_type": "execute_result"
    }
   ],
   "source": [
    "df.describe()"
   ]
  },
  {
   "cell_type": "code",
   "execution_count": 5,
   "metadata": {
    "collapsed": false
   },
   "outputs": [
    {
     "data": {
      "text/plain": [
       "Survey2mStatus     14435\n",
       "Survey2yrStatus      747\n",
       "Survey3yrStatus    18690\n",
       "Survey4yrStatus       60\n",
       "Survey5yrStatus     3046\n",
       "dtype: int64"
      ]
     },
     "execution_count": 5,
     "metadata": {},
     "output_type": "execute_result"
    }
   ],
   "source": [
    "df.filter(regex='.*Status').count()"
   ]
  },
  {
   "cell_type": "code",
   "execution_count": 6,
   "metadata": {
    "collapsed": false
   },
   "outputs": [
    {
     "data": {
      "text/plain": [
       "(9970, 2)"
      ]
     },
     "execution_count": 6,
     "metadata": {},
     "output_type": "execute_result"
    }
   ],
   "source": [
    "df[['Survey2mStatus', 'Survey3yrStatus']].dropna().shape"
   ]
  },
  {
   "cell_type": "code",
   "execution_count": 7,
   "metadata": {
    "collapsed": false
   },
   "outputs": [
    {
     "data": {
      "text/plain": [
       "1 Very healthy          8872\n",
       "2 Good                  4264\n",
       "3 Struggling             896\n",
       "5 Dead or gone           216\n",
       "4 Almost dead            180\n",
       "-1                         4\n",
       "2                          1\n",
       "1                          1\n",
       "survey but no remark       1\n",
       "Name: Survey2mStatus, dtype: int64"
      ]
     },
     "execution_count": 7,
     "metadata": {},
     "output_type": "execute_result"
    }
   ],
   "source": [
    "df['Survey2mStatus'].value_counts()"
   ]
  },
  {
   "cell_type": "code",
   "execution_count": 8,
   "metadata": {
    "collapsed": false
   },
   "outputs": [
    {
     "data": {
      "text/plain": [
       "2 Good            7515\n",
       "1 Very healthy    6636\n",
       "3 Struggling      2845\n",
       "5 Dead or gone    1156\n",
       "4 Almost dead      518\n",
       "5 dead/gone         20\n",
       "Name: Survey3yrStatus, dtype: int64"
      ]
     },
     "execution_count": 8,
     "metadata": {},
     "output_type": "execute_result"
    }
   ],
   "source": [
    "df['Survey3yrStatus'].value_counts()"
   ]
  },
  {
   "cell_type": "code",
   "execution_count": 9,
   "metadata": {
    "collapsed": false
   },
   "outputs": [
    {
     "data": {
      "text/plain": [
       "-4.0     237\n",
       "-3.0     267\n",
       "-2.0     840\n",
       "-1.0    3056\n",
       " 0.0    4150\n",
       " 1.0    1269\n",
       " 2.0     136\n",
       " 3.0      11\n",
       "Name: status_change, dtype: int64"
      ]
     },
     "execution_count": 9,
     "metadata": {},
     "output_type": "execute_result"
    }
   ],
   "source": [
    "df['Survey2mStatus_num'] = df['Survey2mStatus'].str.extract('(\\d+) \\w+', expand=False).astype(float)\n",
    "df['Survey3yrStatus_num'] = df['Survey3yrStatus'].str.extract('(\\d+) \\w+', expand=False).astype(float)\n",
    "df['status_change'] = df['Survey2mStatus_num'] - df['Survey3yrStatus_num']\n",
    "df['status_change'].value_counts().sort_index()"
   ]
  },
  {
   "cell_type": "markdown",
   "metadata": {},
   "source": [
    "# Neighborhoods"
   ]
  },
  {
   "cell_type": "code",
   "execution_count": 10,
   "metadata": {
    "collapsed": false
   },
   "outputs": [
    {
     "data": {
      "text/plain": [
       "Mission                          6000\n",
       "Bernal Heights                   3956\n",
       "Outer Sunset                     3954\n",
       "Bayview                          3577\n",
       "Mt. Davidson                     3076\n",
       "Noe Valley                       3017\n",
       "Excelsior                        2714\n",
       "SoMa                             2691\n",
       "Inner Sunset                     2641\n",
       "Outer Richmond                   2455\n",
       "Inner Richmond                   2149\n",
       "OMI                              2143\n",
       "Potrero Hill                     1856\n",
       "Hayes Valley                     1810\n",
       "Castro                           1750\n",
       "USF/NoPa                         1668\n",
       "Portola                          1359\n",
       "Russian Hill                     1322\n",
       "Western Addition/Hayes Valley    1181\n",
       "Haight/Cole Valley               1169\n",
       "Tenderloin                       1109\n",
       "Parkside                         1043\n",
       "Pacific Heights                  1038\n",
       "Glen Park                         971\n",
       "Crocker Amazon/Cayuga Terrace     845\n",
       "Marina/Cow Hollow                 820\n",
       "Visitacion Valley                 777\n",
       "Nob Hill/Chinatown                756\n",
       "Central Sunset                    659\n",
       "Telegraph Hill                    435\n",
       "Presidio Heights                  423\n",
       "Sunnyside/Balboa Terrace          417\n",
       "West Portal                       284\n",
       "Upper Market                      241\n",
       "Lakeside                          226\n",
       "Duboce Triangle/Lower Haight      176\n",
       "Twin Peaks                        166\n",
       "Mission Terrace                   154\n",
       "South Central Sunset              104\n",
       "Laurel Heights                    101\n",
       "Balboa Terrace                     92\n",
       "FourCorners                        77\n",
       "Parkmerced                         62\n",
       "Dogpatch/Mission Bay               49\n",
       "North Beach/Telegraph Hill         49\n",
       "Presidio of San Francisco          44\n",
       "Financial District                 34\n",
       "Novato                             20\n",
       "Hunters Point                      16\n",
       "Diamond Heights                     8\n",
       "NonFUFplanting                      6\n",
       "Sunset                              4\n",
       "Name: Neighborhood, dtype: int64"
      ]
     },
     "execution_count": 10,
     "metadata": {},
     "output_type": "execute_result"
    }
   ],
   "source": [
    "df.Neighborhood.value_counts()"
   ]
  },
  {
   "cell_type": "code",
   "execution_count": null,
   "metadata": {
    "collapsed": true
   },
   "outputs": [],
   "source": []
  }
 ],
 "metadata": {
  "kernelspec": {
   "display_name": "Python 2",
   "language": "python",
   "name": "python2"
  },
  "language_info": {
   "codemirror_mode": {
    "name": "ipython",
    "version": 2
   },
   "file_extension": ".py",
   "mimetype": "text/x-python",
   "name": "python",
   "nbconvert_exporter": "python",
   "pygments_lexer": "ipython2",
   "version": "2.7.12"
  }
 },
 "nbformat": 4,
 "nbformat_minor": 0
}
