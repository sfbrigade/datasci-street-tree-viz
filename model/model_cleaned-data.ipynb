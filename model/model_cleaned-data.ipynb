{
 "cells": [
  {
   "cell_type": "code",
   "execution_count": 2,
   "metadata": {
    "collapsed": true
   },
   "outputs": [],
   "source": [
    "import pandas as pd, numpy as np\n",
    "from __future__ import division\n",
    "from collections import defaultdict"
   ]
  },
  {
   "cell_type": "code",
   "execution_count": 3,
   "metadata": {
    "collapsed": false
   },
   "outputs": [
    {
     "name": "stderr",
     "output_type": "stream",
     "text": [
      "/usr/local/lib/python2.7/site-packages/ipython-4.0.0-py2.7.egg/IPython/core/interactiveshell.py:2902: DtypeWarning: Columns (0) have mixed types. Specify dtype option on import or set low_memory=False.\n",
      "  interactivity=interactivity, compiler=compiler, result=result)\n"
     ]
    }
   ],
   "source": [
    "# read in data \n",
    "\n",
    "fuf = pd.read_csv('../data/combined_tree_data_with_header_with_derived_neighborhood.csv').fillna('')\n",
    "fuf = fuf.rename(columns={'derived_neighborhood':'neighborhood'})"
   ]
  },
  {
   "cell_type": "markdown",
   "metadata": {},
   "source": [
    "# Diversity "
   ]
  },
  {
   "cell_type": "code",
   "execution_count": 4,
   "metadata": {
    "collapsed": true
   },
   "outputs": [],
   "source": [
    "# when the condition of the tree is bad, the species is reported in a weird way. remove those.\n",
    "\n",
    "bad_condition = ['dead', 'vacancy', 'stump', 'unsuitable site', 'stump removal', 'open']\n",
    "\n",
    "fuf.ix[fuf.scientific_species_name<>'', 'genus'] = fuf[fuf.scientific_species_name<>'' \\\n",
    "                                            ].scientific_species_name.apply(lambda x: x.split()[0])\n",
    "\n",
    "diversity = fuf[~fuf.condition.isin(bad_condition)].groupby(['neighborhood', 'genus']\\\n",
    "                                                    ).size().reset_index().rename(columns={0:'cnt'})\n",
    "\n",
    "cnts = fuf[~fuf.condition.isin(bad_condition)].groupby(['neighborhood']\\\n",
    "                                                      ).size().reset_index().rename(columns={0:'cnt'})\n",
    "\n",
    "diversity = pd.merge(diversity,cnts,on='neighborhood')\n",
    "diversity['pct'] = diversity.apply(lambda x: x.cnt_x/x.cnt_y, axis=1)\n",
    "diversity['not_diverse'] = diversity.pct.apply(lambda x: 1 if x>=.2 else 0)\n",
    "diversity = diversity.groupby('neighborhood').not_diverse.sum().reset_index()"
   ]
  },
  {
   "cell_type": "markdown",
   "metadata": {},
   "source": [
    "# Hardscape"
   ]
  },
  {
   "cell_type": "code",
   "execution_count": 5,
   "metadata": {
    "collapsed": true
   },
   "outputs": [],
   "source": [
    "fuf['hardscape_metric'] = fuf['hardscape_damage'].apply(lambda x: 0 if x in ['None','No', 'NA'] else 1)\n",
    "\n",
    "hardscape = fuf.groupby('neighborhood')['hardscape_metric'].mean().reset_index()"
   ]
  },
  {
   "cell_type": "markdown",
   "metadata": {},
   "source": [
    "# Vacant Lot"
   ]
  },
  {
   "cell_type": "code",
   "execution_count": 6,
   "metadata": {
    "collapsed": true
   },
   "outputs": [],
   "source": [
    "fuf['vacant_lot_metric'] = fuf['condition'].apply(lambda x: 0 if x != 'Vacancy' else 1)\n",
    "vacant = fuf.groupby('neighborhood')['vacant_lot_metric'].mean().reset_index()"
   ]
  },
  {
   "cell_type": "markdown",
   "metadata": {},
   "source": [
    "# Condition Score"
   ]
  },
  {
   "cell_type": "code",
   "execution_count": 7,
   "metadata": {
    "collapsed": false
   },
   "outputs": [
    {
     "name": "stderr",
     "output_type": "stream",
     "text": [
      "/usr/local/lib/python2.7/site-packages/ipykernel/__main__.py:18: SettingWithCopyWarning: \n",
      "A value is trying to be set on a copy of a slice from a DataFrame.\n",
      "Try using .loc[row_indexer,col_indexer] = value instead\n",
      "\n",
      "See the caveats in the documentation: http://pandas.pydata.org/pandas-docs/stable/indexing.html#indexing-view-versus-copy\n"
     ]
    }
   ],
   "source": [
    "#assuming very = very good\n",
    "condition_score = defaultdict(lambda: '' )\n",
    "csd = {\n",
    "    'dead':0,\n",
    "    'critical':1,\n",
    "    'poor':2,\n",
    "    'fair':3,\n",
    "    'good':4,\n",
    "    'very':5,\n",
    "    'very good':5,\n",
    "    'excellent':6\n",
    "}\n",
    "for c in csd:\n",
    "    condition_score[c] = csd[c]\n",
    "\n",
    "fuf['condition_score'] = fuf.condition.apply(lambda x: condition_score[x.lower().strip()])\n",
    "condition = fuf[fuf.condition_score<>'']\n",
    "condition['condition_score'] = condition.condition_score.astype(int)\n",
    "condition = condition.groupby('neighborhood')['condition_score'].mean().reset_index()"
   ]
  },
  {
   "cell_type": "markdown",
   "metadata": {},
   "source": [
    "# Modeling Setup"
   ]
  },
  {
   "cell_type": "code",
   "execution_count": 8,
   "metadata": {
    "collapsed": false
   },
   "outputs": [],
   "source": [
    "fuf_scored = fuf[fuf['condition_score']!=''][['tree_id','neighborhood', 'genus', 'condition_score']]"
   ]
  },
  {
   "cell_type": "code",
   "execution_count": 9,
   "metadata": {
    "collapsed": false
   },
   "outputs": [
    {
     "name": "stdout",
     "output_type": "stream",
     "text": [
      "Number of neighborhoods = 104 | Number of genuses = 242\n"
     ]
    }
   ],
   "source": [
    "n_neighborhoods = fuf_scored.neighborhood.unique().shape[0]\n",
    "n_genuses = fuf_scored.genus.unique().shape[0]\n",
    "print 'Number of neighborhoods = ' + str(n_neighborhoods) + ' | Number of genuses = ' + str(n_genuses)  "
   ]
  },
  {
   "cell_type": "markdown",
   "metadata": {},
   "source": [
    "## Create unique ids for neighborhoods and genuses"
   ]
  },
  {
   "cell_type": "code",
   "execution_count": 11,
   "metadata": {
    "collapsed": true
   },
   "outputs": [],
   "source": [
    "fuf_scored['neighborhood'] = fuf_scored['neighborhood'].astype('category').cat.codes\n",
    "fuf_scored['genus'] = fuf_scored['genus'].astype('category').cat.codes"
   ]
  },
  {
   "cell_type": "code",
   "execution_count": 23,
   "metadata": {
    "collapsed": false
   },
   "outputs": [
    {
     "data": {
      "text/html": [
       "<div>\n",
       "<table border=\"1\" class=\"dataframe\">\n",
       "  <thead>\n",
       "    <tr style=\"text-align: right;\">\n",
       "      <th></th>\n",
       "      <th>neighborhood</th>\n",
       "      <th>genus</th>\n",
       "      <th>condition_score</th>\n",
       "    </tr>\n",
       "  </thead>\n",
       "  <tbody>\n",
       "    <tr>\n",
       "      <th>0</th>\n",
       "      <td>46</td>\n",
       "      <td>225</td>\n",
       "      <td>4</td>\n",
       "    </tr>\n",
       "    <tr>\n",
       "      <th>2</th>\n",
       "      <td>46</td>\n",
       "      <td>180</td>\n",
       "      <td>3</td>\n",
       "    </tr>\n",
       "    <tr>\n",
       "      <th>3</th>\n",
       "      <td>46</td>\n",
       "      <td>150</td>\n",
       "      <td>3</td>\n",
       "    </tr>\n",
       "    <tr>\n",
       "      <th>4</th>\n",
       "      <td>46</td>\n",
       "      <td>150</td>\n",
       "      <td>4</td>\n",
       "    </tr>\n",
       "    <tr>\n",
       "      <th>5</th>\n",
       "      <td>41</td>\n",
       "      <td>172</td>\n",
       "      <td>3</td>\n",
       "    </tr>\n",
       "  </tbody>\n",
       "</table>\n",
       "</div>"
      ],
      "text/plain": [
       "   neighborhood  genus condition_score\n",
       "0            46    225               4\n",
       "2            46    180               3\n",
       "3            46    150               3\n",
       "4            46    150               4\n",
       "5            41    172               3"
      ]
     },
     "execution_count": 23,
     "metadata": {},
     "output_type": "execute_result"
    }
   ],
   "source": [
    "fuf_scored = fuf_scored[['neighborhood', 'genus', 'condition_score']]\n",
    "fuf_scored.head()"
   ]
  },
  {
   "cell_type": "code",
   "execution_count": 46,
   "metadata": {
    "collapsed": false
   },
   "outputs": [
    {
     "data": {
      "text/plain": [
       "3    47743\n",
       "2    25219\n",
       "4    23695\n",
       "5     1446\n",
       "0     1110\n",
       "1      205\n",
       "6      175\n",
       "Name: condition_score, dtype: int64"
      ]
     },
     "execution_count": 46,
     "metadata": {},
     "output_type": "execute_result"
    }
   ],
   "source": [
    "fuf_scored['condition_score'].value_counts()"
   ]
  },
  {
   "cell_type": "markdown",
   "metadata": {},
   "source": [
    "- For now, will use condition score to recommend genuses for neighborhoods (explicit feedback model using condition score)"
   ]
  },
  {
   "cell_type": "code",
   "execution_count": 17,
   "metadata": {
    "collapsed": false
   },
   "outputs": [],
   "source": [
    "from sklearn import cross_validation as cv\n",
    "train_data, test_data = cv.train_test_split(fuf_scored[['neighborhood', 'genus']], test_size=0.25)"
   ]
  },
  {
   "cell_type": "code",
   "execution_count": 24,
   "metadata": {
    "collapsed": false
   },
   "outputs": [
    {
     "data": {
      "text/plain": [
       "array([[ 0.,  0.,  0., ...,  0.,  0.,  0.],\n",
       "       [ 0.,  0.,  0., ...,  0.,  0.,  0.],\n",
       "       [ 0.,  0.,  0., ...,  0.,  0.,  0.],\n",
       "       ..., \n",
       "       [ 0.,  0.,  0., ...,  0.,  0.,  0.],\n",
       "       [ 0.,  0.,  0., ...,  0.,  0.,  0.],\n",
       "       [ 0.,  0.,  0., ...,  0.,  0.,  0.]])"
      ]
     },
     "execution_count": 24,
     "metadata": {},
     "output_type": "execute_result"
    }
   ],
   "source": [
    "matrix = np.zeros((n_neighborhoods, n_genuses))\n",
    "for row in fuf_scored.itertuples():\n",
    "    matrix[row[1]-1, row[2]-1] = row[3]\n",
    "matrix"
   ]
  },
  {
   "cell_type": "code",
   "execution_count": 54,
   "metadata": {
    "collapsed": false
   },
   "outputs": [
    {
     "data": {
      "text/plain": [
       "array([[ 0.,  0.,  0.,  0.,  3.,  0.,  3.,  0.,  0.,  0.,  0.,  0.,  0.,\n",
       "         0.,  0.,  0.,  0.,  0.,  4.,  0.,  0.,  0.,  0.,  0.,  0.,  0.,\n",
       "         0.,  0.,  0.,  0.,  0.,  0.,  0.,  0.,  0.,  4.,  0.,  0.,  0.,\n",
       "         0.,  0.,  0.,  0.,  0.,  0.,  0.,  0.,  0.,  0.,  0.,  0.,  0.,\n",
       "         0.,  0.,  0.,  0.,  0.,  0.,  0.,  0.,  0.,  0.,  3.,  0.,  0.,\n",
       "         0.,  0.,  0.,  0.,  0.,  0.,  0.,  0.,  0.,  0.,  0.,  4.,  0.,\n",
       "         0.,  0.,  0.,  0.,  0.,  0.,  0.,  0.,  0.,  0.,  0.,  4.,  0.,\n",
       "         0.,  3.,  0.,  0.,  0.,  3.,  0.,  3.,  0.,  0.,  0.,  0.,  0.,\n",
       "         0.,  4.,  0.,  0.,  0.,  0.,  0.,  0.,  0.,  0.,  0.,  0.,  0.,\n",
       "         0.,  0.,  0.,  0.,  0.,  0.,  0.,  4.,  3.,  0.,  0.,  0.,  4.,\n",
       "         0.,  0.,  4.,  3.,  0.,  0.,  0.,  0.,  0.,  0.,  0.,  4.,  0.,\n",
       "         0.,  3.,  0.,  0.,  0.,  0.,  3.,  0.,  0.,  0.,  0.,  2.,  0.,\n",
       "         0.,  0.,  0.,  4.,  0.,  0.,  0.,  0.,  0.,  0.,  0.,  0.,  0.,\n",
       "         3.,  0.,  3.,  3.,  0.,  4.,  0.,  3.,  0.,  0.,  3.,  0.,  0.,\n",
       "         0.,  0.,  0.,  0.,  3.,  0.,  0.,  0.,  0.,  0.,  0.,  0.,  0.,\n",
       "         0.,  0.,  0.,  0.,  0.,  0.,  0.,  0.,  0.,  0.,  0.,  0.,  0.,\n",
       "         0.,  0.,  0.,  0.,  0.,  0.,  0.,  0.,  0.,  0.,  0.,  0.,  0.,\n",
       "         0.,  0.,  4.,  0.,  0.,  3.,  0.,  0.,  0.,  0.,  0.,  0.,  0.,\n",
       "         4.,  0.,  0.,  0.,  0.,  0.,  0.,  0.],\n",
       "       [ 0.,  0.,  0.,  0.,  2.,  0.,  0.,  0.,  0.,  0.,  0.,  0.,  0.,\n",
       "         0.,  0.,  0.,  0.,  0.,  0.,  0.,  0.,  0.,  0.,  0.,  0.,  0.,\n",
       "         0.,  0.,  0.,  0.,  0.,  0.,  0.,  0.,  0.,  0.,  0.,  0.,  0.,\n",
       "         0.,  0.,  0.,  0.,  0.,  0.,  0.,  0.,  0.,  0.,  0.,  0.,  0.,\n",
       "         0.,  0.,  0.,  0.,  0.,  0.,  0.,  0.,  0.,  0.,  0.,  0.,  0.,\n",
       "         0.,  0.,  0.,  0.,  0.,  0.,  0.,  0.,  0.,  0.,  0.,  0.,  0.,\n",
       "         0.,  0.,  0.,  0.,  0.,  0.,  0.,  0.,  0.,  0.,  0.,  0.,  0.,\n",
       "         0.,  0.,  0.,  0.,  0.,  3.,  0.,  0.,  0.,  0.,  0.,  0.,  0.,\n",
       "         0.,  0.,  0.,  0.,  0.,  0.,  0.,  0.,  0.,  0.,  0.,  0.,  0.,\n",
       "         0.,  0.,  0.,  0.,  0.,  0.,  0.,  0.,  0.,  0.,  0.,  0.,  0.,\n",
       "         0.,  0.,  0.,  0.,  0.,  0.,  0.,  0.,  0.,  0.,  0.,  0.,  0.,\n",
       "         0.,  3.,  0.,  0.,  0.,  0.,  2.,  0.,  0.,  0.,  0.,  0.,  0.,\n",
       "         0.,  0.,  0.,  3.,  0.,  0.,  0.,  0.,  0.,  0.,  3.,  0.,  0.,\n",
       "         0.,  0.,  3.,  3.,  4.,  0.,  0.,  0.,  0.,  0.,  3.,  0.,  0.,\n",
       "         0.,  0.,  0.,  0.,  4.,  0.,  0.,  0.,  0.,  4.,  0.,  0.,  0.,\n",
       "         0.,  0.,  0.,  0.,  0.,  0.,  0.,  3.,  0.,  0.,  0.,  0.,  0.,\n",
       "         0.,  0.,  0.,  0.,  0.,  0.,  0.,  0.,  0.,  0.,  0.,  0.,  0.,\n",
       "         0.,  0.,  0.,  0.,  0.,  0.,  0.,  0.,  0.,  0.,  0.,  0.,  0.,\n",
       "         0.,  0.,  0.,  0.,  0.,  0.,  0.,  0.],\n",
       "       [ 0.,  0.,  0.,  0.,  2.,  0.,  3.,  0.,  0.,  3.,  0.,  3.,  0.,\n",
       "         0.,  0.,  0.,  0.,  0.,  3.,  0.,  0.,  0.,  0.,  0.,  0.,  0.,\n",
       "         0.,  3.,  0.,  0.,  0.,  0.,  4.,  0.,  0.,  3.,  0.,  0.,  0.,\n",
       "         0.,  0.,  0.,  0.,  0.,  3.,  0.,  0.,  0.,  0.,  3.,  0.,  0.,\n",
       "         0.,  0.,  0.,  0.,  0.,  0.,  0.,  0.,  0.,  0.,  0.,  3.,  2.,\n",
       "         0.,  0.,  3.,  0.,  0.,  0.,  3.,  0.,  0.,  0.,  0.,  3.,  0.,\n",
       "         0.,  0.,  0.,  0.,  0.,  2.,  0.,  0.,  0.,  0.,  0.,  3.,  0.,\n",
       "         0.,  3.,  0.,  0.,  0.,  3.,  0.,  2.,  0.,  0.,  0.,  0.,  0.,\n",
       "         3.,  3.,  0.,  0.,  0.,  0.,  0.,  0.,  0.,  0.,  0.,  0.,  2.,\n",
       "         0.,  0.,  2.,  0.,  0.,  3.,  0.,  0.,  2.,  3.,  0.,  3.,  0.,\n",
       "         0.,  0.,  4.,  3.,  0.,  0.,  3.,  0.,  3.,  0.,  0.,  4.,  0.,\n",
       "         0.,  3.,  3.,  0.,  0.,  0.,  2.,  0.,  0.,  0.,  0.,  2.,  0.,\n",
       "         0.,  0.,  0.,  3.,  0.,  0.,  0.,  0.,  0.,  0.,  0.,  3.,  3.,\n",
       "         3.,  0.,  2.,  2.,  0.,  0.,  0.,  0.,  0.,  0.,  3.,  0.,  0.,\n",
       "         0.,  0.,  0.,  0.,  4.,  3.,  3.,  0.,  0.,  4.,  0.,  0.,  0.,\n",
       "         2.,  0.,  0.,  0.,  0.,  0.,  0.,  3.,  0.,  0.,  0.,  0.,  0.,\n",
       "         0.,  0.,  0.,  0.,  0.,  3.,  0.,  3.,  0.,  0.,  0.,  0.,  0.,\n",
       "         0.,  0.,  0.,  4.,  0.,  3.,  0.,  0.,  0.,  0.,  0.,  0.,  0.,\n",
       "         0.,  0.,  0.,  0.,  0.,  0.,  0.,  0.]])"
      ]
     },
     "execution_count": 54,
     "metadata": {},
     "output_type": "execute_result"
    }
   ],
   "source": [
    "matrix[0:3]"
   ]
  },
  {
   "cell_type": "code",
   "execution_count": 26,
   "metadata": {
    "collapsed": false
   },
   "outputs": [
    {
     "name": "stdout",
     "output_type": "stream",
     "text": [
      "Sparsity: 18.79%\n"
     ]
    }
   ],
   "source": [
    "sparsity = float(len(matrix.nonzero()[0]))\n",
    "sparsity /= (matrix.shape[0] * matrix.shape[1])\n",
    "sparsity *= 100\n",
    "print 'Sparsity: {:4.2f}%'.format(sparsity)"
   ]
  },
  {
   "cell_type": "markdown",
   "metadata": {},
   "source": [
    "In this dataset, every user has rated at least 20 movies which results in a reasonable sparsity of 6.3%. This means that 6.3% of the user-item ratings have a value. Note that, although we filled in missing ratings as 0, we should not assume these values to truly be zero. More appropriately, they are just empty entries. We will split our data into training and test sets by removing 10 ratings per user from the training set and placing them in the test set."
   ]
  },
  {
   "cell_type": "code",
   "execution_count": 30,
   "metadata": {
    "collapsed": false
   },
   "outputs": [],
   "source": [
    "def train_test_split(matrix):\n",
    "    test = np.zeros(matrix.shape)\n",
    "    train = matrix.copy()\n",
    "    for user in xrange(matrix.shape[0]):\n",
    "        test_ratings = np.random.choice(matrix[user, :].nonzero()[0], \n",
    "                                        size=10, \n",
    "                                        replace=False)\n",
    "        train[user, test_ratings] = 0.\n",
    "        test[user, test_ratings] = matrix[user, test_ratings]\n",
    "        \n",
    "    # Test and training are truly disjoint\n",
    "    assert(np.all((train * test) == 0)) \n",
    "    return train, test"
   ]
  },
  {
   "cell_type": "code",
   "execution_count": 32,
   "metadata": {
    "collapsed": false
   },
   "outputs": [],
   "source": [
    "train, test = train_test_split(matrix)"
   ]
  },
  {
   "cell_type": "code",
   "execution_count": 33,
   "metadata": {
    "collapsed": true
   },
   "outputs": [],
   "source": [
    "def fast_similarity(ratings, kind='user', epsilon=1e-9):\n",
    "    # epsilon -> small number for handling dived-by-zero errors\n",
    "    if kind == 'user':\n",
    "        sim = ratings.dot(ratings.T) + epsilon\n",
    "    elif kind == 'item':\n",
    "        sim = ratings.T.dot(ratings) + epsilon\n",
    "    norms = np.array([np.sqrt(np.diagonal(sim))])\n",
    "    return (sim / norms / norms.T)"
   ]
  },
  {
   "cell_type": "code",
   "execution_count": 34,
   "metadata": {
    "collapsed": false
   },
   "outputs": [
    {
     "name": "stdout",
     "output_type": "stream",
     "text": [
      "The slowest run took 41.79 times longer than the fastest. This could mean that an intermediate result is being cached \n",
      "10000 loops, best of 3: 167 µs per loop\n"
     ]
    }
   ],
   "source": [
    "%timeit fast_similarity(train, kind='user')"
   ]
  },
  {
   "cell_type": "code",
   "execution_count": 35,
   "metadata": {
    "collapsed": false
   },
   "outputs": [
    {
     "name": "stdout",
     "output_type": "stream",
     "text": [
      "[[  1.00000000e+00   7.90569415e-06   1.05409255e-05   4.38529010e-06]\n",
      " [  7.90569415e-06   1.00000000e+00   8.33333333e-11   5.54700196e-01]\n",
      " [  1.05409255e-05   8.33333333e-11   1.00000000e+00   4.62250163e-11]\n",
      " [  4.38529010e-06   5.54700196e-01   4.62250163e-11   1.00000000e+00]]\n"
     ]
    }
   ],
   "source": [
    "user_similarity = fast_similarity(train, kind='user')\n",
    "item_similarity = fast_similarity(train, kind='item')\n",
    "print item_similarity[:4, :4]"
   ]
  },
  {
   "cell_type": "code",
   "execution_count": 36,
   "metadata": {
    "collapsed": true
   },
   "outputs": [],
   "source": [
    "def predict_fast_simple(ratings, similarity, kind='user'):\n",
    "    if kind == 'user':\n",
    "        return similarity.dot(ratings) / np.array([np.abs(similarity).sum(axis=1)]).T\n",
    "    elif kind == 'item':\n",
    "        return ratings.dot(similarity) / np.array([np.abs(similarity).sum(axis=1)])"
   ]
  },
  {
   "cell_type": "code",
   "execution_count": 37,
   "metadata": {
    "collapsed": false
   },
   "outputs": [
    {
     "name": "stdout",
     "output_type": "stream",
     "text": [
      "1000 loops, best of 3: 282 µs per loop\n"
     ]
    }
   ],
   "source": [
    "%timeit predict_fast_simple(train, user_similarity, kind='user')"
   ]
  },
  {
   "cell_type": "code",
   "execution_count": 38,
   "metadata": {
    "collapsed": true
   },
   "outputs": [],
   "source": [
    "from sklearn.metrics import mean_squared_error\n",
    "\n",
    "def get_mse(pred, actual):\n",
    "    # Ignore nonzero terms.\n",
    "    pred = pred[actual.nonzero()].flatten()\n",
    "    actual = actual[actual.nonzero()].flatten()\n",
    "    return mean_squared_error(pred, actual)"
   ]
  },
  {
   "cell_type": "code",
   "execution_count": 39,
   "metadata": {
    "collapsed": false
   },
   "outputs": [
    {
     "name": "stdout",
     "output_type": "stream",
     "text": [
      "User-based CF MSE: 3.60681917086\n",
      "Item-based CF MSE: 5.53241252697\n"
     ]
    }
   ],
   "source": [
    "item_prediction = predict_fast_simple(train, item_similarity, kind='item')\n",
    "user_prediction = predict_fast_simple(train, user_similarity, kind='user')\n",
    "\n",
    "print 'User-based CF MSE: ' + str(get_mse(user_prediction, test))\n",
    "print 'Item-based CF MSE: ' + str(get_mse(item_prediction, test))"
   ]
  },
  {
   "cell_type": "code",
   "execution_count": 40,
   "metadata": {
    "collapsed": true
   },
   "outputs": [],
   "source": [
    "def predict_topk(ratings, similarity, kind='user', k=40):\n",
    "    pred = np.zeros(ratings.shape)\n",
    "    if kind == 'user':\n",
    "        for i in xrange(ratings.shape[0]):\n",
    "            top_k_users = [np.argsort(similarity[:,i])[:-k-1:-1]]\n",
    "            for j in xrange(ratings.shape[1]):\n",
    "                pred[i, j] = similarity[i, :][top_k_users].dot(ratings[:, j][top_k_users]) \n",
    "                pred[i, j] /= np.sum(np.abs(similarity[i, :][top_k_users]))\n",
    "    if kind == 'item':\n",
    "        for j in xrange(ratings.shape[1]):\n",
    "            top_k_items = [np.argsort(similarity[:,j])[:-k-1:-1]]\n",
    "            for i in xrange(ratings.shape[0]):\n",
    "                pred[i, j] = similarity[j, :][top_k_items].dot(ratings[i, :][top_k_items].T) \n",
    "                pred[i, j] /= np.sum(np.abs(similarity[j, :][top_k_items]))        \n",
    "    \n",
    "    return pred"
   ]
  },
  {
   "cell_type": "code",
   "execution_count": 41,
   "metadata": {
    "collapsed": false
   },
   "outputs": [
    {
     "name": "stdout",
     "output_type": "stream",
     "text": [
      "Top-k User-based CF MSE: 3.26394565037\n",
      "Top-k Item-based CF MSE: 3.73013482554\n"
     ]
    }
   ],
   "source": [
    "pred = predict_topk(train, user_similarity, kind='user', k=40)\n",
    "print 'Top-k User-based CF MSE: ' + str(get_mse(pred, test))\n",
    "\n",
    "pred = predict_topk(train, item_similarity, kind='item', k=40)\n",
    "print 'Top-k Item-based CF MSE: ' + str(get_mse(pred, test))\n"
   ]
  },
  {
   "cell_type": "code",
   "execution_count": 48,
   "metadata": {
    "collapsed": false
   },
   "outputs": [
    {
     "data": {
      "text/plain": [
       "(array([[ 0.        ,  0.        ,  0.10199197, ...,  0.        ,\n",
       "          0.27220323,  0.17439026],\n",
       "        [ 0.        ,  0.        ,  0.03504058, ...,  0.        ,\n",
       "          0.13415442,  0.03740429],\n",
       "        [ 0.        ,  0.        ,  0.24494453, ...,  0.10829116,\n",
       "          0.51138048,  0.44442624],\n",
       "        ..., \n",
       "        [ 0.        ,  0.        ,  0.08804395, ...,  0.        ,\n",
       "          0.14356199,  0.10711839],\n",
       "        [ 0.        ,  0.        ,  0.34176215, ...,  0.05185545,\n",
       "          0.64290343,  0.51473021],\n",
       "        [ 0.        ,  0.        ,  0.        , ...,  0.        ,\n",
       "          0.35658483,  0.22751672]]),\n",
       " array([[ 0.,  0.,  0., ...,  0.,  0.,  0.],\n",
       "        [ 0.,  0.,  0., ...,  0.,  0.,  0.],\n",
       "        [ 0.,  0.,  0., ...,  0.,  0.,  0.],\n",
       "        ..., \n",
       "        [ 0.,  0.,  0., ...,  0.,  0.,  0.],\n",
       "        [ 0.,  0.,  0., ...,  0.,  0.,  0.],\n",
       "        [ 0.,  0.,  0., ...,  0.,  0.,  0.]]))"
      ]
     },
     "execution_count": 48,
     "metadata": {},
     "output_type": "execute_result"
    }
   ],
   "source": [
    "(pred,test)"
   ]
  },
  {
   "cell_type": "code",
   "execution_count": 49,
   "metadata": {
    "collapsed": true
   },
   "outputs": [],
   "source": [
    "k_array = [5, 15, 30, 50, 100, 200]\n",
    "user_train_mse = []\n",
    "user_test_mse = []\n",
    "item_test_mse = []\n",
    "item_train_mse = []\n",
    "\n",
    "def get_mse(pred, actual):\n",
    "    pred = pred[actual.nonzero()].flatten()\n",
    "    actual = actual[actual.nonzero()].flatten()\n",
    "    return mean_squared_error(pred, actual)\n",
    "\n",
    "for k in k_array:\n",
    "    user_pred = predict_topk(train, user_similarity, kind='user', k=k)\n",
    "    item_pred = predict_topk(train, item_similarity, kind='item', k=k)\n",
    "    \n",
    "    user_train_mse += [get_mse(user_pred, train)]\n",
    "    user_test_mse += [get_mse(user_pred, test)]\n",
    "    \n",
    "    item_train_mse += [get_mse(item_pred, train)]\n",
    "    item_test_mse += [get_mse(item_pred, test)]  "
   ]
  },
  {
   "cell_type": "code",
   "execution_count": 50,
   "metadata": {
    "collapsed": false
   },
   "outputs": [
    {
     "data": {
      "image/png": "[encoded data removed]",
      "text/plain": [
       "<matplotlib.figure.Figure at 0x10ce19550>"
      ]
     },
     "metadata": {},
     "output_type": "display_data"
    }
   ],
   "source": [
    "%matplotlib inline\n",
    "import matplotlib.pyplot as plt\n",
    "import seaborn as sns\n",
    "sns.set()\n",
    "\n",
    "pal = sns.color_palette(\"Set2\", 2)\n",
    "\n",
    "plt.figure(figsize=(8, 8))\n",
    "plt.plot(k_array, user_train_mse, c=pal[0], label='User-based train', alpha=0.5, linewidth=5)\n",
    "plt.plot(k_array, user_test_mse, c=pal[0], label='User-based test', linewidth=5)\n",
    "plt.plot(k_array, item_train_mse, c=pal[1], label='Item-based train', alpha=0.5, linewidth=5)\n",
    "plt.plot(k_array, item_test_mse, c=pal[1], label='Item-based test', linewidth=5)\n",
    "plt.legend(loc='best', fontsize=20)\n",
    "plt.xticks(fontsize=16);\n",
    "plt.yticks(fontsize=16);\n",
    "plt.xlabel('k', fontsize=30);\n",
    "plt.ylabel('MSE', fontsize=30);"
   ]
  },
  {
   "cell_type": "markdown",
   "metadata": {},
   "source": [
    "## APPENDIX"
   ]
  },
  {
   "cell_type": "code",
   "execution_count": 10,
   "metadata": {
    "collapsed": true
   },
   "outputs": [],
   "source": [
    "#neighborhood areas courtesy of Spencer (units unknown)\n",
    "\n",
    "neighborhood_area = \"\"\"Seacliff, 584559\n",
    "Lake Street, 486588\n",
    "Presidio National Park, 7785081\n",
    "Presidio Terrace, 416901\n",
    "Inner Richmond, 2873215\n",
    "Sutro Heights, 713105\n",
    "Lincoln Park / Ft. Miley, 1575630\n",
    "Outer Richmond, 3745203\n",
    "Golden Gate Park, 5535110\n",
    "Presidio Heights, 728466\n",
    "Laurel Heights / Jordan Park, 739172\n",
    "Lone Mountain, 1030917\n",
    "Anza Vista, 381957\n",
    "Cow Hollow, 500591\n",
    "Union Street, 616335\n",
    "Marina, 1860177\n",
    "Telegraph Hill, 321562\n",
    "Downtown / Union Square, 456142\n",
    "Tenderloin, 677681\n",
    "Civic Center, 667217\n",
    "Hayes Valley, 370172\n",
    "Alamo Square, 313007\n",
    "Panhandle, 722099\n",
    "Haight Ashbury, 427566\n",
    "Lower Haight, 561154\n",
    "Mint Hill, 193861\n",
    "Duboce Triangle, 543148\n",
    "Cole Valley, 234774\n",
    "Rincon Hill, 478124\n",
    "South Beach, 879238\n",
    "South of Market, 3926306\n",
    "Showplace Square, 804205\n",
    "Mission Bay, 2032371\n",
    "Yerba Buena Island, 813945\n",
    "Treasure Island, 2106231\n",
    "Mission Dolores, 1075383\n",
    "Castro, 309558\n",
    "Outer Sunset, 8933628\n",
    "Parkside, 3860649\n",
    "Stonestown, 882009\n",
    "Parkmerced, 1596457\n",
    "Lakeshore, 7973826\n",
    "Golden Gate Heights, 2117466\n",
    "Forest Hill, 650261\n",
    "West Portal, 917441\n",
    "Clarendon Heights, 689473\n",
    "Midtown Terrace, 696602\n",
    "Laguna Honda, 1086186\n",
    "Upper Market, 685945\n",
    "Dolores Heights, 1181255\n",
    "Mission, 3947711\n",
    "Potrero Hill, 2971407\n",
    "Dogpatch, 537768\n",
    "Central Waterfront, 3297821\n",
    "Diamond Heights, 804222\n",
    "Fairmount, 747602\n",
    "Peralta Heights, 383378\n",
    "Holly Park, 568742\n",
    "Merced Manor, 732556\n",
    "Balboa Terrace, 351418\n",
    "Ingleside, 1199810\n",
    "Merced Heights, 960282\n",
    "Outer Mission, 992289\n",
    "Ingleside Terraces, 779681\n",
    "Mt. Davidson Manor, 289695\n",
    "Monterey Heights, 333667\n",
    "Westwood Highlands, 185864\n",
    "Westwood Park, 718318\n",
    "Miraloma Park, 1223401\n",
    "Crocker Amazon, 1834895\n",
    "McLaren Park, 1730345\n",
    "Sunnydale, 475674\n",
    "Visitacion Valley, 1579119\n",
    "India Basin, 1028498\n",
    "Hunters Point, 3757633\n",
    "Candlestick Point SRA, 2009785\n",
    "Northern Waterfront, 728122\n",
    "Cayuga, 938958\n",
    "Oceanview, 1280145\n",
    "Apparel City, 467624\n",
    "Bernal Heights, 2186907\n",
    "Noe Valley, 1839016\n",
    "Produce Market, 1086990\n",
    "Bayview, 3265434\n",
    "Silver Terrace, 1304052\n",
    "Bret Harte, 1069454\n",
    "Little Hollywood, 560864\n",
    "Portola, 2385740\n",
    "University Mound, 726962\n",
    "St. Marys Park, 519616\n",
    "Mission Terrace, 1614676\n",
    "Excelsior, 2120210\n",
    "Sunnyside, 1460251\n",
    "Glen Park, 1136228\n",
    "Aquatic Park / Ft. Mason, 536736\n",
    "Fishermans Wharf, 839951\n",
    "Cathedral Hill, 622632\n",
    "Japantown, 370871\n",
    "Pacific Heights, 2268224\n",
    "Lower Pacific Heights, 769251\n",
    "Western Addition, 1201797\n",
    "Chinatown, 403662\n",
    "Nob Hill, 810649\n",
    "Lower Nob Hill, 546137\n",
    "Polk Gulch, 382432\n",
    "North Beach, 737700\n",
    "Russian Hill, 1200788\n",
    "Financial District, 1049942\n",
    "Inner Sunset, 1425791\n",
    "Parnassus Heights, 916689\n",
    "Forest Knolls, 569284\n",
    "Buena Vista, 861252\n",
    "Corona Heights, 360528\n",
    "Ashbury Heights, 435637\n",
    "Eureka Valley, 961785\n",
    "St. Francis Wood, 548679\n",
    "Sherwood Forest, 684025\"\"\"\n",
    "\n",
    "area_df = pd.DataFrame([x.split(',') for x in neighborhood_area.split('\\n')], columns=['neighborhood', 'area'])\n",
    "area_df['area'] = area_df.area.astype(int)\n",
    "area_df['miles'] = area_df.area/(5280*5280)\n",
    "\n",
    "# only count trees that don't have a bad condition\n",
    "density = fuf[~fuf.condition.isin(bad_condition)].groupby('neighborhood').size().reset_index().rename(columns={0:'tree_cnt'})\n",
    "density = pd.merge(density, area_df, on='neighborhood')\n",
    "density['density'] = density.apply(lambda x: x.tree_cnt/x.miles, axis=1)"
   ]
  },
  {
   "cell_type": "code",
   "execution_count": null,
   "metadata": {
    "collapsed": true
   },
   "outputs": [],
   "source": []
  },
  {
   "cell_type": "code",
   "execution_count": 17,
   "metadata": {
    "collapsed": true
   },
   "outputs": [],
   "source": [
    "inv_csd = {v: k for k, v in csd.iteritems()}\n",
    "condition['condition_lable'] = condition.condition_score.apply(lambda x: inv_csd[int(round(x))] if x else x)"
   ]
  },
  {
   "cell_type": "code",
   "execution_count": 18,
   "metadata": {
    "collapsed": false
   },
   "outputs": [],
   "source": [
    "m = pd.merge(diversity, density, on='neighborhood', how='left')\n",
    "m = pd.merge(m, condition, on='neighborhood', how='left')\n",
    "m = pd.merge(m, vacant, on='neighborhood', how='left')\n",
    "m = pd.merge(m, hardscape, on='neighborhood', how='left')\n",
    "\n",
    "m = m.rename(columns ={'neighborhood':'Neighborhood',\n",
    "              'not_diverse':'Diversity', \n",
    "              'condition_score':'Condition', \n",
    "              'vacant_lot_metric':'Vacancies', \n",
    "              'hardscape_metric':'Sidewalk Damage',\n",
    "              'density':'Density',\n",
    "              'condition_lable':'Condition Label',\n",
    "              'tree_cnt':'Tree Count'})\n",
    "\n",
    "m = m[['Neighborhood', 'Density', 'Diversity', 'Condition', 'Condition Label', 'Vacancies', 'Sidewalk Damage', 'Tree Count']]\n",
    "m = m[~m.Density.isnull()]"
   ]
  },
  {
   "cell_type": "code",
   "execution_count": 19,
   "metadata": {
    "collapsed": false
   },
   "outputs": [
    {
     "name": "stdout",
     "output_type": "stream",
     "text": [
      "<class 'pandas.core.frame.DataFrame'>\n",
      "Int64Index: 103 entries, 0 to 103\n",
      "Data columns (total 8 columns):\n",
      "Neighborhood       103 non-null object\n",
      "Density            103 non-null float64\n",
      "Diversity          103 non-null int64\n",
      "Condition          103 non-null float64\n",
      "Condition Label    103 non-null object\n",
      "Vacancies          103 non-null float64\n",
      "Sidewalk Damage    103 non-null float64\n",
      "Tree Count         103 non-null float64\n",
      "dtypes: float64(5), int64(1), object(2)\n",
      "memory usage: 7.2+ KB\n"
     ]
    }
   ],
   "source": [
    "m.info()"
   ]
  },
  {
   "cell_type": "code",
   "execution_count": 23,
   "metadata": {
    "collapsed": false
   },
   "outputs": [],
   "source": [
    "# Scale metrics from 0-10 for display purposes\n",
    "from sklearn.preprocessing import MinMaxScaler\n",
    "scaler = MinMaxScaler()\n",
    "\n",
    "scale_df = m[['Density', 'Diversity', 'Condition', 'Vacancies', 'Sidewalk Damage']]\n",
    "scale_df = pd.DataFrame(scaler.fit_transform(scale_df), columns=scale_df.columns)*10\n",
    "scale_df = scale_df.round()\n",
    "\n",
    "scale_df['Neighborhood'] = m.Neighborhood"
   ]
  },
  {
   "cell_type": "code",
   "execution_count": 24,
   "metadata": {
    "collapsed": false
   },
   "outputs": [
    {
     "data": {
      "text/html": [
       "<div>\n",
       "<table border=\"1\" class=\"dataframe\">\n",
       "  <thead>\n",
       "    <tr style=\"text-align: right;\">\n",
       "      <th></th>\n",
       "      <th>Density</th>\n",
       "      <th>Diversity</th>\n",
       "      <th>Condition</th>\n",
       "      <th>Vacancies</th>\n",
       "      <th>Sidewalk Damage</th>\n",
       "      <th>Neighborhood</th>\n",
       "    </tr>\n",
       "  </thead>\n",
       "  <tbody>\n",
       "    <tr>\n",
       "      <th>0</th>\n",
       "      <td>5.0</td>\n",
       "      <td>0.0</td>\n",
       "      <td>6.0</td>\n",
       "      <td>0.0</td>\n",
       "      <td>3.0</td>\n",
       "      <td>Alamo Square</td>\n",
       "    </tr>\n",
       "    <tr>\n",
       "      <th>1</th>\n",
       "      <td>4.0</td>\n",
       "      <td>3.0</td>\n",
       "      <td>6.0</td>\n",
       "      <td>0.0</td>\n",
       "      <td>2.0</td>\n",
       "      <td>Anza Vista</td>\n",
       "    </tr>\n",
       "    <tr>\n",
       "      <th>2</th>\n",
       "      <td>1.0</td>\n",
       "      <td>3.0</td>\n",
       "      <td>1.0</td>\n",
       "      <td>0.0</td>\n",
       "      <td>4.0</td>\n",
       "      <td>Aquatic Park / Ft. Mason</td>\n",
       "    </tr>\n",
       "    <tr>\n",
       "      <th>3</th>\n",
       "      <td>6.0</td>\n",
       "      <td>0.0</td>\n",
       "      <td>4.0</td>\n",
       "      <td>1.0</td>\n",
       "      <td>4.0</td>\n",
       "      <td>Ashbury Heights</td>\n",
       "    </tr>\n",
       "    <tr>\n",
       "      <th>4</th>\n",
       "      <td>3.0</td>\n",
       "      <td>3.0</td>\n",
       "      <td>4.0</td>\n",
       "      <td>2.0</td>\n",
       "      <td>3.0</td>\n",
       "      <td>Balboa Terrace</td>\n",
       "    </tr>\n",
       "    <tr>\n",
       "      <th>5</th>\n",
       "      <td>1.0</td>\n",
       "      <td>3.0</td>\n",
       "      <td>7.0</td>\n",
       "      <td>0.0</td>\n",
       "      <td>3.0</td>\n",
       "      <td>Bayview</td>\n",
       "    </tr>\n",
       "    <tr>\n",
       "      <th>6</th>\n",
       "      <td>5.0</td>\n",
       "      <td>0.0</td>\n",
       "      <td>2.0</td>\n",
       "      <td>1.0</td>\n",
       "      <td>4.0</td>\n",
       "      <td>Bernal Heights</td>\n",
       "    </tr>\n",
       "    <tr>\n",
       "      <th>7</th>\n",
       "      <td>1.0</td>\n",
       "      <td>3.0</td>\n",
       "      <td>8.0</td>\n",
       "      <td>0.0</td>\n",
       "      <td>2.0</td>\n",
       "      <td>Bret Harte</td>\n",
       "    </tr>\n",
       "    <tr>\n",
       "      <th>8</th>\n",
       "      <td>4.0</td>\n",
       "      <td>0.0</td>\n",
       "      <td>4.0</td>\n",
       "      <td>1.0</td>\n",
       "      <td>4.0</td>\n",
       "      <td>Buena Vista</td>\n",
       "    </tr>\n",
       "    <tr>\n",
       "      <th>9</th>\n",
       "      <td>7.0</td>\n",
       "      <td>0.0</td>\n",
       "      <td>1.0</td>\n",
       "      <td>0.0</td>\n",
       "      <td>4.0</td>\n",
       "      <td>Castro</td>\n",
       "    </tr>\n",
       "    <tr>\n",
       "      <th>10</th>\n",
       "      <td>2.0</td>\n",
       "      <td>7.0</td>\n",
       "      <td>7.0</td>\n",
       "      <td>0.0</td>\n",
       "      <td>3.0</td>\n",
       "      <td>Cathedral Hill</td>\n",
       "    </tr>\n",
       "    <tr>\n",
       "      <th>11</th>\n",
       "      <td>3.0</td>\n",
       "      <td>0.0</td>\n",
       "      <td>3.0</td>\n",
       "      <td>3.0</td>\n",
       "      <td>3.0</td>\n",
       "      <td>Cayuga</td>\n",
       "    </tr>\n",
       "    <tr>\n",
       "      <th>12</th>\n",
       "      <td>1.0</td>\n",
       "      <td>3.0</td>\n",
       "      <td>8.0</td>\n",
       "      <td>3.0</td>\n",
       "      <td>1.0</td>\n",
       "      <td>Central Waterfront</td>\n",
       "    </tr>\n",
       "    <tr>\n",
       "      <th>13</th>\n",
       "      <td>1.0</td>\n",
       "      <td>7.0</td>\n",
       "      <td>6.0</td>\n",
       "      <td>0.0</td>\n",
       "      <td>1.0</td>\n",
       "      <td>Chinatown</td>\n",
       "    </tr>\n",
       "    <tr>\n",
       "      <th>14</th>\n",
       "      <td>1.0</td>\n",
       "      <td>3.0</td>\n",
       "      <td>5.0</td>\n",
       "      <td>0.0</td>\n",
       "      <td>1.0</td>\n",
       "      <td>Civic Center</td>\n",
       "    </tr>\n",
       "    <tr>\n",
       "      <th>15</th>\n",
       "      <td>0.0</td>\n",
       "      <td>0.0</td>\n",
       "      <td>1.0</td>\n",
       "      <td>1.0</td>\n",
       "      <td>0.0</td>\n",
       "      <td>Clarendon Heights</td>\n",
       "    </tr>\n",
       "    <tr>\n",
       "      <th>16</th>\n",
       "      <td>6.0</td>\n",
       "      <td>0.0</td>\n",
       "      <td>5.0</td>\n",
       "      <td>0.0</td>\n",
       "      <td>5.0</td>\n",
       "      <td>Cole Valley</td>\n",
       "    </tr>\n",
       "    <tr>\n",
       "      <th>17</th>\n",
       "      <td>4.0</td>\n",
       "      <td>0.0</td>\n",
       "      <td>2.0</td>\n",
       "      <td>1.0</td>\n",
       "      <td>6.0</td>\n",
       "      <td>Corona Heights</td>\n",
       "    </tr>\n",
       "    <tr>\n",
       "      <th>18</th>\n",
       "      <td>0.0</td>\n",
       "      <td>7.0</td>\n",
       "      <td>8.0</td>\n",
       "      <td>0.0</td>\n",
       "      <td>3.0</td>\n",
       "      <td>Cow Hollow</td>\n",
       "    </tr>\n",
       "    <tr>\n",
       "      <th>19</th>\n",
       "      <td>1.0</td>\n",
       "      <td>0.0</td>\n",
       "      <td>3.0</td>\n",
       "      <td>4.0</td>\n",
       "      <td>7.0</td>\n",
       "      <td>Crocker Amazon</td>\n",
       "    </tr>\n",
       "    <tr>\n",
       "      <th>20</th>\n",
       "      <td>2.0</td>\n",
       "      <td>0.0</td>\n",
       "      <td>0.0</td>\n",
       "      <td>3.0</td>\n",
       "      <td>1.0</td>\n",
       "      <td>Diamond Heights</td>\n",
       "    </tr>\n",
       "    <tr>\n",
       "      <th>21</th>\n",
       "      <td>4.0</td>\n",
       "      <td>3.0</td>\n",
       "      <td>7.0</td>\n",
       "      <td>2.0</td>\n",
       "      <td>1.0</td>\n",
       "      <td>Dogpatch</td>\n",
       "    </tr>\n",
       "    <tr>\n",
       "      <th>22</th>\n",
       "      <td>6.0</td>\n",
       "      <td>0.0</td>\n",
       "      <td>2.0</td>\n",
       "      <td>1.0</td>\n",
       "      <td>4.0</td>\n",
       "      <td>Dolores Heights</td>\n",
       "    </tr>\n",
       "    <tr>\n",
       "      <th>23</th>\n",
       "      <td>0.0</td>\n",
       "      <td>3.0</td>\n",
       "      <td>5.0</td>\n",
       "      <td>0.0</td>\n",
       "      <td>0.0</td>\n",
       "      <td>Downtown / Union Square</td>\n",
       "    </tr>\n",
       "    <tr>\n",
       "      <th>24</th>\n",
       "      <td>7.0</td>\n",
       "      <td>0.0</td>\n",
       "      <td>1.0</td>\n",
       "      <td>1.0</td>\n",
       "      <td>4.0</td>\n",
       "      <td>Duboce Triangle</td>\n",
       "    </tr>\n",
       "    <tr>\n",
       "      <th>25</th>\n",
       "      <td>6.0</td>\n",
       "      <td>0.0</td>\n",
       "      <td>0.0</td>\n",
       "      <td>0.0</td>\n",
       "      <td>5.0</td>\n",
       "      <td>Eureka Valley</td>\n",
       "    </tr>\n",
       "    <tr>\n",
       "      <th>26</th>\n",
       "      <td>3.0</td>\n",
       "      <td>0.0</td>\n",
       "      <td>4.0</td>\n",
       "      <td>2.0</td>\n",
       "      <td>7.0</td>\n",
       "      <td>Excelsior</td>\n",
       "    </tr>\n",
       "    <tr>\n",
       "      <th>27</th>\n",
       "      <td>5.0</td>\n",
       "      <td>0.0</td>\n",
       "      <td>3.0</td>\n",
       "      <td>1.0</td>\n",
       "      <td>5.0</td>\n",
       "      <td>Fairmount</td>\n",
       "    </tr>\n",
       "    <tr>\n",
       "      <th>28</th>\n",
       "      <td>0.0</td>\n",
       "      <td>7.0</td>\n",
       "      <td>7.0</td>\n",
       "      <td>0.0</td>\n",
       "      <td>2.0</td>\n",
       "      <td>Financial District</td>\n",
       "    </tr>\n",
       "    <tr>\n",
       "      <th>29</th>\n",
       "      <td>0.0</td>\n",
       "      <td>7.0</td>\n",
       "      <td>3.0</td>\n",
       "      <td>0.0</td>\n",
       "      <td>5.0</td>\n",
       "      <td>Fishermans Wharf</td>\n",
       "    </tr>\n",
       "    <tr>\n",
       "      <th>...</th>\n",
       "      <td>...</td>\n",
       "      <td>...</td>\n",
       "      <td>...</td>\n",
       "      <td>...</td>\n",
       "      <td>...</td>\n",
       "      <td>...</td>\n",
       "    </tr>\n",
       "    <tr>\n",
       "      <th>73</th>\n",
       "      <td>5.0</td>\n",
       "      <td>0.0</td>\n",
       "      <td>6.0</td>\n",
       "      <td>0.0</td>\n",
       "      <td>1.0</td>\n",
       "      <td>Panhandle</td>\n",
       "    </tr>\n",
       "    <tr>\n",
       "      <th>74</th>\n",
       "      <td>2.0</td>\n",
       "      <td>3.0</td>\n",
       "      <td>5.0</td>\n",
       "      <td>1.0</td>\n",
       "      <td>4.0</td>\n",
       "      <td>Parkside</td>\n",
       "    </tr>\n",
       "    <tr>\n",
       "      <th>75</th>\n",
       "      <td>4.0</td>\n",
       "      <td>0.0</td>\n",
       "      <td>4.0</td>\n",
       "      <td>1.0</td>\n",
       "      <td>3.0</td>\n",
       "      <td>Parnassus Heights</td>\n",
       "    </tr>\n",
       "    <tr>\n",
       "      <th>76</th>\n",
       "      <td>4.0</td>\n",
       "      <td>0.0</td>\n",
       "      <td>3.0</td>\n",
       "      <td>0.0</td>\n",
       "      <td>5.0</td>\n",
       "      <td>Peralta Heights</td>\n",
       "    </tr>\n",
       "    <tr>\n",
       "      <th>77</th>\n",
       "      <td>2.0</td>\n",
       "      <td>0.0</td>\n",
       "      <td>3.0</td>\n",
       "      <td>1.0</td>\n",
       "      <td>5.0</td>\n",
       "      <td>Polk Gulch</td>\n",
       "    </tr>\n",
       "    <tr>\n",
       "      <th>78</th>\n",
       "      <td>5.0</td>\n",
       "      <td>0.0</td>\n",
       "      <td>7.0</td>\n",
       "      <td>2.0</td>\n",
       "      <td>1.0</td>\n",
       "      <td>Portola</td>\n",
       "    </tr>\n",
       "    <tr>\n",
       "      <th>79</th>\n",
       "      <td>9.0</td>\n",
       "      <td>0.0</td>\n",
       "      <td>4.0</td>\n",
       "      <td>1.0</td>\n",
       "      <td>3.0</td>\n",
       "      <td>Potrero Hill</td>\n",
       "    </tr>\n",
       "    <tr>\n",
       "      <th>80</th>\n",
       "      <td>0.0</td>\n",
       "      <td>7.0</td>\n",
       "      <td>3.0</td>\n",
       "      <td>2.0</td>\n",
       "      <td>0.0</td>\n",
       "      <td>Presidio Heights</td>\n",
       "    </tr>\n",
       "    <tr>\n",
       "      <th>81</th>\n",
       "      <td>5.0</td>\n",
       "      <td>0.0</td>\n",
       "      <td>6.0</td>\n",
       "      <td>3.0</td>\n",
       "      <td>1.0</td>\n",
       "      <td>Presidio National Park</td>\n",
       "    </tr>\n",
       "    <tr>\n",
       "      <th>82</th>\n",
       "      <td>0.0</td>\n",
       "      <td>3.0</td>\n",
       "      <td>10.0</td>\n",
       "      <td>0.0</td>\n",
       "      <td>0.0</td>\n",
       "      <td>Presidio Terrace</td>\n",
       "    </tr>\n",
       "    <tr>\n",
       "      <th>83</th>\n",
       "      <td>2.0</td>\n",
       "      <td>0.0</td>\n",
       "      <td>2.0</td>\n",
       "      <td>0.0</td>\n",
       "      <td>5.0</td>\n",
       "      <td>Rincon Hill</td>\n",
       "    </tr>\n",
       "    <tr>\n",
       "      <th>84</th>\n",
       "      <td>1.0</td>\n",
       "      <td>0.0</td>\n",
       "      <td>7.0</td>\n",
       "      <td>3.0</td>\n",
       "      <td>2.0</td>\n",
       "      <td>Russian Hill</td>\n",
       "    </tr>\n",
       "    <tr>\n",
       "      <th>85</th>\n",
       "      <td>1.0</td>\n",
       "      <td>0.0</td>\n",
       "      <td>0.0</td>\n",
       "      <td>4.0</td>\n",
       "      <td>3.0</td>\n",
       "      <td>Seacliff</td>\n",
       "    </tr>\n",
       "    <tr>\n",
       "      <th>86</th>\n",
       "      <td>1.0</td>\n",
       "      <td>3.0</td>\n",
       "      <td>5.0</td>\n",
       "      <td>1.0</td>\n",
       "      <td>2.0</td>\n",
       "      <td>Sherwood Forest</td>\n",
       "    </tr>\n",
       "    <tr>\n",
       "      <th>87</th>\n",
       "      <td>0.0</td>\n",
       "      <td>7.0</td>\n",
       "      <td>7.0</td>\n",
       "      <td>0.0</td>\n",
       "      <td>0.0</td>\n",
       "      <td>Showplace Square</td>\n",
       "    </tr>\n",
       "    <tr>\n",
       "      <th>88</th>\n",
       "      <td>1.0</td>\n",
       "      <td>3.0</td>\n",
       "      <td>7.0</td>\n",
       "      <td>1.0</td>\n",
       "      <td>2.0</td>\n",
       "      <td>Silver Terrace</td>\n",
       "    </tr>\n",
       "    <tr>\n",
       "      <th>89</th>\n",
       "      <td>7.0</td>\n",
       "      <td>0.0</td>\n",
       "      <td>4.0</td>\n",
       "      <td>1.0</td>\n",
       "      <td>0.0</td>\n",
       "      <td>South of Market</td>\n",
       "    </tr>\n",
       "    <tr>\n",
       "      <th>90</th>\n",
       "      <td>3.0</td>\n",
       "      <td>0.0</td>\n",
       "      <td>3.0</td>\n",
       "      <td>3.0</td>\n",
       "      <td>5.0</td>\n",
       "      <td>St. Francis Wood</td>\n",
       "    </tr>\n",
       "    <tr>\n",
       "      <th>91</th>\n",
       "      <td>5.0</td>\n",
       "      <td>0.0</td>\n",
       "      <td>2.0</td>\n",
       "      <td>2.0</td>\n",
       "      <td>3.0</td>\n",
       "      <td>St. Marys Park</td>\n",
       "    </tr>\n",
       "    <tr>\n",
       "      <th>92</th>\n",
       "      <td>4.0</td>\n",
       "      <td>3.0</td>\n",
       "      <td>7.0</td>\n",
       "      <td>10.0</td>\n",
       "      <td>1.0</td>\n",
       "      <td>Sunnyside</td>\n",
       "    </tr>\n",
       "    <tr>\n",
       "      <th>93</th>\n",
       "      <td>1.0</td>\n",
       "      <td>3.0</td>\n",
       "      <td>5.0</td>\n",
       "      <td>0.0</td>\n",
       "      <td>4.0</td>\n",
       "      <td>Sutro Heights</td>\n",
       "    </tr>\n",
       "    <tr>\n",
       "      <th>94</th>\n",
       "      <td>1.0</td>\n",
       "      <td>3.0</td>\n",
       "      <td>6.0</td>\n",
       "      <td>0.0</td>\n",
       "      <td>1.0</td>\n",
       "      <td>Telegraph Hill</td>\n",
       "    </tr>\n",
       "    <tr>\n",
       "      <th>95</th>\n",
       "      <td>1.0</td>\n",
       "      <td>3.0</td>\n",
       "      <td>5.0</td>\n",
       "      <td>0.0</td>\n",
       "      <td>4.0</td>\n",
       "      <td>Tenderloin</td>\n",
       "    </tr>\n",
       "    <tr>\n",
       "      <th>96</th>\n",
       "      <td>2.0</td>\n",
       "      <td>0.0</td>\n",
       "      <td>2.0</td>\n",
       "      <td>0.0</td>\n",
       "      <td>5.0</td>\n",
       "      <td>Union Street</td>\n",
       "    </tr>\n",
       "    <tr>\n",
       "      <th>97</th>\n",
       "      <td>3.0</td>\n",
       "      <td>0.0</td>\n",
       "      <td>0.0</td>\n",
       "      <td>2.0</td>\n",
       "      <td>3.0</td>\n",
       "      <td>University Mound</td>\n",
       "    </tr>\n",
       "    <tr>\n",
       "      <th>98</th>\n",
       "      <td>0.0</td>\n",
       "      <td>3.0</td>\n",
       "      <td>7.0</td>\n",
       "      <td>1.0</td>\n",
       "      <td>5.0</td>\n",
       "      <td>Upper Market</td>\n",
       "    </tr>\n",
       "    <tr>\n",
       "      <th>99</th>\n",
       "      <td>4.0</td>\n",
       "      <td>0.0</td>\n",
       "      <td>4.0</td>\n",
       "      <td>3.0</td>\n",
       "      <td>2.0</td>\n",
       "      <td>Visitacion Valley</td>\n",
       "    </tr>\n",
       "    <tr>\n",
       "      <th>100</th>\n",
       "      <td>6.0</td>\n",
       "      <td>0.0</td>\n",
       "      <td>6.0</td>\n",
       "      <td>0.0</td>\n",
       "      <td>2.0</td>\n",
       "      <td>West Portal</td>\n",
       "    </tr>\n",
       "    <tr>\n",
       "      <th>101</th>\n",
       "      <td>2.0</td>\n",
       "      <td>7.0</td>\n",
       "      <td>2.0</td>\n",
       "      <td>8.0</td>\n",
       "      <td>1.0</td>\n",
       "      <td>Western Addition</td>\n",
       "    </tr>\n",
       "    <tr>\n",
       "      <th>102</th>\n",
       "      <td>3.0</td>\n",
       "      <td>3.0</td>\n",
       "      <td>4.0</td>\n",
       "      <td>1.0</td>\n",
       "      <td>3.0</td>\n",
       "      <td>Westwood Highlands</td>\n",
       "    </tr>\n",
       "  </tbody>\n",
       "</table>\n",
       "<p>103 rows × 6 columns</p>\n",
       "</div>"
      ],
      "text/plain": [
       "     Density  Diversity  Condition  Vacancies  Sidewalk Damage  \\\n",
       "0        5.0        0.0        6.0        0.0              3.0   \n",
       "1        4.0        3.0        6.0        0.0              2.0   \n",
       "2        1.0        3.0        1.0        0.0              4.0   \n",
       "3        6.0        0.0        4.0        1.0              4.0   \n",
       "4        3.0        3.0        4.0        2.0              3.0   \n",
       "5        1.0        3.0        7.0        0.0              3.0   \n",
       "6        5.0        0.0        2.0        1.0              4.0   \n",
       "7        1.0        3.0        8.0        0.0              2.0   \n",
       "8        4.0        0.0        4.0        1.0              4.0   \n",
       "9        7.0        0.0        1.0        0.0              4.0   \n",
       "10       2.0        7.0        7.0        0.0              3.0   \n",
       "11       3.0        0.0        3.0        3.0              3.0   \n",
       "12       1.0        3.0        8.0        3.0              1.0   \n",
       "13       1.0        7.0        6.0        0.0              1.0   \n",
       "14       1.0        3.0        5.0        0.0              1.0   \n",
       "15       0.0        0.0        1.0        1.0              0.0   \n",
       "16       6.0        0.0        5.0        0.0              5.0   \n",
       "17       4.0        0.0        2.0        1.0              6.0   \n",
       "18       0.0        7.0        8.0        0.0              3.0   \n",
       "19       1.0        0.0        3.0        4.0              7.0   \n",
       "20       2.0        0.0        0.0        3.0              1.0   \n",
       "21       4.0        3.0        7.0        2.0              1.0   \n",
       "22       6.0        0.0        2.0        1.0              4.0   \n",
       "23       0.0        3.0        5.0        0.0              0.0   \n",
       "24       7.0        0.0        1.0        1.0              4.0   \n",
       "25       6.0        0.0        0.0        0.0              5.0   \n",
       "26       3.0        0.0        4.0        2.0              7.0   \n",
       "27       5.0        0.0        3.0        1.0              5.0   \n",
       "28       0.0        7.0        7.0        0.0              2.0   \n",
       "29       0.0        7.0        3.0        0.0              5.0   \n",
       "..       ...        ...        ...        ...              ...   \n",
       "73       5.0        0.0        6.0        0.0              1.0   \n",
       "74       2.0        3.0        5.0        1.0              4.0   \n",
       "75       4.0        0.0        4.0        1.0              3.0   \n",
       "76       4.0        0.0        3.0        0.0              5.0   \n",
       "77       2.0        0.0        3.0        1.0              5.0   \n",
       "78       5.0        0.0        7.0        2.0              1.0   \n",
       "79       9.0        0.0        4.0        1.0              3.0   \n",
       "80       0.0        7.0        3.0        2.0              0.0   \n",
       "81       5.0        0.0        6.0        3.0              1.0   \n",
       "82       0.0        3.0       10.0        0.0              0.0   \n",
       "83       2.0        0.0        2.0        0.0              5.0   \n",
       "84       1.0        0.0        7.0        3.0              2.0   \n",
       "85       1.0        0.0        0.0        4.0              3.0   \n",
       "86       1.0        3.0        5.0        1.0              2.0   \n",
       "87       0.0        7.0        7.0        0.0              0.0   \n",
       "88       1.0        3.0        7.0        1.0              2.0   \n",
       "89       7.0        0.0        4.0        1.0              0.0   \n",
       "90       3.0        0.0        3.0        3.0              5.0   \n",
       "91       5.0        0.0        2.0        2.0              3.0   \n",
       "92       4.0        3.0        7.0       10.0              1.0   \n",
       "93       1.0        3.0        5.0        0.0              4.0   \n",
       "94       1.0        3.0        6.0        0.0              1.0   \n",
       "95       1.0        3.0        5.0        0.0              4.0   \n",
       "96       2.0        0.0        2.0        0.0              5.0   \n",
       "97       3.0        0.0        0.0        2.0              3.0   \n",
       "98       0.0        3.0        7.0        1.0              5.0   \n",
       "99       4.0        0.0        4.0        3.0              2.0   \n",
       "100      6.0        0.0        6.0        0.0              2.0   \n",
       "101      2.0        7.0        2.0        8.0              1.0   \n",
       "102      3.0        3.0        4.0        1.0              3.0   \n",
       "\n",
       "                 Neighborhood  \n",
       "0                Alamo Square  \n",
       "1                  Anza Vista  \n",
       "2    Aquatic Park / Ft. Mason  \n",
       "3             Ashbury Heights  \n",
       "4              Balboa Terrace  \n",
       "5                     Bayview  \n",
       "6              Bernal Heights  \n",
       "7                  Bret Harte  \n",
       "8                 Buena Vista  \n",
       "9                      Castro  \n",
       "10             Cathedral Hill  \n",
       "11                     Cayuga  \n",
       "12         Central Waterfront  \n",
       "13                  Chinatown  \n",
       "14               Civic Center  \n",
       "15          Clarendon Heights  \n",
       "16                Cole Valley  \n",
       "17             Corona Heights  \n",
       "18                 Cow Hollow  \n",
       "19             Crocker Amazon  \n",
       "20            Diamond Heights  \n",
       "21                   Dogpatch  \n",
       "22            Dolores Heights  \n",
       "23    Downtown / Union Square  \n",
       "24            Duboce Triangle  \n",
       "25              Eureka Valley  \n",
       "26                  Excelsior  \n",
       "27                  Fairmount  \n",
       "28         Financial District  \n",
       "29           Fishermans Wharf  \n",
       "..                        ...  \n",
       "73                  Panhandle  \n",
       "74                   Parkside  \n",
       "75          Parnassus Heights  \n",
       "76            Peralta Heights  \n",
       "77                 Polk Gulch  \n",
       "78                    Portola  \n",
       "79               Potrero Hill  \n",
       "80           Presidio Heights  \n",
       "81     Presidio National Park  \n",
       "82           Presidio Terrace  \n",
       "83                Rincon Hill  \n",
       "84               Russian Hill  \n",
       "85                   Seacliff  \n",
       "86            Sherwood Forest  \n",
       "87           Showplace Square  \n",
       "88             Silver Terrace  \n",
       "89            South of Market  \n",
       "90           St. Francis Wood  \n",
       "91             St. Marys Park  \n",
       "92                  Sunnyside  \n",
       "93              Sutro Heights  \n",
       "94             Telegraph Hill  \n",
       "95                 Tenderloin  \n",
       "96               Union Street  \n",
       "97           University Mound  \n",
       "98               Upper Market  \n",
       "99          Visitacion Valley  \n",
       "100               West Portal  \n",
       "101          Western Addition  \n",
       "102        Westwood Highlands  \n",
       "\n",
       "[103 rows x 6 columns]"
      ]
     },
     "execution_count": 24,
     "metadata": {},
     "output_type": "execute_result"
    }
   ],
   "source": [
    "scale_df"
   ]
  },
  {
   "cell_type": "code",
   "execution_count": null,
   "metadata": {
    "collapsed": true
   },
   "outputs": [],
   "source": []
  }
 ],
 "metadata": {
  "kernelspec": {
   "display_name": "Python 2",
   "language": "python",
   "name": "python2"
  },
  "language_info": {
   "codemirror_mode": {
    "name": "ipython",
    "version": 2
   },
   "file_extension": ".py",
   "mimetype": "text/x-python",
   "name": "python",
   "nbconvert_exporter": "python",
   "pygments_lexer": "ipython2",
   "version": "2.7.10"
  }
 },
 "nbformat": 4,
 "nbformat_minor": 0
}
