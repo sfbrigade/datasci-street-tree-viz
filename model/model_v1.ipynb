{
 "cells": [
  {
   "cell_type": "code",
   "execution_count": 38,
   "metadata": {
    "collapsed": true
   },
   "outputs": [],
   "source": [
    "import pandas as pd, numpy as np"
   ]
  },
  {
   "cell_type": "code",
   "execution_count": 2,
   "metadata": {
    "collapsed": false
   },
   "outputs": [
    {
     "name": "stderr",
     "output_type": "stream",
     "text": [
      "/usr/local/lib/python2.7/site-packages/pandas/io/parsers.py:1170: DtypeWarning: Columns (2) have mixed types. Specify dtype option on import or set low_memory=False.\n",
      "  data = self._reader.read(nrows)\n"
     ]
    }
   ],
   "source": [
    "data = pd.read_csv('../data/FUF Salesforce Data Dump.csv')"
   ]
  },
  {
   "cell_type": "code",
   "execution_count": 3,
   "metadata": {
    "collapsed": false
   },
   "outputs": [
    {
     "name": "stdout",
     "output_type": "stream",
     "text": [
      "<class 'pandas.core.frame.DataFrame'>\n",
      "Int64Index: 61745 entries, 0 to 61744\n",
      "Data columns (total 20 columns):\n",
      "Tree Planting: Planting ID    61745 non-null object\n",
      "Tree Species                  51502 non-null object\n",
      "Tree Bldg Num                 59790 non-null object\n",
      "Tree Street                   61371 non-null object\n",
      "Tree Zip Code                 57992 non-null object\n",
      "Neighborhood                  61694 non-null object\n",
      "Cross Street                  41304 non-null object\n",
      "Basin Type                    25983 non-null object\n",
      "Permit #                      1763 non-null object\n",
      "Survey2mDoneDate              4632 non-null object\n",
      "Survey2mStatus                14435 non-null object\n",
      "Care1Done                     27556 non-null object\n",
      "2yrDone                       760 non-null object\n",
      "Survey2yrStatus               747 non-null object\n",
      "3yrDone                       21395 non-null object\n",
      "Survey3yrStatus               18690 non-null object\n",
      "4yrDone                       61 non-null object\n",
      "Survey4yrStatus               60 non-null object\n",
      "5yrDone                       3244 non-null object\n",
      "Survey5yrStatus               3046 non-null object\n",
      "dtypes: object(20)\n",
      "memory usage: 9.9+ MB\n"
     ]
    }
   ],
   "source": [
    "data.info()"
   ]
  },
  {
   "cell_type": "code",
   "execution_count": 4,
   "metadata": {
    "collapsed": false
   },
   "outputs": [
    {
     "data": {
      "text/plain": [
       "Survey2mStatus     14435\n",
       "Survey2yrStatus      747\n",
       "Survey3yrStatus    18690\n",
       "Survey4yrStatus       60\n",
       "Survey5yrStatus     3046\n",
       "dtype: int64"
      ]
     },
     "execution_count": 4,
     "metadata": {},
     "output_type": "execute_result"
    }
   ],
   "source": [
    "data.filter(regex='.*Status').count()"
   ]
  },
  {
   "cell_type": "code",
   "execution_count": 5,
   "metadata": {
    "collapsed": false
   },
   "outputs": [
    {
     "data": {
      "text/plain": [
       "Survey2mDoneDate     4632\n",
       "Care1Done           27556\n",
       "2yrDone               760\n",
       "3yrDone             21395\n",
       "4yrDone                61\n",
       "5yrDone              3244\n",
       "dtype: int64"
      ]
     },
     "execution_count": 5,
     "metadata": {},
     "output_type": "execute_result"
    }
   ],
   "source": [
    "data.filter(regex='.*Done').count()"
   ]
  },
  {
   "cell_type": "markdown",
   "metadata": {},
   "source": [
    "- Status primarily available after 2m and 3yr, looks like it would be most useful to consider these two points in time"
   ]
  },
  {
   "cell_type": "code",
   "execution_count": 6,
   "metadata": {
    "collapsed": false
   },
   "outputs": [],
   "source": [
    "df_notna = data[['Tree Species', 'Neighborhood', 'Survey2mStatus', 'Survey3yrStatus']].dropna()"
   ]
  },
  {
   "cell_type": "code",
   "execution_count": 7,
   "metadata": {
    "collapsed": false
   },
   "outputs": [
    {
     "data": {
      "text/html": [
       "<div>\n",
       "<table border=\"1\" class=\"dataframe\">\n",
       "  <thead>\n",
       "    <tr style=\"text-align: right;\">\n",
       "      <th></th>\n",
       "      <th>Tree Species</th>\n",
       "      <th>Neighborhood</th>\n",
       "      <th>Survey2mStatus</th>\n",
       "      <th>Survey3yrStatus</th>\n",
       "    </tr>\n",
       "  </thead>\n",
       "  <tbody>\n",
       "    <tr>\n",
       "      <th>count</th>\n",
       "      <td>9964</td>\n",
       "      <td>9964</td>\n",
       "      <td>9964</td>\n",
       "      <td>9964</td>\n",
       "    </tr>\n",
       "    <tr>\n",
       "      <th>unique</th>\n",
       "      <td>243</td>\n",
       "      <td>45</td>\n",
       "      <td>9</td>\n",
       "      <td>6</td>\n",
       "    </tr>\n",
       "    <tr>\n",
       "      <th>top</th>\n",
       "      <td>Arbutus 'Marina'</td>\n",
       "      <td>Outer Sunset</td>\n",
       "      <td>1 Very healthy</td>\n",
       "      <td>2 Good</td>\n",
       "    </tr>\n",
       "    <tr>\n",
       "      <th>freq</th>\n",
       "      <td>1017</td>\n",
       "      <td>855</td>\n",
       "      <td>6529</td>\n",
       "      <td>4103</td>\n",
       "    </tr>\n",
       "  </tbody>\n",
       "</table>\n",
       "</div>"
      ],
      "text/plain": [
       "            Tree Species  Neighborhood  Survey2mStatus Survey3yrStatus\n",
       "count               9964          9964            9964            9964\n",
       "unique               243            45               9               6\n",
       "top     Arbutus 'Marina'  Outer Sunset  1 Very healthy          2 Good\n",
       "freq                1017           855            6529            4103"
      ]
     },
     "execution_count": 7,
     "metadata": {},
     "output_type": "execute_result"
    }
   ],
   "source": [
    "df_notna.describe()"
   ]
  },
  {
   "cell_type": "code",
   "execution_count": 8,
   "metadata": {
    "collapsed": false
   },
   "outputs": [
    {
     "data": {
      "text/plain": [
       "1 Very healthy          6529\n",
       "2 Good                  2872\n",
       "3 Struggling             497\n",
       "4 Almost dead             56\n",
       "5 Dead or gone             6\n",
       "2                          1\n",
       "1                          1\n",
       "survey but no remark       1\n",
       "-1                         1\n",
       "dtype: int64"
      ]
     },
     "execution_count": 8,
     "metadata": {},
     "output_type": "execute_result"
    }
   ],
   "source": [
    "df_notna['Survey2mStatus'].value_counts()"
   ]
  },
  {
   "cell_type": "code",
   "execution_count": 9,
   "metadata": {
    "collapsed": false
   },
   "outputs": [
    {
     "data": {
      "text/plain": [
       "2 Good            4103\n",
       "1 Very healthy    3972\n",
       "3 Struggling      1224\n",
       "5 Dead or gone     408\n",
       "4 Almost dead      245\n",
       "5 dead/gone         12\n",
       "dtype: int64"
      ]
     },
     "execution_count": 9,
     "metadata": {},
     "output_type": "execute_result"
    }
   ],
   "source": [
    "df_notna['Survey3yrStatus'].value_counts()"
   ]
  },
  {
   "cell_type": "code",
   "execution_count": 10,
   "metadata": {
    "collapsed": true
   },
   "outputs": [],
   "source": [
    "df_notna = df_notna[~df_notna['Survey2mStatus'].isin(['-1','survey but no remark'])]"
   ]
  },
  {
   "cell_type": "code",
   "execution_count": 11,
   "metadata": {
    "collapsed": false
   },
   "outputs": [],
   "source": [
    "di = {\"1\": 1, \"1 Very healthy\": 1, \"2\": 2, \"2 Good\": 2,\n",
    "     \"3\": 3, '3 Struggling': 3, \"4\": 4, '4 Almost dead': 4,\n",
    "     \"5\": 5, '5 Dead or gone': 5, '5 dead/gone': 5}\n",
    "\n",
    "df_notna.replace(di, inplace = True)\n",
    "\n",
    "df_notna['2m_3yr_change'] = df_notna['Survey2mStatus'] - df_notna['Survey3yrStatus']"
   ]
  },
  {
   "cell_type": "code",
   "execution_count": 12,
   "metadata": {
    "collapsed": false
   },
   "outputs": [
    {
     "data": {
      "text/plain": [
       "1    6530\n",
       "2    2873\n",
       "3     497\n",
       "4      56\n",
       "5       6\n",
       "dtype: int64"
      ]
     },
     "execution_count": 12,
     "metadata": {},
     "output_type": "execute_result"
    }
   ],
   "source": [
    "df_notna['Survey2mStatus'].value_counts()"
   ]
  },
  {
   "cell_type": "code",
   "execution_count": 13,
   "metadata": {
    "collapsed": false
   },
   "outputs": [
    {
     "data": {
      "text/plain": [
       "2    4103\n",
       "1    3970\n",
       "3    1224\n",
       "5     420\n",
       "4     245\n",
       "dtype: int64"
      ]
     },
     "execution_count": 13,
     "metadata": {},
     "output_type": "execute_result"
    }
   ],
   "source": [
    "df_notna['Survey3yrStatus'].value_counts()"
   ]
  },
  {
   "cell_type": "code",
   "execution_count": 14,
   "metadata": {
    "collapsed": false
   },
   "outputs": [
    {
     "data": {
      "text/plain": [
       " 0    4148\n",
       "-1    3053\n",
       " 1    1270\n",
       "-2     840\n",
       "-3     267\n",
       "-4     237\n",
       " 2     136\n",
       " 3      11\n",
       "dtype: int64"
      ]
     },
     "execution_count": 14,
     "metadata": {},
     "output_type": "execute_result"
    }
   ],
   "source": [
    "df_notna['2m_3yr_change'].value_counts()"
   ]
  },
  {
   "cell_type": "code",
   "execution_count": 15,
   "metadata": {
    "collapsed": false
   },
   "outputs": [
    {
     "data": {
      "text/plain": [
       "count    9962.000000\n",
       "mean       -0.492572\n",
       "std         1.102331\n",
       "min        -4.000000\n",
       "25%        -1.000000\n",
       "50%         0.000000\n",
       "75%         0.000000\n",
       "max         3.000000\n",
       "Name: 2m_3yr_change, dtype: float64"
      ]
     },
     "execution_count": 15,
     "metadata": {},
     "output_type": "execute_result"
    }
   ],
   "source": [
    "df_notna['2m_3yr_change'].describe()"
   ]
  },
  {
   "cell_type": "code",
   "execution_count": 16,
   "metadata": {
    "collapsed": false
   },
   "outputs": [
    {
     "data": {
      "text/plain": [
       "Bayview           25\n",
       "Mission           24\n",
       "Outer Sunset      23\n",
       "Inner Sunset      16\n",
       "Bernal Heights    13\n",
       "dtype: int64"
      ]
     },
     "execution_count": 16,
     "metadata": {},
     "output_type": "execute_result"
    }
   ],
   "source": [
    "df_notna[df_notna['2m_3yr_change']==-4]['Neighborhood'].value_counts().head()"
   ]
  },
  {
   "cell_type": "code",
   "execution_count": 17,
   "metadata": {
    "collapsed": false
   },
   "outputs": [
    {
     "data": {
      "text/plain": [
       "Tristania laurina        17\n",
       "Arbutus 'Marina'         16\n",
       "Metrosideros excelsus    14\n",
       "Lophostemon confertus    13\n",
       "Pittosporum undulatum    13\n",
       "dtype: int64"
      ]
     },
     "execution_count": 17,
     "metadata": {},
     "output_type": "execute_result"
    }
   ],
   "source": [
    "df_notna[df_notna['2m_3yr_change']==-4]['Tree Species'].value_counts().head()"
   ]
  },
  {
   "cell_type": "code",
   "execution_count": 18,
   "metadata": {
    "collapsed": false
   },
   "outputs": [],
   "source": [
    "df_notna['2m_3yr_change_category'] = df_notna['2m_3yr_change'].apply(lambda x: 'Better or Same' if x in [0,1,2,3] else\n",
    "                                                                                'Worse')\n",
    "df_notna['2m_3yr_change_binary'] = df_notna['2m_3yr_change'].apply(lambda x: '1' if x in [0,1,2,3] else\n",
    "                                                                                '0')"
   ]
  },
  {
   "cell_type": "code",
   "execution_count": 19,
   "metadata": {
    "collapsed": false
   },
   "outputs": [
    {
     "data": {
      "text/plain": [
       "Better or Same    5565\n",
       "Worse             4397\n",
       "dtype: int64"
      ]
     },
     "execution_count": 19,
     "metadata": {},
     "output_type": "execute_result"
    }
   ],
   "source": [
    "df_notna['2m_3yr_change_category'].value_counts()"
   ]
  },
  {
   "cell_type": "code",
   "execution_count": 20,
   "metadata": {
    "collapsed": false
   },
   "outputs": [
    {
     "data": {
      "text/html": [
       "<div>\n",
       "<table border=\"1\" class=\"dataframe\">\n",
       "  <thead>\n",
       "    <tr style=\"text-align: right;\">\n",
       "      <th></th>\n",
       "      <th></th>\n",
       "      <th>2m_3yr_change</th>\n",
       "      <th>Survey2mStatus</th>\n",
       "      <th>Survey3yrStatus</th>\n",
       "    </tr>\n",
       "    <tr>\n",
       "      <th>2m_3yr_change_category</th>\n",
       "      <th></th>\n",
       "      <th></th>\n",
       "      <th></th>\n",
       "      <th></th>\n",
       "    </tr>\n",
       "  </thead>\n",
       "  <tbody>\n",
       "    <tr>\n",
       "      <th rowspan=\"8\" valign=\"top\">Better or Same</th>\n",
       "      <th>count</th>\n",
       "      <td>5565.000000</td>\n",
       "      <td>5565.000000</td>\n",
       "      <td>5565.000000</td>\n",
       "    </tr>\n",
       "    <tr>\n",
       "      <th>mean</th>\n",
       "      <td>0.283019</td>\n",
       "      <td>1.594070</td>\n",
       "      <td>1.311051</td>\n",
       "    </tr>\n",
       "    <tr>\n",
       "      <th>std</th>\n",
       "      <td>0.513521</td>\n",
       "      <td>0.677512</td>\n",
       "      <td>0.516891</td>\n",
       "    </tr>\n",
       "    <tr>\n",
       "      <th>min</th>\n",
       "      <td>0.000000</td>\n",
       "      <td>1.000000</td>\n",
       "      <td>1.000000</td>\n",
       "    </tr>\n",
       "    <tr>\n",
       "      <th>25%</th>\n",
       "      <td>0.000000</td>\n",
       "      <td>1.000000</td>\n",
       "      <td>1.000000</td>\n",
       "    </tr>\n",
       "    <tr>\n",
       "      <th>50%</th>\n",
       "      <td>0.000000</td>\n",
       "      <td>1.000000</td>\n",
       "      <td>1.000000</td>\n",
       "    </tr>\n",
       "    <tr>\n",
       "      <th>75%</th>\n",
       "      <td>1.000000</td>\n",
       "      <td>2.000000</td>\n",
       "      <td>2.000000</td>\n",
       "    </tr>\n",
       "    <tr>\n",
       "      <th>max</th>\n",
       "      <td>3.000000</td>\n",
       "      <td>5.000000</td>\n",
       "      <td>5.000000</td>\n",
       "    </tr>\n",
       "    <tr>\n",
       "      <th rowspan=\"8\" valign=\"top\">Worse</th>\n",
       "      <th>count</th>\n",
       "      <td>4397.000000</td>\n",
       "      <td>4397.000000</td>\n",
       "      <td>4397.000000</td>\n",
       "    </tr>\n",
       "    <tr>\n",
       "      <th>mean</th>\n",
       "      <td>-1.474187</td>\n",
       "      <td>1.171253</td>\n",
       "      <td>2.645440</td>\n",
       "    </tr>\n",
       "    <tr>\n",
       "      <th>std</th>\n",
       "      <td>0.833271</td>\n",
       "      <td>0.430324</td>\n",
       "      <td>0.953209</td>\n",
       "    </tr>\n",
       "    <tr>\n",
       "      <th>min</th>\n",
       "      <td>-4.000000</td>\n",
       "      <td>1.000000</td>\n",
       "      <td>2.000000</td>\n",
       "    </tr>\n",
       "    <tr>\n",
       "      <th>25%</th>\n",
       "      <td>-2.000000</td>\n",
       "      <td>1.000000</td>\n",
       "      <td>2.000000</td>\n",
       "    </tr>\n",
       "    <tr>\n",
       "      <th>50%</th>\n",
       "      <td>-1.000000</td>\n",
       "      <td>1.000000</td>\n",
       "      <td>2.000000</td>\n",
       "    </tr>\n",
       "    <tr>\n",
       "      <th>75%</th>\n",
       "      <td>-1.000000</td>\n",
       "      <td>1.000000</td>\n",
       "      <td>3.000000</td>\n",
       "    </tr>\n",
       "    <tr>\n",
       "      <th>max</th>\n",
       "      <td>-1.000000</td>\n",
       "      <td>4.000000</td>\n",
       "      <td>5.000000</td>\n",
       "    </tr>\n",
       "  </tbody>\n",
       "</table>\n",
       "</div>"
      ],
      "text/plain": [
       "                              2m_3yr_change  Survey2mStatus  Survey3yrStatus\n",
       "2m_3yr_change_category                                                      \n",
       "Better or Same         count    5565.000000     5565.000000      5565.000000\n",
       "                       mean        0.283019        1.594070         1.311051\n",
       "                       std         0.513521        0.677512         0.516891\n",
       "                       min         0.000000        1.000000         1.000000\n",
       "                       25%         0.000000        1.000000         1.000000\n",
       "                       50%         0.000000        1.000000         1.000000\n",
       "                       75%         1.000000        2.000000         2.000000\n",
       "                       max         3.000000        5.000000         5.000000\n",
       "Worse                  count    4397.000000     4397.000000      4397.000000\n",
       "                       mean       -1.474187        1.171253         2.645440\n",
       "                       std         0.833271        0.430324         0.953209\n",
       "                       min        -4.000000        1.000000         2.000000\n",
       "                       25%        -2.000000        1.000000         2.000000\n",
       "                       50%        -1.000000        1.000000         2.000000\n",
       "                       75%        -1.000000        1.000000         3.000000\n",
       "                       max        -1.000000        4.000000         5.000000"
      ]
     },
     "execution_count": 20,
     "metadata": {},
     "output_type": "execute_result"
    }
   ],
   "source": [
    "df_notna.groupby('2m_3yr_change_category').describe()"
   ]
  },
  {
   "cell_type": "code",
   "execution_count": 21,
   "metadata": {
    "collapsed": true
   },
   "outputs": [],
   "source": [
    "df_notna.ix[df_notna['Tree Species']<>'', \n",
    "            'genus'] = df_notna[df_notna['Tree Species']<>'']['Tree Species'].apply(lambda x: x.split()[0])"
   ]
  },
  {
   "cell_type": "code",
   "execution_count": 22,
   "metadata": {
    "collapsed": false
   },
   "outputs": [
    {
     "data": {
      "text/plain": [
       "Tristania      24\n",
       "Magnolia       21\n",
       "Prunus         20\n",
       "Arbutus        17\n",
       "Pittosporum    15\n",
       "dtype: int64"
      ]
     },
     "execution_count": 22,
     "metadata": {},
     "output_type": "execute_result"
    }
   ],
   "source": [
    "df_notna[df_notna['2m_3yr_change']==-4]['genus'].value_counts().head()"
   ]
  },
  {
   "cell_type": "code",
   "execution_count": 23,
   "metadata": {
    "collapsed": false
   },
   "outputs": [
    {
     "data": {
      "text/html": [
       "<div>\n",
       "<table border=\"1\" class=\"dataframe\">\n",
       "  <thead>\n",
       "    <tr style=\"text-align: right;\">\n",
       "      <th></th>\n",
       "      <th>Tree Species</th>\n",
       "      <th>Neighborhood</th>\n",
       "      <th>Survey2mStatus</th>\n",
       "      <th>Survey3yrStatus</th>\n",
       "      <th>2m_3yr_change</th>\n",
       "      <th>2m_3yr_change_category</th>\n",
       "      <th>2m_3yr_change_binary</th>\n",
       "      <th>genus</th>\n",
       "    </tr>\n",
       "  </thead>\n",
       "  <tbody>\n",
       "    <tr>\n",
       "      <th>25</th>\n",
       "      <td>Prunus salicina 'Santa Rosa'</td>\n",
       "      <td>Bayview</td>\n",
       "      <td>1</td>\n",
       "      <td>2</td>\n",
       "      <td>-1</td>\n",
       "      <td>Worse</td>\n",
       "      <td>0</td>\n",
       "      <td>Prunus</td>\n",
       "    </tr>\n",
       "    <tr>\n",
       "      <th>49</th>\n",
       "      <td>Prunus yedoensis 'Akebono'</td>\n",
       "      <td>Mission</td>\n",
       "      <td>1</td>\n",
       "      <td>1</td>\n",
       "      <td>0</td>\n",
       "      <td>Better or Same</td>\n",
       "      <td>1</td>\n",
       "      <td>Prunus</td>\n",
       "    </tr>\n",
       "    <tr>\n",
       "      <th>52</th>\n",
       "      <td>Prunus yedoensis 'Akebono'</td>\n",
       "      <td>Mission</td>\n",
       "      <td>1</td>\n",
       "      <td>1</td>\n",
       "      <td>0</td>\n",
       "      <td>Better or Same</td>\n",
       "      <td>1</td>\n",
       "      <td>Prunus</td>\n",
       "    </tr>\n",
       "    <tr>\n",
       "      <th>58</th>\n",
       "      <td>Rhamnus alaternus</td>\n",
       "      <td>Outer Sunset</td>\n",
       "      <td>1</td>\n",
       "      <td>1</td>\n",
       "      <td>0</td>\n",
       "      <td>Better or Same</td>\n",
       "      <td>1</td>\n",
       "      <td>Rhamnus</td>\n",
       "    </tr>\n",
       "    <tr>\n",
       "      <th>61</th>\n",
       "      <td>Rhamnus alaternus</td>\n",
       "      <td>Outer Sunset</td>\n",
       "      <td>1</td>\n",
       "      <td>1</td>\n",
       "      <td>0</td>\n",
       "      <td>Better or Same</td>\n",
       "      <td>1</td>\n",
       "      <td>Rhamnus</td>\n",
       "    </tr>\n",
       "  </tbody>\n",
       "</table>\n",
       "</div>"
      ],
      "text/plain": [
       "                    Tree Species  Neighborhood  Survey2mStatus  \\\n",
       "25  Prunus salicina 'Santa Rosa'       Bayview               1   \n",
       "49    Prunus yedoensis 'Akebono'       Mission               1   \n",
       "52    Prunus yedoensis 'Akebono'       Mission               1   \n",
       "58             Rhamnus alaternus  Outer Sunset               1   \n",
       "61             Rhamnus alaternus  Outer Sunset               1   \n",
       "\n",
       "    Survey3yrStatus  2m_3yr_change 2m_3yr_change_category  \\\n",
       "25                2             -1                  Worse   \n",
       "49                1              0         Better or Same   \n",
       "52                1              0         Better or Same   \n",
       "58                1              0         Better or Same   \n",
       "61                1              0         Better or Same   \n",
       "\n",
       "   2m_3yr_change_binary    genus  \n",
       "25                    0   Prunus  \n",
       "49                    1   Prunus  \n",
       "52                    1   Prunus  \n",
       "58                    1  Rhamnus  \n",
       "61                    1  Rhamnus  "
      ]
     },
     "execution_count": 23,
     "metadata": {},
     "output_type": "execute_result"
    }
   ],
   "source": [
    "df_notna.head()"
   ]
  },
  {
   "cell_type": "code",
   "execution_count": 24,
   "metadata": {
    "collapsed": false
   },
   "outputs": [
    {
     "data": {
      "text/html": [
       "<div>\n",
       "<table border=\"1\" class=\"dataframe\">\n",
       "  <thead>\n",
       "    <tr style=\"text-align: right;\">\n",
       "      <th></th>\n",
       "      <th>genus</th>\n",
       "      <th>2m_3yr_change</th>\n",
       "    </tr>\n",
       "  </thead>\n",
       "  <tbody>\n",
       "    <tr>\n",
       "      <th>41</th>\n",
       "      <td>Griselinia</td>\n",
       "      <td>-2.285714</td>\n",
       "    </tr>\n",
       "    <tr>\n",
       "      <th>22</th>\n",
       "      <td>Cinnamomum</td>\n",
       "      <td>-2.000000</td>\n",
       "    </tr>\n",
       "    <tr>\n",
       "      <th>84</th>\n",
       "      <td>Tibochina</td>\n",
       "      <td>-2.000000</td>\n",
       "    </tr>\n",
       "    <tr>\n",
       "      <th>8</th>\n",
       "      <td>Arctostaphylos</td>\n",
       "      <td>-1.666667</td>\n",
       "    </tr>\n",
       "    <tr>\n",
       "      <th>4</th>\n",
       "      <td>Albizia</td>\n",
       "      <td>-1.666667</td>\n",
       "    </tr>\n",
       "  </tbody>\n",
       "</table>\n",
       "</div>"
      ],
      "text/plain": [
       "             genus  2m_3yr_change\n",
       "41      Griselinia      -2.285714\n",
       "22      Cinnamomum      -2.000000\n",
       "84       Tibochina      -2.000000\n",
       "8   Arctostaphylos      -1.666667\n",
       "4          Albizia      -1.666667"
      ]
     },
     "execution_count": 24,
     "metadata": {},
     "output_type": "execute_result"
    }
   ],
   "source": [
    "df_notna.groupby('genus')['2m_3yr_change'].mean().reset_index().sort('2m_3yr_change').head()"
   ]
  },
  {
   "cell_type": "code",
   "execution_count": 25,
   "metadata": {
    "collapsed": false
   },
   "outputs": [
    {
     "data": {
      "text/html": [
       "<div>\n",
       "<table border=\"1\" class=\"dataframe\">\n",
       "  <thead>\n",
       "    <tr style=\"text-align: right;\">\n",
       "      <th></th>\n",
       "      <th>Neighborhood</th>\n",
       "      <th>2m_3yr_change</th>\n",
       "    </tr>\n",
       "  </thead>\n",
       "  <tbody>\n",
       "    <tr>\n",
       "      <th>6</th>\n",
       "      <td>Diamond Heights</td>\n",
       "      <td>-1.000000</td>\n",
       "    </tr>\n",
       "    <tr>\n",
       "      <th>14</th>\n",
       "      <td>Hunters Point</td>\n",
       "      <td>-0.833333</td>\n",
       "    </tr>\n",
       "    <tr>\n",
       "      <th>17</th>\n",
       "      <td>Laurel Heights</td>\n",
       "      <td>-0.800000</td>\n",
       "    </tr>\n",
       "    <tr>\n",
       "      <th>25</th>\n",
       "      <td>OMI</td>\n",
       "      <td>-0.789116</td>\n",
       "    </tr>\n",
       "    <tr>\n",
       "      <th>4</th>\n",
       "      <td>Central Sunset</td>\n",
       "      <td>-0.761905</td>\n",
       "    </tr>\n",
       "  </tbody>\n",
       "</table>\n",
       "</div>"
      ],
      "text/plain": [
       "       Neighborhood  2m_3yr_change\n",
       "6   Diamond Heights      -1.000000\n",
       "14    Hunters Point      -0.833333\n",
       "17   Laurel Heights      -0.800000\n",
       "25              OMI      -0.789116\n",
       "4    Central Sunset      -0.761905"
      ]
     },
     "execution_count": 25,
     "metadata": {},
     "output_type": "execute_result"
    }
   ],
   "source": [
    "df_notna.groupby('Neighborhood')['2m_3yr_change'].mean().reset_index().sort('2m_3yr_change').head()"
   ]
  },
  {
   "cell_type": "code",
   "execution_count": 26,
   "metadata": {
    "collapsed": false
   },
   "outputs": [
    {
     "data": {
      "text/html": [
       "<div>\n",
       "<table border=\"1\" class=\"dataframe\">\n",
       "  <thead>\n",
       "    <tr style=\"text-align: right;\">\n",
       "      <th></th>\n",
       "      <th>Tree Species</th>\n",
       "      <th>Neighborhood</th>\n",
       "      <th>Survey2mStatus</th>\n",
       "      <th>Survey3yrStatus</th>\n",
       "      <th>2m_3yr_change</th>\n",
       "      <th>2m_3yr_change_category</th>\n",
       "      <th>2m_3yr_change_binary</th>\n",
       "      <th>genus</th>\n",
       "    </tr>\n",
       "  </thead>\n",
       "  <tbody>\n",
       "    <tr>\n",
       "      <th>25</th>\n",
       "      <td>Prunus salicina 'Santa Rosa'</td>\n",
       "      <td>Bayview</td>\n",
       "      <td>1</td>\n",
       "      <td>2</td>\n",
       "      <td>-1</td>\n",
       "      <td>Worse</td>\n",
       "      <td>0</td>\n",
       "      <td>Prunus</td>\n",
       "    </tr>\n",
       "    <tr>\n",
       "      <th>49</th>\n",
       "      <td>Prunus yedoensis 'Akebono'</td>\n",
       "      <td>Mission</td>\n",
       "      <td>1</td>\n",
       "      <td>1</td>\n",
       "      <td>0</td>\n",
       "      <td>Better or Same</td>\n",
       "      <td>1</td>\n",
       "      <td>Prunus</td>\n",
       "    </tr>\n",
       "    <tr>\n",
       "      <th>52</th>\n",
       "      <td>Prunus yedoensis 'Akebono'</td>\n",
       "      <td>Mission</td>\n",
       "      <td>1</td>\n",
       "      <td>1</td>\n",
       "      <td>0</td>\n",
       "      <td>Better or Same</td>\n",
       "      <td>1</td>\n",
       "      <td>Prunus</td>\n",
       "    </tr>\n",
       "    <tr>\n",
       "      <th>58</th>\n",
       "      <td>Rhamnus alaternus</td>\n",
       "      <td>Outer Sunset</td>\n",
       "      <td>1</td>\n",
       "      <td>1</td>\n",
       "      <td>0</td>\n",
       "      <td>Better or Same</td>\n",
       "      <td>1</td>\n",
       "      <td>Rhamnus</td>\n",
       "    </tr>\n",
       "    <tr>\n",
       "      <th>61</th>\n",
       "      <td>Rhamnus alaternus</td>\n",
       "      <td>Outer Sunset</td>\n",
       "      <td>1</td>\n",
       "      <td>1</td>\n",
       "      <td>0</td>\n",
       "      <td>Better or Same</td>\n",
       "      <td>1</td>\n",
       "      <td>Rhamnus</td>\n",
       "    </tr>\n",
       "  </tbody>\n",
       "</table>\n",
       "</div>"
      ],
      "text/plain": [
       "                    Tree Species  Neighborhood  Survey2mStatus  \\\n",
       "25  Prunus salicina 'Santa Rosa'       Bayview               1   \n",
       "49    Prunus yedoensis 'Akebono'       Mission               1   \n",
       "52    Prunus yedoensis 'Akebono'       Mission               1   \n",
       "58             Rhamnus alaternus  Outer Sunset               1   \n",
       "61             Rhamnus alaternus  Outer Sunset               1   \n",
       "\n",
       "    Survey3yrStatus  2m_3yr_change 2m_3yr_change_category  \\\n",
       "25                2             -1                  Worse   \n",
       "49                1              0         Better or Same   \n",
       "52                1              0         Better or Same   \n",
       "58                1              0         Better or Same   \n",
       "61                1              0         Better or Same   \n",
       "\n",
       "   2m_3yr_change_binary    genus  \n",
       "25                    0   Prunus  \n",
       "49                    1   Prunus  \n",
       "52                    1   Prunus  \n",
       "58                    1  Rhamnus  \n",
       "61                    1  Rhamnus  "
      ]
     },
     "execution_count": 26,
     "metadata": {},
     "output_type": "execute_result"
    }
   ],
   "source": [
    "df_notna.head()"
   ]
  },
  {
   "cell_type": "code",
   "execution_count": 27,
   "metadata": {
    "collapsed": false
   },
   "outputs": [
    {
     "data": {
      "text/plain": [
       "90"
      ]
     },
     "execution_count": 27,
     "metadata": {},
     "output_type": "execute_result"
    }
   ],
   "source": [
    "df_notna.genus.nunique()"
   ]
  },
  {
   "cell_type": "code",
   "execution_count": 28,
   "metadata": {
    "collapsed": false
   },
   "outputs": [
    {
     "data": {
      "text/plain": [
       "45"
      ]
     },
     "execution_count": 28,
     "metadata": {},
     "output_type": "execute_result"
    }
   ],
   "source": [
    "df_notna.Neighborhood.nunique()"
   ]
  },
  {
   "cell_type": "code",
   "execution_count": 29,
   "metadata": {
    "collapsed": false
   },
   "outputs": [],
   "source": [
    "from sklearn import linear_model, decomposition, datasets\n",
    "from sklearn.pipeline import Pipeline"
   ]
  },
  {
   "cell_type": "code",
   "execution_count": 52,
   "metadata": {
    "collapsed": true
   },
   "outputs": [],
   "source": [
    "logistic = linear_model.LogisticRegression()"
   ]
  },
  {
   "cell_type": "code",
   "execution_count": 53,
   "metadata": {
    "collapsed": false
   },
   "outputs": [
    {
     "name": "stdout",
     "output_type": "stream",
     "text": [
      "0.542032622334\n"
     ]
    }
   ],
   "source": [
    "X_full = pd.get_dummies(df_notna[['genus', 'Neighborhood']], prefix=['genus', 'Neighborhood'])\n",
    "y_full = df_notna['2m_3yr_change_binary']\n",
    "\n",
    "n_samples = len(X_full)\n",
    "\n",
    "X_train = X_full[:int(.6 * n_samples)]\n",
    "y_train = y_full[:int(.6 * n_samples)]\n",
    "X_test = X_full[int(.6 * n_samples):]\n",
    "y_test = y_full[int(.6 * n_samples):]\n",
    "\n",
    "\n",
    "model = logistic.fit(X_train, y_train)\n",
    "score = model.score(X_test, y_test)\n",
    "print(score)"
   ]
  },
  {
   "cell_type": "code",
   "execution_count": 32,
   "metadata": {
    "collapsed": false
   },
   "outputs": [
    {
     "name": "stdout",
     "output_type": "stream",
     "text": [
      "LogisticRegression(C=1.0, class_weight=None, dual=False, fit_intercept=True,\n",
      "          intercept_scaling=1, max_iter=100, multi_class='ovr', n_jobs=1,\n",
      "          penalty='l2', random_state=None, solver='liblinear', tol=0.0001,\n",
      "          verbose=0, warm_start=False)\n"
     ]
    }
   ],
   "source": [
    "print(model)"
   ]
  },
  {
   "cell_type": "code",
   "execution_count": 33,
   "metadata": {
    "collapsed": false
   },
   "outputs": [
    {
     "data": {
      "text/plain": [
       "Index([u'genus_Acacia', u'genus_Acer', u'genus_Aesculus', u'genus_Agonis',\n",
       "       u'genus_Albizia', u'genus_Alnus', u'genus_Aloe', u'genus_Arbutus',\n",
       "       u'genus_Arctostaphylos', u'genus_Betula', \n",
       "       ...\n",
       "       u'Neighborhood_South Central Sunset',\n",
       "       u'Neighborhood_Sunnyside/Balboa Terrace',\n",
       "       u'Neighborhood_Telegraph Hill', u'Neighborhood_Tenderloin',\n",
       "       u'Neighborhood_Twin Peaks', u'Neighborhood_USF/NoPa',\n",
       "       u'Neighborhood_Upper Market', u'Neighborhood_Visitacion Valley',\n",
       "       u'Neighborhood_West Portal',\n",
       "       u'Neighborhood_Western Addition/Hayes Valley'],\n",
       "      dtype='object', length=135)"
      ]
     },
     "execution_count": 33,
     "metadata": {},
     "output_type": "execute_result"
    }
   ],
   "source": [
    "X_train.columns"
   ]
  },
  {
   "cell_type": "code",
   "execution_count": 39,
   "metadata": {
    "collapsed": false
   },
   "outputs": [
    {
     "data": {
      "text/plain": [
       "array([[ 0.296557  ,  0.01673612, -0.12187787, -0.2461067 , -0.79716792,\n",
       "         0.79551709,  0.        ,  0.01049175, -0.54227032,  1.29446096,\n",
       "         0.        ,  0.75049753, -0.22212636,  0.35643914, -0.49711496,\n",
       "        -1.13554737,  0.11696896,  0.14114992,  0.06114344, -0.16255893,\n",
       "         0.34185148,  0.31019987, -0.4707304 , -1.31880227,  0.78604047,\n",
       "         0.15607039, -0.6387159 ,  0.        ,  0.        , -0.36680769,\n",
       "         0.25094727,  0.52804554,  0.35741094, -0.05187169, -0.95149646,\n",
       "        -0.31384521,  0.06675172,  0.94688911, -0.03218854, -0.27227384,\n",
       "        -1.12352176, -0.77324873,  0.15183015, -0.97995684,  0.64241635,\n",
       "         0.36668223,  0.07083136,  0.10825646, -0.13247325,  0.82710275,\n",
       "        -0.80437017, -0.1105604 , -0.54791083,  0.20143163,  0.27148031,\n",
       "         0.21945127,  0.17960001, -0.1608224 , -0.72398036, -0.36986639,\n",
       "        -0.14443557,  0.28621584, -0.01616519,  0.53212296, -0.10005336,\n",
       "        -0.3638231 ,  0.27148031,  0.        ,  0.50445734, -1.4528203 ,\n",
       "        -0.29568733, -0.09732593, -0.11657487,  0.31687225, -0.04108007,\n",
       "         0.24317648,  0.02513467,  0.46913797,  0.21863622,  0.68985026,\n",
       "         0.        ,  0.        ,  0.65661809,  0.26918104,  0.        ,\n",
       "         0.62672274,  0.2307588 , -0.01532474, -0.19708402,  1.09371722,\n",
       "        -0.19826005, -0.037021  ,  0.11002647,  0.23223054, -0.11970883,\n",
       "        -0.35571062, -1.0106051 ,  0.58380786,  0.36488565,  0.10002598,\n",
       "        -1.22460053,  1.03495699,  0.1154207 , -0.1136097 ,  0.61817637,\n",
       "         0.0842831 ,  0.24346178,  0.        , -0.19634527,  0.13855827,\n",
       "         0.85802559, -0.32219146,  0.49419885,  0.20962251,  0.        ,\n",
       "        -0.6886884 , -0.32743078, -0.18565044, -0.32143646, -0.170543  ,\n",
       "        -0.32614719,  0.00643064, -0.16955902, -0.11598387, -0.49274153,\n",
       "         0.49486251,  0.34345993, -0.43447806, -0.06654799,  0.        ,\n",
       "         0.3649547 ,  1.7403568 , -0.43303583, -0.35368617, -0.12501854]])"
      ]
     },
     "execution_count": 39,
     "metadata": {},
     "output_type": "execute_result"
    }
   ],
   "source": [
    "model.coef_"
   ]
  },
  {
   "cell_type": "code",
   "execution_count": 35,
   "metadata": {
    "collapsed": false
   },
   "outputs": [
    {
     "data": {
      "text/plain": [
       "[array([[ 0.296557  ,  0.01673612, -0.12187787, -0.2461067 , -0.79716792,\n",
       "          0.79551709,  0.        ,  0.01049175, -0.54227032,  1.29446096,\n",
       "          0.        ,  0.75049753, -0.22212636,  0.35643914, -0.49711496,\n",
       "         -1.13554737,  0.11696896,  0.14114992,  0.06114344, -0.16255893,\n",
       "          0.34185148,  0.31019987, -0.4707304 , -1.31880227,  0.78604047,\n",
       "          0.15607039, -0.6387159 ,  0.        ,  0.        , -0.36680769,\n",
       "          0.25094727,  0.52804554,  0.35741094, -0.05187169, -0.95149646,\n",
       "         -0.31384521,  0.06675172,  0.94688911, -0.03218854, -0.27227384,\n",
       "         -1.12352176, -0.77324873,  0.15183015, -0.97995684,  0.64241635,\n",
       "          0.36668223,  0.07083136,  0.10825646, -0.13247325,  0.82710275,\n",
       "         -0.80437017, -0.1105604 , -0.54791083,  0.20143163,  0.27148031,\n",
       "          0.21945127,  0.17960001, -0.1608224 , -0.72398036, -0.36986639,\n",
       "         -0.14443557,  0.28621584, -0.01616519,  0.53212296, -0.10005336,\n",
       "         -0.3638231 ,  0.27148031,  0.        ,  0.50445734, -1.4528203 ,\n",
       "         -0.29568733, -0.09732593, -0.11657487,  0.31687225, -0.04108007,\n",
       "          0.24317648,  0.02513467,  0.46913797,  0.21863622,  0.68985026,\n",
       "          0.        ,  0.        ,  0.65661809,  0.26918104,  0.        ,\n",
       "          0.62672274,  0.2307588 , -0.01532474, -0.19708402,  1.09371722,\n",
       "         -0.19826005, -0.037021  ,  0.11002647,  0.23223054, -0.11970883,\n",
       "         -0.35571062, -1.0106051 ,  0.58380786,  0.36488565,  0.10002598,\n",
       "         -1.22460053,  1.03495699,  0.1154207 , -0.1136097 ,  0.61817637,\n",
       "          0.0842831 ,  0.24346178,  0.        , -0.19634527,  0.13855827,\n",
       "          0.85802559, -0.32219146,  0.49419885,  0.20962251,  0.        ,\n",
       "         -0.6886884 , -0.32743078, -0.18565044, -0.32143646, -0.170543  ,\n",
       "         -0.32614719,  0.00643064, -0.16955902, -0.11598387, -0.49274153,\n",
       "          0.49486251,  0.34345993, -0.43447806, -0.06654799,  0.        ,\n",
       "          0.3649547 ,  1.7403568 , -0.43303583, -0.35368617, -0.12501854]]),\n",
       " Index([u'genus_Acacia', u'genus_Acer', u'genus_Aesculus', u'genus_Agonis',\n",
       "        u'genus_Albizia', u'genus_Alnus', u'genus_Aloe', u'genus_Arbutus',\n",
       "        u'genus_Arctostaphylos', u'genus_Betula', \n",
       "        ...\n",
       "        u'Neighborhood_South Central Sunset',\n",
       "        u'Neighborhood_Sunnyside/Balboa Terrace',\n",
       "        u'Neighborhood_Telegraph Hill', u'Neighborhood_Tenderloin',\n",
       "        u'Neighborhood_Twin Peaks', u'Neighborhood_USF/NoPa',\n",
       "        u'Neighborhood_Upper Market', u'Neighborhood_Visitacion Valley',\n",
       "        u'Neighborhood_West Portal',\n",
       "        u'Neighborhood_Western Addition/Hayes Valley'],\n",
       "       dtype='object', length=135)]"
      ]
     },
     "execution_count": 35,
     "metadata": {},
     "output_type": "execute_result"
    }
   ],
   "source": [
    "results = [model.coef_,X_train.columns]\n",
    "results"
   ]
  },
  {
   "cell_type": "code",
   "execution_count": 36,
   "metadata": {
    "collapsed": false
   },
   "outputs": [
    {
     "name": "stderr",
     "output_type": "stream",
     "text": [
      "/usr/local/lib/python2.7/site-packages/sklearn/cross_validation.py:44: DeprecationWarning: This module was deprecated in version 0.18 in favor of the model_selection module into which all the refactored classes and functions are moved. Also note that the interface of the new CV iterators are different from that of this module. This module will be removed in 0.20.\n",
      "  \"This module will be removed in 0.20.\", DeprecationWarning)\n"
     ]
    }
   ],
   "source": [
    "from sklearn.metrics import roc_curve, auc\n",
    "from sklearn import preprocessing, metrics, cross_validation\n",
    "from sklearn.model_selection import cross_val_score\n"
   ]
  },
  {
   "cell_type": "code",
   "execution_count": 45,
   "metadata": {
    "collapsed": false
   },
   "outputs": [
    {
     "data": {
      "text/plain": [
       "array([ 0.56096337,  0.56798796,  0.58082329,  0.56475904,  0.52158635])"
      ]
     },
     "execution_count": 45,
     "metadata": {},
     "output_type": "execute_result"
    }
   ],
   "source": [
    "from sklearn.model_selection import cross_val_score\n",
    "\n",
    "scores = cross_val_score(model, X_full, y_full, cv=5)\n",
    "scores"
   ]
  },
  {
   "cell_type": "code",
   "execution_count": 116,
   "metadata": {
    "collapsed": false
   },
   "outputs": [
    {
     "data": {
      "text/plain": [
       "nan"
      ]
     },
     "execution_count": 116,
     "metadata": {},
     "output_type": "execute_result"
    }
   ],
   "source": [
    "from sklearn import metrics\n",
    "\n",
    "model.fit(X_train, y_train)\n",
    "pred = model.predict_proba(X_test)[:,1]\n",
    "fpr, tpr, thresholds = roc_curve(y_test, pred, pos_label = 0)\n",
    "roc_auc = auc(fpr, tpr)\n",
    "roc_auc"
   ]
  },
  {
   "cell_type": "code",
   "execution_count": 102,
   "metadata": {
    "collapsed": false
   },
   "outputs": [
    {
     "data": {
      "text/plain": [
       "35400    0\n",
       "35489    1\n",
       "35491    0\n",
       "35493    1\n",
       "35497    1\n",
       "35499    0\n",
       "35503    0\n",
       "35505    0\n",
       "35507    0\n",
       "35545    1\n",
       "35547    1\n",
       "35551    0\n",
       "35555    0\n",
       "35559    1\n",
       "35561    0\n",
       "35569    1\n",
       "35571    1\n",
       "35573    0\n",
       "35577    0\n",
       "35581    1\n",
       "35585    1\n",
       "35589    0\n",
       "35991    1\n",
       "35993    0\n",
       "35995    0\n",
       "35997    1\n",
       "36003    1\n",
       "36005    1\n",
       "36007    0\n",
       "36025    0\n",
       "        ..\n",
       "60399    0\n",
       "60400    1\n",
       "60405    0\n",
       "60412    1\n",
       "60414    1\n",
       "60415    1\n",
       "60416    0\n",
       "60417    1\n",
       "60418    1\n",
       "60419    1\n",
       "60426    1\n",
       "60439    0\n",
       "60440    1\n",
       "60442    0\n",
       "60443    0\n",
       "60452    1\n",
       "60454    1\n",
       "60456    1\n",
       "60457    1\n",
       "60458    1\n",
       "60459    0\n",
       "60461    1\n",
       "60466    1\n",
       "60467    0\n",
       "60473    0\n",
       "60474    1\n",
       "60494    0\n",
       "60502    0\n",
       "60509    1\n",
       "61300    0\n",
       "Name: 2m_3yr_change_binary, dtype: object"
      ]
     },
     "execution_count": 102,
     "metadata": {},
     "output_type": "execute_result"
    }
   ],
   "source": [
    "y_test"
   ]
  },
  {
   "cell_type": "code",
   "execution_count": null,
   "metadata": {
    "collapsed": false
   },
   "outputs": [],
   "source": [
    "X = np.array([[1, 2], [3, 4], [5, 6], [7, 8]])\n",
    "y = np.array([1, 2, 3, 4])\n",
    "labels = np.array([0, 0, 2, 2])\n",
    "label_kfold = LabelKFold(labels, n_folds=2)\n",
    "len(label_kfold)\n",
    "2\n",
    "print(label_kfold)"
   ]
  },
  {
   "cell_type": "code",
   "execution_count": null,
   "metadata": {
    "collapsed": true
   },
   "outputs": [],
   "source": [
    "\n",
    "X = np.array([[1, 2], [3, 4], [5, 6], [7, 8]])\n",
    "y = np.array([1, 2, 3, 4])\n",
    "labels = np.array([0, 0, 2, 2])\n",
    "label_kfold = LabelKFold(labels, n_folds=2)\n",
    "len(label_kfold)\n",
    "2\n",
    "print(label_kfold)\n",
    "sklearn.cross_validation.LabelKFold(n_labels=4, n_folds=2)\n",
    "for train_index, test_index in label_kfold:\n",
    "print(\"TRAIN:\", train_index, \"TEST:\", test_index)\n",
    "X_train, X_test = X[train_index], X[test_index]\n",
    "y_train, y_test = y[train_index], y[test_index]\n",
    "print(X_train, X_test, y_train, y_test)"
   ]
  },
  {
   "cell_type": "code",
   "execution_count": null,
   "metadata": {
    "collapsed": false
   },
   "outputs": [],
   "source": [
    "# Run classifier with cross-validation and plot ROC curves\n",
    "cv = StratifiedKFold(n_splits=6)\n",
    "logistic = linear_model.LogisticRegression()\n",
    "\n",
    "mean_tpr = 0.0\n",
    "mean_fpr = np.linspace(0, 1, 100)\n",
    "\n",
    "colors = cycle(['cyan', 'indigo', 'seagreen', 'yellow', 'blue', 'darkorange'])\n",
    "lw = 2\n",
    "\n",
    "i = 0\n",
    "for (train, test), color in zip(cv.split(X_full, y_full), colors):\n",
    "    probas_ = logistic.fit(X_full[train], y_full[train]).predict_proba(X_full[test])\n",
    "    # Compute ROC curve and area the curve\n",
    "    fpr, tpr, thresholds = roc_curve(y_full[test], probas_[:, 1])\n",
    "    mean_tpr += interp(mean_fpr, fpr, tpr)\n",
    "    mean_tpr[0] = 0.0\n",
    "    roc_auc = auc(fpr, tpr)\n",
    "    plt.plot(fpr, tpr, lw=lw, color=color,\n",
    "             label='ROC fold %d (area = %0.2f)' % (i, roc_auc))\n",
    "\n",
    "    i += 1\n",
    "plt.plot([0, 1], [0, 1], linestyle='--', lw=lw, color='k',\n",
    "         label='Luck')\n",
    "\n",
    "mean_tpr /= cv.get_n_splits(X_full, y_full)\n",
    "mean_tpr[-1] = 1.0\n",
    "mean_auc = auc(mean_fpr, mean_tpr)\n",
    "plt.plot(mean_fpr, mean_tpr, color='g', linestyle='--',\n",
    "         label='Mean ROC (area = %0.2f)' % mean_auc, lw=lw)\n",
    "\n",
    "plt.xlim([-0.05, 1.05])\n",
    "plt.ylim([-0.05, 1.05])\n",
    "plt.xlabel('False Positive Rate')\n",
    "plt.ylabel('True Positive Rate')\n",
    "plt.title('Receiver operating characteristic example')\n",
    "plt.legend(loc=\"lower right\")\n",
    "plt.show()"
   ]
  },
  {
   "cell_type": "code",
   "execution_count": null,
   "metadata": {
    "collapsed": true
   },
   "outputs": [],
   "source": []
  }
 ],
 "metadata": {
  "kernelspec": {
   "display_name": "Python 2",
   "language": "python",
   "name": "python2"
  },
  "language_info": {
   "codemirror_mode": {
    "name": "ipython",
    "version": 2
   },
   "file_extension": ".py",
   "mimetype": "text/x-python",
   "name": "python",
   "nbconvert_exporter": "python",
   "pygments_lexer": "ipython2",
   "version": "2.7.10"
  }
 },
 "nbformat": 4,
 "nbformat_minor": 0
}
