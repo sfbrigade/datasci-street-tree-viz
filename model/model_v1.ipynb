{
 "cells": [
  {
   "cell_type": "code",
   "execution_count": 1,
   "metadata": {
    "collapsed": true
   },
   "outputs": [],
   "source": [
    "import pandas as pd, numpy as np"
   ]
  },
  {
   "cell_type": "code",
   "execution_count": 2,
   "metadata": {
    "collapsed": false
   },
   "outputs": [
    {
     "name": "stderr",
     "output_type": "stream",
     "text": [
      "/Users/spencer/Documents/Personal/datasci-street-tree-viz/venv/lib/python2.7/site-packages/IPython/core/interactiveshell.py:2705: DtypeWarning: Columns (2) have mixed types. Specify dtype option on import or set low_memory=False.\n",
      "  interactivity=interactivity, compiler=compiler, result=result)\n"
     ]
    }
   ],
   "source": [
    "data = pd.read_csv('../data/FUF Salesforce Data Dump.csv')"
   ]
  },
  {
   "cell_type": "code",
   "execution_count": 3,
   "metadata": {
    "collapsed": false
   },
   "outputs": [
    {
     "name": "stdout",
     "output_type": "stream",
     "text": [
      "<class 'pandas.core.frame.DataFrame'>\n",
      "RangeIndex: 61745 entries, 0 to 61744\n",
      "Data columns (total 20 columns):\n",
      "Tree Planting: Planting ID    61745 non-null object\n",
      "Tree Species                  51502 non-null object\n",
      "Tree Bldg Num                 59790 non-null object\n",
      "Tree Street                   61371 non-null object\n",
      "Tree Zip Code                 57992 non-null object\n",
      "Neighborhood                  61694 non-null object\n",
      "Cross Street                  41304 non-null object\n",
      "Basin Type                    25983 non-null object\n",
      "Permit #                      1763 non-null object\n",
      "Survey2mDoneDate              4632 non-null object\n",
      "Survey2mStatus                14435 non-null object\n",
      "Care1Done                     27556 non-null object\n",
      "2yrDone                       760 non-null object\n",
      "Survey2yrStatus               747 non-null object\n",
      "3yrDone                       21395 non-null object\n",
      "Survey3yrStatus               18690 non-null object\n",
      "4yrDone                       61 non-null object\n",
      "Survey4yrStatus               60 non-null object\n",
      "5yrDone                       3244 non-null object\n",
      "Survey5yrStatus               3046 non-null object\n",
      "dtypes: object(20)\n",
      "memory usage: 9.4+ MB\n"
     ]
    }
   ],
   "source": [
    "data.info()"
   ]
  },
  {
   "cell_type": "code",
   "execution_count": 4,
   "metadata": {
    "collapsed": false
   },
   "outputs": [
    {
     "data": {
      "text/plain": [
       "Survey2mStatus     14435\n",
       "Survey2yrStatus      747\n",
       "Survey3yrStatus    18690\n",
       "Survey4yrStatus       60\n",
       "Survey5yrStatus     3046\n",
       "dtype: int64"
      ]
     },
     "execution_count": 4,
     "metadata": {},
     "output_type": "execute_result"
    }
   ],
   "source": [
    "data.filter(regex='.*Status').count()"
   ]
  },
  {
   "cell_type": "code",
   "execution_count": 5,
   "metadata": {
    "collapsed": false
   },
   "outputs": [
    {
     "data": {
      "text/plain": [
       "Survey2mDoneDate     4632\n",
       "Care1Done           27556\n",
       "2yrDone               760\n",
       "3yrDone             21395\n",
       "4yrDone                61\n",
       "5yrDone              3244\n",
       "dtype: int64"
      ]
     },
     "execution_count": 5,
     "metadata": {},
     "output_type": "execute_result"
    }
   ],
   "source": [
    "data.filter(regex='.*Done').count()"
   ]
  },
  {
   "cell_type": "markdown",
   "metadata": {},
   "source": [
    "- Status primarily available after 2m and 3yr, looks like it would be most useful to consider these two points in time"
   ]
  },
  {
   "cell_type": "code",
   "execution_count": 6,
   "metadata": {
    "collapsed": false
   },
   "outputs": [],
   "source": [
    "df_notna = data[['Tree Species', 'Neighborhood', 'Survey2mStatus', 'Survey3yrStatus']].dropna()"
   ]
  },
  {
   "cell_type": "code",
   "execution_count": 7,
   "metadata": {
    "collapsed": false
   },
   "outputs": [
    {
     "data": {
      "text/html": [
       "<div>\n",
       "<table border=\"1\" class=\"dataframe\">\n",
       "  <thead>\n",
       "    <tr style=\"text-align: right;\">\n",
       "      <th></th>\n",
       "      <th>Tree Species</th>\n",
       "      <th>Neighborhood</th>\n",
       "      <th>Survey2mStatus</th>\n",
       "      <th>Survey3yrStatus</th>\n",
       "    </tr>\n",
       "  </thead>\n",
       "  <tbody>\n",
       "    <tr>\n",
       "      <th>count</th>\n",
       "      <td>9964</td>\n",
       "      <td>9964</td>\n",
       "      <td>9964</td>\n",
       "      <td>9964</td>\n",
       "    </tr>\n",
       "    <tr>\n",
       "      <th>unique</th>\n",
       "      <td>243</td>\n",
       "      <td>45</td>\n",
       "      <td>9</td>\n",
       "      <td>6</td>\n",
       "    </tr>\n",
       "    <tr>\n",
       "      <th>top</th>\n",
       "      <td>Arbutus 'Marina'</td>\n",
       "      <td>Outer Sunset</td>\n",
       "      <td>1 Very healthy</td>\n",
       "      <td>2 Good</td>\n",
       "    </tr>\n",
       "    <tr>\n",
       "      <th>freq</th>\n",
       "      <td>1017</td>\n",
       "      <td>855</td>\n",
       "      <td>6529</td>\n",
       "      <td>4103</td>\n",
       "    </tr>\n",
       "  </tbody>\n",
       "</table>\n",
       "</div>"
      ],
      "text/plain": [
       "            Tree Species  Neighborhood  Survey2mStatus Survey3yrStatus\n",
       "count               9964          9964            9964            9964\n",
       "unique               243            45               9               6\n",
       "top     Arbutus 'Marina'  Outer Sunset  1 Very healthy          2 Good\n",
       "freq                1017           855            6529            4103"
      ]
     },
     "execution_count": 7,
     "metadata": {},
     "output_type": "execute_result"
    }
   ],
   "source": [
    "df_notna.describe()"
   ]
  },
  {
   "cell_type": "code",
   "execution_count": 8,
   "metadata": {
    "collapsed": false
   },
   "outputs": [
    {
     "data": {
      "text/plain": [
       "1 Very healthy          6529\n",
       "2 Good                  2872\n",
       "3 Struggling             497\n",
       "4 Almost dead             56\n",
       "5 Dead or gone             6\n",
       "2                          1\n",
       "1                          1\n",
       "survey but no remark       1\n",
       "-1                         1\n",
       "Name: Survey2mStatus, dtype: int64"
      ]
     },
     "execution_count": 8,
     "metadata": {},
     "output_type": "execute_result"
    }
   ],
   "source": [
    "df_notna['Survey2mStatus'].value_counts()"
   ]
  },
  {
   "cell_type": "code",
   "execution_count": 9,
   "metadata": {
    "collapsed": false
   },
   "outputs": [
    {
     "data": {
      "text/plain": [
       "2 Good            4103\n",
       "1 Very healthy    3972\n",
       "3 Struggling      1224\n",
       "5 Dead or gone     408\n",
       "4 Almost dead      245\n",
       "5 dead/gone         12\n",
       "Name: Survey3yrStatus, dtype: int64"
      ]
     },
     "execution_count": 9,
     "metadata": {},
     "output_type": "execute_result"
    }
   ],
   "source": [
    "df_notna['Survey3yrStatus'].value_counts()"
   ]
  },
  {
   "cell_type": "code",
   "execution_count": 10,
   "metadata": {
    "collapsed": true
   },
   "outputs": [],
   "source": [
    "df_notna = df_notna[~df_notna['Survey2mStatus'].isin(['-1','survey but no remark'])]"
   ]
  },
  {
   "cell_type": "code",
   "execution_count": 11,
   "metadata": {
    "collapsed": false
   },
   "outputs": [],
   "source": [
    "di = {\"1\": 1, \"1 Very healthy\": 1, \"2\": 2, \"2 Good\": 2,\n",
    "     \"3\": 3, '3 Struggling': 3, \"4\": 4, '4 Almost dead': 4,\n",
    "     \"5\": 5, '5 Dead or gone': 5, '5 dead/gone': 5}\n",
    "\n",
    "df_notna.replace(di, inplace = True)\n",
    "\n",
    "df_notna['2m_3yr_change'] = df_notna['Survey3yrStatus'] - df_notna['Survey2mStatus']"
   ]
  },
  {
   "cell_type": "code",
   "execution_count": 12,
   "metadata": {
    "collapsed": false
   },
   "outputs": [
    {
     "data": {
      "text/plain": [
       "1    6530\n",
       "2    2873\n",
       "3     497\n",
       "4      56\n",
       "5       6\n",
       "Name: Survey2mStatus, dtype: int64"
      ]
     },
     "execution_count": 12,
     "metadata": {},
     "output_type": "execute_result"
    }
   ],
   "source": [
    "df_notna['Survey2mStatus'].value_counts()"
   ]
  },
  {
   "cell_type": "code",
   "execution_count": 13,
   "metadata": {
    "collapsed": false
   },
   "outputs": [
    {
     "data": {
      "text/plain": [
       "2    4103\n",
       "1    3970\n",
       "3    1224\n",
       "5     420\n",
       "4     245\n",
       "Name: Survey3yrStatus, dtype: int64"
      ]
     },
     "execution_count": 13,
     "metadata": {},
     "output_type": "execute_result"
    }
   ],
   "source": [
    "df_notna['Survey3yrStatus'].value_counts()"
   ]
  },
  {
   "cell_type": "code",
   "execution_count": 14,
   "metadata": {
    "collapsed": false
   },
   "outputs": [
    {
     "data": {
      "text/plain": [
       " 0    4148\n",
       " 1    3053\n",
       "-1    1270\n",
       " 2     840\n",
       " 3     267\n",
       " 4     237\n",
       "-2     136\n",
       "-3      11\n",
       "Name: 2m_3yr_change, dtype: int64"
      ]
     },
     "execution_count": 14,
     "metadata": {},
     "output_type": "execute_result"
    }
   ],
   "source": [
    "df_notna['2m_3yr_change'].value_counts()"
   ]
  },
  {
   "cell_type": "code",
   "execution_count": 15,
   "metadata": {
    "collapsed": false
   },
   "outputs": [
    {
     "data": {
      "text/plain": [
       "count    9962.000000\n",
       "mean        0.492572\n",
       "std         1.102331\n",
       "min        -3.000000\n",
       "25%         0.000000\n",
       "50%         0.000000\n",
       "75%         1.000000\n",
       "max         4.000000\n",
       "Name: 2m_3yr_change, dtype: float64"
      ]
     },
     "execution_count": 15,
     "metadata": {},
     "output_type": "execute_result"
    }
   ],
   "source": [
    "df_notna['2m_3yr_change'].describe()"
   ]
  },
  {
   "cell_type": "code",
   "execution_count": 16,
   "metadata": {
    "collapsed": false
   },
   "outputs": [
    {
     "data": {
      "text/plain": [
       "Series([], Name: Neighborhood, dtype: int64)"
      ]
     },
     "execution_count": 16,
     "metadata": {},
     "output_type": "execute_result"
    }
   ],
   "source": [
    "df_notna[df_notna['2m_3yr_change']==-4]['Neighborhood'].value_counts().head()"
   ]
  },
  {
   "cell_type": "code",
   "execution_count": 41,
   "metadata": {
    "collapsed": false
   },
   "outputs": [
    {
     "data": {
      "text/plain": [
       "Series([], Name: Tree Species, dtype: int64)"
      ]
     },
     "execution_count": 41,
     "metadata": {},
     "output_type": "execute_result"
    }
   ],
   "source": [
    "df_notna[df_notna['2m_3yr_change']==-4]['Tree Species'].value_counts().head()"
   ]
  },
  {
   "cell_type": "code",
   "execution_count": 42,
   "metadata": {
    "collapsed": false
   },
   "outputs": [],
   "source": [
    "df_notna['2m_3yr_change_category'] = df_notna['2m_3yr_change'].apply(lambda x: 'Better' if x in [1,2,3] else\n",
    "                                                                                'Worse or Same')\n",
    "df_notna['2m_3yr_change_binary'] = df_notna['2m_3yr_change'].apply(lambda x: '1' if x in [1,2,3] else\n",
    "                                                                                '0')"
   ]
  },
  {
   "cell_type": "code",
   "execution_count": 43,
   "metadata": {
    "collapsed": false
   },
   "outputs": [
    {
     "data": {
      "text/plain": [
       "Worse or Same    5802\n",
       "Better           4160\n",
       "Name: 2m_3yr_change_category, dtype: int64"
      ]
     },
     "execution_count": 43,
     "metadata": {},
     "output_type": "execute_result"
    }
   ],
   "source": [
    "df_notna['2m_3yr_change_category'].value_counts()"
   ]
  },
  {
   "cell_type": "code",
   "execution_count": 44,
   "metadata": {
    "collapsed": false
   },
   "outputs": [
    {
     "data": {
      "text/html": [
       "<div>\n",
       "<table border=\"1\" class=\"dataframe\">\n",
       "  <thead>\n",
       "    <tr style=\"text-align: right;\">\n",
       "      <th></th>\n",
       "      <th></th>\n",
       "      <th>2m_3yr_change</th>\n",
       "      <th>Survey2mStatus</th>\n",
       "      <th>Survey3yrStatus</th>\n",
       "    </tr>\n",
       "    <tr>\n",
       "      <th>2m_3yr_change_category</th>\n",
       "      <th></th>\n",
       "      <th></th>\n",
       "      <th></th>\n",
       "      <th></th>\n",
       "    </tr>\n",
       "  </thead>\n",
       "  <tbody>\n",
       "    <tr>\n",
       "      <th rowspan=\"8\" valign=\"top\">Better</th>\n",
       "      <th>count</th>\n",
       "      <td>4160.000000</td>\n",
       "      <td>4160.000000</td>\n",
       "      <td>4160.000000</td>\n",
       "    </tr>\n",
       "    <tr>\n",
       "      <th>mean</th>\n",
       "      <td>1.330288</td>\n",
       "      <td>1.181010</td>\n",
       "      <td>2.511298</td>\n",
       "    </tr>\n",
       "    <tr>\n",
       "      <th>std</th>\n",
       "      <td>0.591310</td>\n",
       "      <td>0.440414</td>\n",
       "      <td>0.791496</td>\n",
       "    </tr>\n",
       "    <tr>\n",
       "      <th>min</th>\n",
       "      <td>1.000000</td>\n",
       "      <td>1.000000</td>\n",
       "      <td>2.000000</td>\n",
       "    </tr>\n",
       "    <tr>\n",
       "      <th>25%</th>\n",
       "      <td>1.000000</td>\n",
       "      <td>1.000000</td>\n",
       "      <td>2.000000</td>\n",
       "    </tr>\n",
       "    <tr>\n",
       "      <th>50%</th>\n",
       "      <td>1.000000</td>\n",
       "      <td>1.000000</td>\n",
       "      <td>2.000000</td>\n",
       "    </tr>\n",
       "    <tr>\n",
       "      <th>75%</th>\n",
       "      <td>2.000000</td>\n",
       "      <td>1.000000</td>\n",
       "      <td>3.000000</td>\n",
       "    </tr>\n",
       "    <tr>\n",
       "      <th>max</th>\n",
       "      <td>3.000000</td>\n",
       "      <td>4.000000</td>\n",
       "      <td>5.000000</td>\n",
       "    </tr>\n",
       "    <tr>\n",
       "      <th rowspan=\"8\" valign=\"top\">Worse or Same</th>\n",
       "      <th>count</th>\n",
       "      <td>5802.000000</td>\n",
       "      <td>5802.000000</td>\n",
       "      <td>5802.000000</td>\n",
       "    </tr>\n",
       "    <tr>\n",
       "      <th>mean</th>\n",
       "      <td>-0.108066</td>\n",
       "      <td>1.569804</td>\n",
       "      <td>1.461737</td>\n",
       "    </tr>\n",
       "    <tr>\n",
       "      <th>std</th>\n",
       "      <td>0.985784</td>\n",
       "      <td>0.673869</td>\n",
       "      <td>0.888549</td>\n",
       "    </tr>\n",
       "    <tr>\n",
       "      <th>min</th>\n",
       "      <td>-3.000000</td>\n",
       "      <td>1.000000</td>\n",
       "      <td>1.000000</td>\n",
       "    </tr>\n",
       "    <tr>\n",
       "      <th>25%</th>\n",
       "      <td>0.000000</td>\n",
       "      <td>1.000000</td>\n",
       "      <td>1.000000</td>\n",
       "    </tr>\n",
       "    <tr>\n",
       "      <th>50%</th>\n",
       "      <td>0.000000</td>\n",
       "      <td>1.000000</td>\n",
       "      <td>1.000000</td>\n",
       "    </tr>\n",
       "    <tr>\n",
       "      <th>75%</th>\n",
       "      <td>0.000000</td>\n",
       "      <td>2.000000</td>\n",
       "      <td>2.000000</td>\n",
       "    </tr>\n",
       "    <tr>\n",
       "      <th>max</th>\n",
       "      <td>4.000000</td>\n",
       "      <td>5.000000</td>\n",
       "      <td>5.000000</td>\n",
       "    </tr>\n",
       "  </tbody>\n",
       "</table>\n",
       "</div>"
      ],
      "text/plain": [
       "                              2m_3yr_change  Survey2mStatus  Survey3yrStatus\n",
       "2m_3yr_change_category                                                      \n",
       "Better                 count    4160.000000     4160.000000      4160.000000\n",
       "                       mean        1.330288        1.181010         2.511298\n",
       "                       std         0.591310        0.440414         0.791496\n",
       "                       min         1.000000        1.000000         2.000000\n",
       "                       25%         1.000000        1.000000         2.000000\n",
       "                       50%         1.000000        1.000000         2.000000\n",
       "                       75%         2.000000        1.000000         3.000000\n",
       "                       max         3.000000        4.000000         5.000000\n",
       "Worse or Same          count    5802.000000     5802.000000      5802.000000\n",
       "                       mean       -0.108066        1.569804         1.461737\n",
       "                       std         0.985784        0.673869         0.888549\n",
       "                       min        -3.000000        1.000000         1.000000\n",
       "                       25%         0.000000        1.000000         1.000000\n",
       "                       50%         0.000000        1.000000         1.000000\n",
       "                       75%         0.000000        2.000000         2.000000\n",
       "                       max         4.000000        5.000000         5.000000"
      ]
     },
     "execution_count": 44,
     "metadata": {},
     "output_type": "execute_result"
    }
   ],
   "source": [
    "df_notna.groupby('2m_3yr_change_category').describe()"
   ]
  },
  {
   "cell_type": "code",
   "execution_count": 45,
   "metadata": {
    "collapsed": true
   },
   "outputs": [],
   "source": [
    "df_notna.ix[df_notna['Tree Species']<>'', \n",
    "            'genus'] = df_notna[df_notna['Tree Species']<>'']['Tree Species'].apply(lambda x: x.split()[0])"
   ]
  },
  {
   "cell_type": "code",
   "execution_count": 46,
   "metadata": {
    "collapsed": false
   },
   "outputs": [
    {
     "data": {
      "text/plain": [
       "Series([], Name: genus, dtype: int64)"
      ]
     },
     "execution_count": 46,
     "metadata": {},
     "output_type": "execute_result"
    }
   ],
   "source": [
    "df_notna[df_notna['2m_3yr_change']==-4]['genus'].value_counts().head()"
   ]
  },
  {
   "cell_type": "code",
   "execution_count": 47,
   "metadata": {
    "collapsed": false
   },
   "outputs": [
    {
     "data": {
      "text/html": [
       "<div>\n",
       "<table border=\"1\" class=\"dataframe\">\n",
       "  <thead>\n",
       "    <tr style=\"text-align: right;\">\n",
       "      <th></th>\n",
       "      <th>Tree Species</th>\n",
       "      <th>Neighborhood</th>\n",
       "      <th>Survey2mStatus</th>\n",
       "      <th>Survey3yrStatus</th>\n",
       "      <th>2m_3yr_change</th>\n",
       "      <th>2m_3yr_change_category</th>\n",
       "      <th>2m_3yr_change_binary</th>\n",
       "      <th>genus</th>\n",
       "    </tr>\n",
       "  </thead>\n",
       "  <tbody>\n",
       "    <tr>\n",
       "      <th>25</th>\n",
       "      <td>Prunus salicina 'Santa Rosa'</td>\n",
       "      <td>Bayview</td>\n",
       "      <td>1</td>\n",
       "      <td>2</td>\n",
       "      <td>1</td>\n",
       "      <td>Better</td>\n",
       "      <td>1</td>\n",
       "      <td>Prunus</td>\n",
       "    </tr>\n",
       "    <tr>\n",
       "      <th>49</th>\n",
       "      <td>Prunus yedoensis 'Akebono'</td>\n",
       "      <td>Mission</td>\n",
       "      <td>1</td>\n",
       "      <td>1</td>\n",
       "      <td>0</td>\n",
       "      <td>Worse or Same</td>\n",
       "      <td>0</td>\n",
       "      <td>Prunus</td>\n",
       "    </tr>\n",
       "    <tr>\n",
       "      <th>52</th>\n",
       "      <td>Prunus yedoensis 'Akebono'</td>\n",
       "      <td>Mission</td>\n",
       "      <td>1</td>\n",
       "      <td>1</td>\n",
       "      <td>0</td>\n",
       "      <td>Worse or Same</td>\n",
       "      <td>0</td>\n",
       "      <td>Prunus</td>\n",
       "    </tr>\n",
       "    <tr>\n",
       "      <th>58</th>\n",
       "      <td>Rhamnus alaternus</td>\n",
       "      <td>Outer Sunset</td>\n",
       "      <td>1</td>\n",
       "      <td>1</td>\n",
       "      <td>0</td>\n",
       "      <td>Worse or Same</td>\n",
       "      <td>0</td>\n",
       "      <td>Rhamnus</td>\n",
       "    </tr>\n",
       "    <tr>\n",
       "      <th>61</th>\n",
       "      <td>Rhamnus alaternus</td>\n",
       "      <td>Outer Sunset</td>\n",
       "      <td>1</td>\n",
       "      <td>1</td>\n",
       "      <td>0</td>\n",
       "      <td>Worse or Same</td>\n",
       "      <td>0</td>\n",
       "      <td>Rhamnus</td>\n",
       "    </tr>\n",
       "  </tbody>\n",
       "</table>\n",
       "</div>"
      ],
      "text/plain": [
       "                    Tree Species  Neighborhood  Survey2mStatus  \\\n",
       "25  Prunus salicina 'Santa Rosa'       Bayview               1   \n",
       "49    Prunus yedoensis 'Akebono'       Mission               1   \n",
       "52    Prunus yedoensis 'Akebono'       Mission               1   \n",
       "58             Rhamnus alaternus  Outer Sunset               1   \n",
       "61             Rhamnus alaternus  Outer Sunset               1   \n",
       "\n",
       "    Survey3yrStatus  2m_3yr_change 2m_3yr_change_category  \\\n",
       "25                2              1                 Better   \n",
       "49                1              0          Worse or Same   \n",
       "52                1              0          Worse or Same   \n",
       "58                1              0          Worse or Same   \n",
       "61                1              0          Worse or Same   \n",
       "\n",
       "   2m_3yr_change_binary    genus  \n",
       "25                    1   Prunus  \n",
       "49                    0   Prunus  \n",
       "52                    0   Prunus  \n",
       "58                    0  Rhamnus  \n",
       "61                    0  Rhamnus  "
      ]
     },
     "execution_count": 47,
     "metadata": {},
     "output_type": "execute_result"
    }
   ],
   "source": [
    "df_notna.head()"
   ]
  },
  {
   "cell_type": "code",
   "execution_count": 48,
   "metadata": {
    "collapsed": false
   },
   "outputs": [
    {
     "name": "stderr",
     "output_type": "stream",
     "text": [
      "/Users/spencer/Documents/Personal/datasci-street-tree-viz/venv/lib/python2.7/site-packages/ipykernel/__main__.py:1: FutureWarning: sort(columns=....) is deprecated, use sort_values(by=.....)\n",
      "  if __name__ == '__main__':\n"
     ]
    },
    {
     "data": {
      "text/html": [
       "<div>\n",
       "<table border=\"1\" class=\"dataframe\">\n",
       "  <thead>\n",
       "    <tr style=\"text-align: right;\">\n",
       "      <th></th>\n",
       "      <th>genus</th>\n",
       "      <th>2m_3yr_change</th>\n",
       "    </tr>\n",
       "  </thead>\n",
       "  <tbody>\n",
       "    <tr>\n",
       "      <th>80</th>\n",
       "      <td>Robinia</td>\n",
       "      <td>-1.000000</td>\n",
       "    </tr>\n",
       "    <tr>\n",
       "      <th>30</th>\n",
       "      <td>Dracaena</td>\n",
       "      <td>-0.333333</td>\n",
       "    </tr>\n",
       "    <tr>\n",
       "      <th>89</th>\n",
       "      <td>Washingtonia</td>\n",
       "      <td>-0.222222</td>\n",
       "    </tr>\n",
       "    <tr>\n",
       "      <th>45</th>\n",
       "      <td>Ilex</td>\n",
       "      <td>0.000000</td>\n",
       "    </tr>\n",
       "    <tr>\n",
       "      <th>13</th>\n",
       "      <td>Carpinus</td>\n",
       "      <td>0.000000</td>\n",
       "    </tr>\n",
       "  </tbody>\n",
       "</table>\n",
       "</div>"
      ],
      "text/plain": [
       "           genus  2m_3yr_change\n",
       "80       Robinia      -1.000000\n",
       "30      Dracaena      -0.333333\n",
       "89  Washingtonia      -0.222222\n",
       "45          Ilex       0.000000\n",
       "13      Carpinus       0.000000"
      ]
     },
     "execution_count": 48,
     "metadata": {},
     "output_type": "execute_result"
    }
   ],
   "source": [
    "df_notna.groupby('genus')['2m_3yr_change'].mean().reset_index().sort('2m_3yr_change').head()"
   ]
  },
  {
   "cell_type": "code",
   "execution_count": 49,
   "metadata": {
    "collapsed": false
   },
   "outputs": [
    {
     "name": "stderr",
     "output_type": "stream",
     "text": [
      "/Users/spencer/Documents/Personal/datasci-street-tree-viz/venv/lib/python2.7/site-packages/ipykernel/__main__.py:1: FutureWarning: sort(columns=....) is deprecated, use sort_values(by=.....)\n",
      "  if __name__ == '__main__':\n"
     ]
    },
    {
     "data": {
      "text/html": [
       "<div>\n",
       "<table border=\"1\" class=\"dataframe\">\n",
       "  <thead>\n",
       "    <tr style=\"text-align: right;\">\n",
       "      <th></th>\n",
       "      <th>Neighborhood</th>\n",
       "      <th>2m_3yr_change</th>\n",
       "    </tr>\n",
       "  </thead>\n",
       "  <tbody>\n",
       "    <tr>\n",
       "      <th>20</th>\n",
       "      <td>Mission Terrace</td>\n",
       "      <td>-0.235294</td>\n",
       "    </tr>\n",
       "    <tr>\n",
       "      <th>41</th>\n",
       "      <td>Upper Market</td>\n",
       "      <td>-0.178571</td>\n",
       "    </tr>\n",
       "    <tr>\n",
       "      <th>39</th>\n",
       "      <td>Twin Peaks</td>\n",
       "      <td>-0.111111</td>\n",
       "    </tr>\n",
       "    <tr>\n",
       "      <th>11</th>\n",
       "      <td>Glen Park</td>\n",
       "      <td>-0.093750</td>\n",
       "    </tr>\n",
       "    <tr>\n",
       "      <th>8</th>\n",
       "      <td>Duboce Triangle/Lower Haight</td>\n",
       "      <td>0.000000</td>\n",
       "    </tr>\n",
       "  </tbody>\n",
       "</table>\n",
       "</div>"
      ],
      "text/plain": [
       "                    Neighborhood  2m_3yr_change\n",
       "20               Mission Terrace      -0.235294\n",
       "41                  Upper Market      -0.178571\n",
       "39                    Twin Peaks      -0.111111\n",
       "11                     Glen Park      -0.093750\n",
       "8   Duboce Triangle/Lower Haight       0.000000"
      ]
     },
     "execution_count": 49,
     "metadata": {},
     "output_type": "execute_result"
    }
   ],
   "source": [
    "df_notna.groupby('Neighborhood')['2m_3yr_change'].mean().reset_index().sort('2m_3yr_change').head()"
   ]
  },
  {
   "cell_type": "code",
   "execution_count": 50,
   "metadata": {
    "collapsed": false
   },
   "outputs": [
    {
     "data": {
      "text/html": [
       "<div>\n",
       "<table border=\"1\" class=\"dataframe\">\n",
       "  <thead>\n",
       "    <tr style=\"text-align: right;\">\n",
       "      <th></th>\n",
       "      <th>Tree Species</th>\n",
       "      <th>Neighborhood</th>\n",
       "      <th>Survey2mStatus</th>\n",
       "      <th>Survey3yrStatus</th>\n",
       "      <th>2m_3yr_change</th>\n",
       "      <th>2m_3yr_change_category</th>\n",
       "      <th>2m_3yr_change_binary</th>\n",
       "      <th>genus</th>\n",
       "    </tr>\n",
       "  </thead>\n",
       "  <tbody>\n",
       "    <tr>\n",
       "      <th>25</th>\n",
       "      <td>Prunus salicina 'Santa Rosa'</td>\n",
       "      <td>Bayview</td>\n",
       "      <td>1</td>\n",
       "      <td>2</td>\n",
       "      <td>1</td>\n",
       "      <td>Better</td>\n",
       "      <td>1</td>\n",
       "      <td>Prunus</td>\n",
       "    </tr>\n",
       "    <tr>\n",
       "      <th>49</th>\n",
       "      <td>Prunus yedoensis 'Akebono'</td>\n",
       "      <td>Mission</td>\n",
       "      <td>1</td>\n",
       "      <td>1</td>\n",
       "      <td>0</td>\n",
       "      <td>Worse or Same</td>\n",
       "      <td>0</td>\n",
       "      <td>Prunus</td>\n",
       "    </tr>\n",
       "    <tr>\n",
       "      <th>52</th>\n",
       "      <td>Prunus yedoensis 'Akebono'</td>\n",
       "      <td>Mission</td>\n",
       "      <td>1</td>\n",
       "      <td>1</td>\n",
       "      <td>0</td>\n",
       "      <td>Worse or Same</td>\n",
       "      <td>0</td>\n",
       "      <td>Prunus</td>\n",
       "    </tr>\n",
       "    <tr>\n",
       "      <th>58</th>\n",
       "      <td>Rhamnus alaternus</td>\n",
       "      <td>Outer Sunset</td>\n",
       "      <td>1</td>\n",
       "      <td>1</td>\n",
       "      <td>0</td>\n",
       "      <td>Worse or Same</td>\n",
       "      <td>0</td>\n",
       "      <td>Rhamnus</td>\n",
       "    </tr>\n",
       "    <tr>\n",
       "      <th>61</th>\n",
       "      <td>Rhamnus alaternus</td>\n",
       "      <td>Outer Sunset</td>\n",
       "      <td>1</td>\n",
       "      <td>1</td>\n",
       "      <td>0</td>\n",
       "      <td>Worse or Same</td>\n",
       "      <td>0</td>\n",
       "      <td>Rhamnus</td>\n",
       "    </tr>\n",
       "  </tbody>\n",
       "</table>\n",
       "</div>"
      ],
      "text/plain": [
       "                    Tree Species  Neighborhood  Survey2mStatus  \\\n",
       "25  Prunus salicina 'Santa Rosa'       Bayview               1   \n",
       "49    Prunus yedoensis 'Akebono'       Mission               1   \n",
       "52    Prunus yedoensis 'Akebono'       Mission               1   \n",
       "58             Rhamnus alaternus  Outer Sunset               1   \n",
       "61             Rhamnus alaternus  Outer Sunset               1   \n",
       "\n",
       "    Survey3yrStatus  2m_3yr_change 2m_3yr_change_category  \\\n",
       "25                2              1                 Better   \n",
       "49                1              0          Worse or Same   \n",
       "52                1              0          Worse or Same   \n",
       "58                1              0          Worse or Same   \n",
       "61                1              0          Worse or Same   \n",
       "\n",
       "   2m_3yr_change_binary    genus  \n",
       "25                    1   Prunus  \n",
       "49                    0   Prunus  \n",
       "52                    0   Prunus  \n",
       "58                    0  Rhamnus  \n",
       "61                    0  Rhamnus  "
      ]
     },
     "execution_count": 50,
     "metadata": {},
     "output_type": "execute_result"
    }
   ],
   "source": [
    "df_notna.head()"
   ]
  },
  {
   "cell_type": "code",
   "execution_count": 51,
   "metadata": {
    "collapsed": false
   },
   "outputs": [
    {
     "data": {
      "text/plain": [
       "90"
      ]
     },
     "execution_count": 51,
     "metadata": {},
     "output_type": "execute_result"
    }
   ],
   "source": [
    "df_notna.genus.nunique()"
   ]
  },
  {
   "cell_type": "code",
   "execution_count": 52,
   "metadata": {
    "collapsed": false
   },
   "outputs": [
    {
     "data": {
      "text/plain": [
       "45"
      ]
     },
     "execution_count": 52,
     "metadata": {},
     "output_type": "execute_result"
    }
   ],
   "source": [
    "df_notna.Neighborhood.nunique()"
   ]
  },
  {
   "cell_type": "code",
   "execution_count": 53,
   "metadata": {
    "collapsed": false
   },
   "outputs": [],
   "source": [
    "from sklearn import linear_model, decomposition, datasets\n",
    "from sklearn.pipeline import Pipeline"
   ]
  },
  {
   "cell_type": "code",
   "execution_count": 54,
   "metadata": {
    "collapsed": true
   },
   "outputs": [],
   "source": [
    "logistic = linear_model.LogisticRegression()"
   ]
  },
  {
   "cell_type": "code",
   "execution_count": 55,
   "metadata": {
    "collapsed": false
   },
   "outputs": [
    {
     "name": "stdout",
     "output_type": "stream",
     "text": [
      "0.55382685069\n"
     ]
    }
   ],
   "source": [
    "X_full = pd.get_dummies(df_notna[['genus', 'Neighborhood']], prefix=['genus', 'Neighborhood'])\n",
    "y_full = df_notna['2m_3yr_change_binary']\n",
    "\n",
    "n_samples = len(X_full)\n",
    "\n",
    "X_train = X_full[:int(.6 * n_samples)]\n",
    "y_train = y_full[:int(.6 * n_samples)]\n",
    "X_test = X_full[int(.6 * n_samples):]\n",
    "y_test = y_full[int(.6 * n_samples):]\n",
    "\n",
    "\n",
    "model = logistic.fit(X_train, y_train)\n",
    "score = model.score(X_test, y_test)\n",
    "print(score)"
   ]
  },
  {
   "cell_type": "code",
   "execution_count": 69,
   "metadata": {
    "collapsed": false
   },
   "outputs": [
    {
     "name": "stdout",
     "output_type": "stream",
     "text": [
      "             precision    recall  f1-score   support\n",
      "\n",
      "          0       0.57      0.81      0.67      2225\n",
      "          1       0.49      0.23      0.31      1760\n",
      "\n",
      "avg / total       0.53      0.55      0.51      3985\n",
      "\n"
     ]
    }
   ],
   "source": [
    "from sklearn.metrics import classification_report\n",
    "y_pred = model.predict(X_test)\n",
    "print(classification_report(y_test, y_pred))"
   ]
  },
  {
   "cell_type": "code",
   "execution_count": 71,
   "metadata": {
    "collapsed": false
   },
   "outputs": [
    {
     "data": {
      "text/plain": [
       "array([[1805,  420],\n",
       "       [1358,  402]])"
      ]
     },
     "execution_count": 71,
     "metadata": {},
     "output_type": "execute_result"
    }
   ],
   "source": [
    "from sklearn.metrics import confusion_matrix\n",
    "confusion_matrix(y_test, y_pred)"
   ]
  },
  {
   "cell_type": "code",
   "execution_count": 56,
   "metadata": {
    "collapsed": false
   },
   "outputs": [
    {
     "name": "stdout",
     "output_type": "stream",
     "text": [
      "LogisticRegression(C=1.0, class_weight=None, dual=False, fit_intercept=True,\n",
      "          intercept_scaling=1, max_iter=100, multi_class='ovr', n_jobs=1,\n",
      "          penalty='l2', random_state=None, solver='liblinear', tol=0.0001,\n",
      "          verbose=0, warm_start=False)\n"
     ]
    }
   ],
   "source": [
    "print(model)"
   ]
  },
  {
   "cell_type": "code",
   "execution_count": 57,
   "metadata": {
    "collapsed": false
   },
   "outputs": [
    {
     "data": {
      "text/plain": [
       "Index([u'genus_Acacia', u'genus_Acer', u'genus_Aesculus', u'genus_Agonis',\n",
       "       u'genus_Albizia', u'genus_Alnus', u'genus_Aloe', u'genus_Arbutus',\n",
       "       u'genus_Arctostaphylos', u'genus_Betula',\n",
       "       ...\n",
       "       u'Neighborhood_South Central Sunset',\n",
       "       u'Neighborhood_Sunnyside/Balboa Terrace',\n",
       "       u'Neighborhood_Telegraph Hill', u'Neighborhood_Tenderloin',\n",
       "       u'Neighborhood_Twin Peaks', u'Neighborhood_USF/NoPa',\n",
       "       u'Neighborhood_Upper Market', u'Neighborhood_Visitacion Valley',\n",
       "       u'Neighborhood_West Portal',\n",
       "       u'Neighborhood_Western Addition/Hayes Valley'],\n",
       "      dtype='object', length=135)"
      ]
     },
     "execution_count": 57,
     "metadata": {},
     "output_type": "execute_result"
    }
   ],
   "source": [
    "X_train.columns"
   ]
  },
  {
   "cell_type": "code",
   "execution_count": 58,
   "metadata": {
    "collapsed": false
   },
   "outputs": [
    {
     "data": {
      "text/plain": [
       "array([[-0.14944186,  0.10303944, -0.07710943,  0.22173242,  0.20757989,\n",
       "        -0.72285664,  0.        ,  0.08860858,  0.57108571, -1.2141253 ,\n",
       "         0.        , -0.6999782 ,  0.3523533 , -0.32486804,  0.54457783,\n",
       "         0.55914703, -0.1334146 ,  0.03855524, -0.13238628,  0.05610557,\n",
       "        -0.29169415, -0.26907456,  0.49857011,  0.91141756, -0.7017463 ,\n",
       "        -0.03719846,  0.74016652,  0.        ,  0.        ,  0.48738896,\n",
       "        -0.23608499, -0.43279771, -0.20299121,  0.04287918,  1.02569555,\n",
       "         0.36486187,  0.06639343, -0.86410569,  0.16579524,  0.34512673,\n",
       "         1.2206883 , -0.50159805, -0.38620096,  0.85330596, -0.51666416,\n",
       "        -0.35142313, -0.02785376,  0.01363124,  0.21742526, -0.69053843,\n",
       "         0.93021684,  0.13223272,  0.66966548, -0.04481463, -0.24744492,\n",
       "        -0.25168859, -0.34177128,  0.19338251,  0.73369915,  0.48085371,\n",
       "         0.1699915 , -0.36060724,  0.15991044, -0.41254736, -0.32407083,\n",
       "         0.41827256, -0.24744492,  0.        , -0.45663646,  1.16490301,\n",
       "         0.46524784,  0.00777639,  0.19167493, -0.15856893,  0.16971222,\n",
       "        -0.07749033, -0.06262757, -0.43029243, -0.06457598, -0.59930905,\n",
       "         0.        ,  0.        , -0.74341584, -0.12625928,  0.        ,\n",
       "        -0.77756005, -0.18506298,  0.04909302,  0.16858283, -1.41514122,\n",
       "         0.21808975, -0.10246828, -0.1753415 , -0.20088408,  0.13896116,\n",
       "         0.36348033,  1.05396159, -0.54850588, -0.34439463, -0.10709686,\n",
       "         1.25706678, -1.03604203, -0.12676638,  0.04860923, -0.54569137,\n",
       "        -0.01853049, -0.3248394 ,  0.        ,  0.21923578, -0.23700062,\n",
       "        -0.80815396,  0.28538197, -0.42312796, -0.20276306,  0.        ,\n",
       "         0.65992965,  0.35973847,  0.17834026,  0.38487932,  0.2315757 ,\n",
       "         0.30407403, -0.00608116,  0.2498486 ,  0.08650253,  0.48714652,\n",
       "        -0.44976302, -0.27472931,  0.31459633, -0.21905501,  0.        ,\n",
       "        -0.37133083, -1.71192794,  0.46404557,  0.37343394,  0.06546055]])"
      ]
     },
     "execution_count": 58,
     "metadata": {},
     "output_type": "execute_result"
    }
   ],
   "source": [
    "model.coef_"
   ]
  },
  {
   "cell_type": "code",
   "execution_count": 59,
   "metadata": {
    "collapsed": false
   },
   "outputs": [
    {
     "data": {
      "text/plain": [
       "[array([[-0.14944186,  0.10303944, -0.07710943,  0.22173242,  0.20757989,\n",
       "         -0.72285664,  0.        ,  0.08860858,  0.57108571, -1.2141253 ,\n",
       "          0.        , -0.6999782 ,  0.3523533 , -0.32486804,  0.54457783,\n",
       "          0.55914703, -0.1334146 ,  0.03855524, -0.13238628,  0.05610557,\n",
       "         -0.29169415, -0.26907456,  0.49857011,  0.91141756, -0.7017463 ,\n",
       "         -0.03719846,  0.74016652,  0.        ,  0.        ,  0.48738896,\n",
       "         -0.23608499, -0.43279771, -0.20299121,  0.04287918,  1.02569555,\n",
       "          0.36486187,  0.06639343, -0.86410569,  0.16579524,  0.34512673,\n",
       "          1.2206883 , -0.50159805, -0.38620096,  0.85330596, -0.51666416,\n",
       "         -0.35142313, -0.02785376,  0.01363124,  0.21742526, -0.69053843,\n",
       "          0.93021684,  0.13223272,  0.66966548, -0.04481463, -0.24744492,\n",
       "         -0.25168859, -0.34177128,  0.19338251,  0.73369915,  0.48085371,\n",
       "          0.1699915 , -0.36060724,  0.15991044, -0.41254736, -0.32407083,\n",
       "          0.41827256, -0.24744492,  0.        , -0.45663646,  1.16490301,\n",
       "          0.46524784,  0.00777639,  0.19167493, -0.15856893,  0.16971222,\n",
       "         -0.07749033, -0.06262757, -0.43029243, -0.06457598, -0.59930905,\n",
       "          0.        ,  0.        , -0.74341584, -0.12625928,  0.        ,\n",
       "         -0.77756005, -0.18506298,  0.04909302,  0.16858283, -1.41514122,\n",
       "          0.21808975, -0.10246828, -0.1753415 , -0.20088408,  0.13896116,\n",
       "          0.36348033,  1.05396159, -0.54850588, -0.34439463, -0.10709686,\n",
       "          1.25706678, -1.03604203, -0.12676638,  0.04860923, -0.54569137,\n",
       "         -0.01853049, -0.3248394 ,  0.        ,  0.21923578, -0.23700062,\n",
       "         -0.80815396,  0.28538197, -0.42312796, -0.20276306,  0.        ,\n",
       "          0.65992965,  0.35973847,  0.17834026,  0.38487932,  0.2315757 ,\n",
       "          0.30407403, -0.00608116,  0.2498486 ,  0.08650253,  0.48714652,\n",
       "         -0.44976302, -0.27472931,  0.31459633, -0.21905501,  0.        ,\n",
       "         -0.37133083, -1.71192794,  0.46404557,  0.37343394,  0.06546055]]),\n",
       " Index([u'genus_Acacia', u'genus_Acer', u'genus_Aesculus', u'genus_Agonis',\n",
       "        u'genus_Albizia', u'genus_Alnus', u'genus_Aloe', u'genus_Arbutus',\n",
       "        u'genus_Arctostaphylos', u'genus_Betula',\n",
       "        ...\n",
       "        u'Neighborhood_South Central Sunset',\n",
       "        u'Neighborhood_Sunnyside/Balboa Terrace',\n",
       "        u'Neighborhood_Telegraph Hill', u'Neighborhood_Tenderloin',\n",
       "        u'Neighborhood_Twin Peaks', u'Neighborhood_USF/NoPa',\n",
       "        u'Neighborhood_Upper Market', u'Neighborhood_Visitacion Valley',\n",
       "        u'Neighborhood_West Portal',\n",
       "        u'Neighborhood_Western Addition/Hayes Valley'],\n",
       "       dtype='object', length=135)]"
      ]
     },
     "execution_count": 59,
     "metadata": {},
     "output_type": "execute_result"
    }
   ],
   "source": [
    "results = [model.coef_,X_train.columns]\n",
    "results"
   ]
  },
  {
   "cell_type": "code",
   "execution_count": 60,
   "metadata": {
    "collapsed": false
   },
   "outputs": [],
   "source": [
    "from sklearn.metrics import roc_curve, auc\n",
    "from sklearn import preprocessing, metrics, cross_validation\n",
    "from sklearn.model_selection import cross_val_score\n"
   ]
  },
  {
   "cell_type": "code",
   "execution_count": 61,
   "metadata": {
    "collapsed": false
   },
   "outputs": [
    {
     "data": {
      "text/plain": [
       "array([ 0.58655294,  0.58855996,  0.60441767,  0.57128514,  0.54267068])"
      ]
     },
     "execution_count": 61,
     "metadata": {},
     "output_type": "execute_result"
    }
   ],
   "source": [
    "from sklearn.model_selection import cross_val_score\n",
    "\n",
    "scores = cross_val_score(model, X_full, y_full, cv=5)\n",
    "scores"
   ]
  },
  {
   "cell_type": "code",
   "execution_count": 62,
   "metadata": {
    "collapsed": false
   },
   "outputs": [
    {
     "data": {
      "text/plain": [
       "nan"
      ]
     },
     "execution_count": 62,
     "metadata": {},
     "output_type": "execute_result"
    }
   ],
   "source": [
    "from sklearn import metrics\n",
    "\n",
    "model.fit(X_train, y_train)\n",
    "pred = model.predict_proba(X_test)[:,1]\n",
    "fpr, tpr, thresholds = roc_curve(y_test, pred, pos_label = 0)\n",
    "roc_auc = auc(fpr, tpr)\n",
    "roc_auc"
   ]
  },
  {
   "cell_type": "code",
   "execution_count": 63,
   "metadata": {
    "collapsed": false
   },
   "outputs": [
    {
     "data": {
      "text/plain": [
       "35400    1\n",
       "35489    0\n",
       "35491    1\n",
       "35493    0\n",
       "35497    0\n",
       "35499    1\n",
       "35503    0\n",
       "35505    1\n",
       "35507    1\n",
       "35545    0\n",
       "35547    0\n",
       "35551    1\n",
       "35555    1\n",
       "35559    0\n",
       "35561    1\n",
       "35569    0\n",
       "35571    0\n",
       "35573    1\n",
       "35577    1\n",
       "35581    0\n",
       "35585    0\n",
       "35589    1\n",
       "35991    0\n",
       "35993    1\n",
       "35995    1\n",
       "35997    0\n",
       "36003    0\n",
       "36005    0\n",
       "36007    1\n",
       "36025    1\n",
       "        ..\n",
       "60399    1\n",
       "60400    0\n",
       "60405    1\n",
       "60412    0\n",
       "60414    0\n",
       "60415    0\n",
       "60416    1\n",
       "60417    0\n",
       "60418    0\n",
       "60419    0\n",
       "60426    0\n",
       "60439    1\n",
       "60440    0\n",
       "60442    1\n",
       "60443    1\n",
       "60452    0\n",
       "60454    0\n",
       "60456    0\n",
       "60457    0\n",
       "60458    0\n",
       "60459    1\n",
       "60461    0\n",
       "60466    0\n",
       "60467    1\n",
       "60473    1\n",
       "60474    0\n",
       "60494    1\n",
       "60502    1\n",
       "60509    0\n",
       "61300    1\n",
       "Name: 2m_3yr_change_binary, dtype: object"
      ]
     },
     "execution_count": 63,
     "metadata": {},
     "output_type": "execute_result"
    }
   ],
   "source": [
    "y_test"
   ]
  },
  {
   "cell_type": "code",
   "execution_count": 64,
   "metadata": {
    "collapsed": false
   },
   "outputs": [
    {
     "ename": "NameError",
     "evalue": "name 'LabelKFold' is not defined",
     "output_type": "error",
     "traceback": [
      "\u001b[0;31m---------------------------------------------------------------------------\u001b[0m",
      "\u001b[0;31mNameError\u001b[0m                                 Traceback (most recent call last)",
      "\u001b[0;32m<ipython-input-64-7218f2340686>\u001b[0m in \u001b[0;36m<module>\u001b[0;34m()\u001b[0m\n\u001b[1;32m      2\u001b[0m \u001b[0my\u001b[0m \u001b[0;34m=\u001b[0m \u001b[0mnp\u001b[0m\u001b[0;34m.\u001b[0m\u001b[0marray\u001b[0m\u001b[0;34m(\u001b[0m\u001b[0;34m[\u001b[0m\u001b[0;36m1\u001b[0m\u001b[0;34m,\u001b[0m \u001b[0;36m2\u001b[0m\u001b[0;34m,\u001b[0m \u001b[0;36m3\u001b[0m\u001b[0;34m,\u001b[0m \u001b[0;36m4\u001b[0m\u001b[0;34m]\u001b[0m\u001b[0;34m)\u001b[0m\u001b[0;34m\u001b[0m\u001b[0m\n\u001b[1;32m      3\u001b[0m \u001b[0mlabels\u001b[0m \u001b[0;34m=\u001b[0m \u001b[0mnp\u001b[0m\u001b[0;34m.\u001b[0m\u001b[0marray\u001b[0m\u001b[0;34m(\u001b[0m\u001b[0;34m[\u001b[0m\u001b[0;36m0\u001b[0m\u001b[0;34m,\u001b[0m \u001b[0;36m0\u001b[0m\u001b[0;34m,\u001b[0m \u001b[0;36m2\u001b[0m\u001b[0;34m,\u001b[0m \u001b[0;36m2\u001b[0m\u001b[0;34m]\u001b[0m\u001b[0;34m)\u001b[0m\u001b[0;34m\u001b[0m\u001b[0m\n\u001b[0;32m----> 4\u001b[0;31m \u001b[0mlabel_kfold\u001b[0m \u001b[0;34m=\u001b[0m \u001b[0mLabelKFold\u001b[0m\u001b[0;34m(\u001b[0m\u001b[0mlabels\u001b[0m\u001b[0;34m,\u001b[0m \u001b[0mn_folds\u001b[0m\u001b[0;34m=\u001b[0m\u001b[0;36m2\u001b[0m\u001b[0;34m)\u001b[0m\u001b[0;34m\u001b[0m\u001b[0m\n\u001b[0m\u001b[1;32m      5\u001b[0m \u001b[0mlen\u001b[0m\u001b[0;34m(\u001b[0m\u001b[0mlabel_kfold\u001b[0m\u001b[0;34m)\u001b[0m\u001b[0;34m\u001b[0m\u001b[0m\n\u001b[1;32m      6\u001b[0m \u001b[0;36m2\u001b[0m\u001b[0;34m\u001b[0m\u001b[0m\n",
      "\u001b[0;31mNameError\u001b[0m: name 'LabelKFold' is not defined"
     ]
    }
   ],
   "source": [
    "X = np.array([[1, 2], [3, 4], [5, 6], [7, 8]])\n",
    "y = np.array([1, 2, 3, 4])\n",
    "labels = np.array([0, 0, 2, 2])\n",
    "label_kfold = LabelKFold(labels, n_folds=2)\n",
    "len(label_kfold)\n",
    "2\n",
    "print(label_kfold)"
   ]
  },
  {
   "cell_type": "code",
   "execution_count": null,
   "metadata": {
    "collapsed": true
   },
   "outputs": [],
   "source": [
    "\n",
    "X = np.array([[1, 2], [3, 4], [5, 6], [7, 8]])\n",
    "y = np.array([1, 2, 3, 4])\n",
    "labels = np.array([0, 0, 2, 2])\n",
    "label_kfold = LabelKFold(labels, n_folds=2)\n",
    "len(label_kfold)\n",
    "2\n",
    "print(label_kfold)\n",
    "sklearn.cross_validation.LabelKFold(n_labels=4, n_folds=2)\n",
    "for train_index, test_index in label_kfold:\n",
    "print(\"TRAIN:\", train_index, \"TEST:\", test_index)\n",
    "X_train, X_test = X[train_index], X[test_index]\n",
    "y_train, y_test = y[train_index], y[test_index]\n",
    "print(X_train, X_test, y_train, y_test)"
   ]
  },
  {
   "cell_type": "code",
   "execution_count": null,
   "metadata": {
    "collapsed": false
   },
   "outputs": [],
   "source": [
    "# Run classifier with cross-validation and plot ROC curves\n",
    "cv = StratifiedKFold(n_splits=6)\n",
    "logistic = linear_model.LogisticRegression()\n",
    "\n",
    "mean_tpr = 0.0\n",
    "mean_fpr = np.linspace(0, 1, 100)\n",
    "\n",
    "colors = cycle(['cyan', 'indigo', 'seagreen', 'yellow', 'blue', 'darkorange'])\n",
    "lw = 2\n",
    "\n",
    "i = 0\n",
    "for (train, test), color in zip(cv.split(X_full, y_full), colors):\n",
    "    probas_ = logistic.fit(X_full[train], y_full[train]).predict_proba(X_full[test])\n",
    "    # Compute ROC curve and area the curve\n",
    "    fpr, tpr, thresholds = roc_curve(y_full[test], probas_[:, 1])\n",
    "    mean_tpr += interp(mean_fpr, fpr, tpr)\n",
    "    mean_tpr[0] = 0.0\n",
    "    roc_auc = auc(fpr, tpr)\n",
    "    plt.plot(fpr, tpr, lw=lw, color=color,\n",
    "             label='ROC fold %d (area = %0.2f)' % (i, roc_auc))\n",
    "\n",
    "    i += 1\n",
    "plt.plot([0, 1], [0, 1], linestyle='--', lw=lw, color='k',\n",
    "         label='Luck')\n",
    "\n",
    "mean_tpr /= cv.get_n_splits(X_full, y_full)\n",
    "mean_tpr[-1] = 1.0\n",
    "mean_auc = auc(mean_fpr, mean_tpr)\n",
    "plt.plot(mean_fpr, mean_tpr, color='g', linestyle='--',\n",
    "         label='Mean ROC (area = %0.2f)' % mean_auc, lw=lw)\n",
    "\n",
    "plt.xlim([-0.05, 1.05])\n",
    "plt.ylim([-0.05, 1.05])\n",
    "plt.xlabel('False Positive Rate')\n",
    "plt.ylabel('True Positive Rate')\n",
    "plt.title('Receiver operating characteristic example')\n",
    "plt.legend(loc=\"lower right\")\n",
    "plt.show()"
   ]
  },
  {
   "cell_type": "code",
   "execution_count": null,
   "metadata": {
    "collapsed": true
   },
   "outputs": [],
   "source": []
  }
 ],
 "metadata": {
  "kernelspec": {
   "display_name": "Python 2",
   "language": "python",
   "name": "python2"
  },
  "language_info": {
   "codemirror_mode": {
    "name": "ipython",
    "version": 2
   },
   "file_extension": ".py",
   "mimetype": "text/x-python",
   "name": "python",
   "nbconvert_exporter": "python",
   "pygments_lexer": "ipython2",
   "version": "2.7.12"
  }
 },
 "nbformat": 4,
 "nbformat_minor": 0
}
