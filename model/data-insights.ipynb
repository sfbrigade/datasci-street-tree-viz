{
 "cells": [
  {
   "cell_type": "code",
   "execution_count": 1,
   "metadata": {
    "collapsed": true
   },
   "outputs": [],
   "source": [
    "import pandas as pd, numpy as np\n",
    "from __future__ import division\n",
    "from collections import defaultdict"
   ]
  },
  {
   "cell_type": "code",
   "execution_count": 2,
   "metadata": {
    "collapsed": false
   },
   "outputs": [
    {
     "name": "stderr",
     "output_type": "stream",
     "text": [
      "/Users/spencer/Documents/Personal/datasci-street-tree-viz/venv/lib/python2.7/site-packages/IPython/core/interactiveshell.py:2705: DtypeWarning: Columns (0) have mixed types. Specify dtype option on import or set low_memory=False.\n",
      "  interactivity=interactivity, compiler=compiler, result=result)\n"
     ]
    }
   ],
   "source": [
    "fuf = pd.read_csv('../data/combined_tree_data_with_header_with_derived_neighborhood.csv').fillna('')\n",
    "fuf = fuf.rename(columns={'derived_neighborhood':'neighborhood'})"
   ]
  },
  {
   "cell_type": "code",
   "execution_count": 7,
   "metadata": {
    "collapsed": false
   },
   "outputs": [
    {
     "data": {
      "text/html": [
       "<div>\n",
       "<table border=\"1\" class=\"dataframe\">\n",
       "  <thead>\n",
       "    <tr style=\"text-align: right;\">\n",
       "      <th></th>\n",
       "      <th>tree_id</th>\n",
       "      <th>survey_neighborhood</th>\n",
       "      <th>on_street_name</th>\n",
       "      <th>side</th>\n",
       "      <th>scientific_species_name</th>\n",
       "      <th>common_species_name</th>\n",
       "      <th>diameter_at_breast_height</th>\n",
       "      <th>condition</th>\n",
       "      <th>parkway_space_type</th>\n",
       "      <th>parkway_largest_dimension</th>\n",
       "      <th>trunks</th>\n",
       "      <th>maintenance_notes</th>\n",
       "      <th>status</th>\n",
       "      <th>hardscape_damage</th>\n",
       "      <th>observation_notes</th>\n",
       "      <th>clearance</th>\n",
       "      <th>longitude</th>\n",
       "      <th>latitude</th>\n",
       "      <th>neighborhood</th>\n",
       "    </tr>\n",
       "  </thead>\n",
       "  <tbody>\n",
       "    <tr>\n",
       "      <th>0</th>\n",
       "      <td>200610</td>\n",
       "      <td>Presidio Heights</td>\n",
       "      <td>GEARY BLVD</td>\n",
       "      <td>Front</td>\n",
       "      <td>Tristaniopsis laurina</td>\n",
       "      <td>Water Gum</td>\n",
       "      <td>3</td>\n",
       "      <td>Good</td>\n",
       "      <td>Well/Pit</td>\n",
       "      <td>3</td>\n",
       "      <td>1</td>\n",
       "      <td>Training Prune</td>\n",
       "      <td>1</td>\n",
       "      <td>None</td>\n",
       "      <td>None</td>\n",
       "      <td>None</td>\n",
       "      <td>-122.456872</td>\n",
       "      <td>37.781515</td>\n",
       "      <td>Laurel Heights / Jordan Park</td>\n",
       "    </tr>\n",
       "    <tr>\n",
       "      <th>1</th>\n",
       "      <td>200611</td>\n",
       "      <td>Presidio Heights</td>\n",
       "      <td>GEARY BLVD</td>\n",
       "      <td>Front</td>\n",
       "      <td>Stump</td>\n",
       "      <td>Stump</td>\n",
       "      <td>7</td>\n",
       "      <td>Stump</td>\n",
       "      <td>Well/Pit</td>\n",
       "      <td>2</td>\n",
       "      <td>1</td>\n",
       "      <td>Stump Removal</td>\n",
       "      <td>2</td>\n",
       "      <td>None</td>\n",
       "      <td>None</td>\n",
       "      <td>None</td>\n",
       "      <td>-122.457011</td>\n",
       "      <td>37.781501</td>\n",
       "      <td>Laurel Heights / Jordan Park</td>\n",
       "    </tr>\n",
       "    <tr>\n",
       "      <th>2</th>\n",
       "      <td>200612</td>\n",
       "      <td>Presidio Heights</td>\n",
       "      <td>GEARY BLVD</td>\n",
       "      <td>Front</td>\n",
       "      <td>Prunus x blireiana</td>\n",
       "      <td>Double-Flowering Plum</td>\n",
       "      <td>6</td>\n",
       "      <td>Fair</td>\n",
       "      <td>Well/Pit</td>\n",
       "      <td>2</td>\n",
       "      <td>1</td>\n",
       "      <td>Small Routine Prune</td>\n",
       "      <td>1</td>\n",
       "      <td>None</td>\n",
       "      <td>None</td>\n",
       "      <td>None</td>\n",
       "      <td>-122.457057</td>\n",
       "      <td>37.781497</td>\n",
       "      <td>Laurel Heights / Jordan Park</td>\n",
       "    </tr>\n",
       "    <tr>\n",
       "      <th>3</th>\n",
       "      <td>200614</td>\n",
       "      <td>Presidio Heights</td>\n",
       "      <td>GEARY BLVD</td>\n",
       "      <td>Front</td>\n",
       "      <td>Metrosideros excelsa</td>\n",
       "      <td>New Zealand Christmas Tree</td>\n",
       "      <td>11</td>\n",
       "      <td>Fair</td>\n",
       "      <td>Well/Pit</td>\n",
       "      <td>4</td>\n",
       "      <td>1</td>\n",
       "      <td>Small Routine Prune</td>\n",
       "      <td>1</td>\n",
       "      <td>None</td>\n",
       "      <td>None</td>\n",
       "      <td>None</td>\n",
       "      <td>-122.457392</td>\n",
       "      <td>37.781487</td>\n",
       "      <td>Laurel Heights / Jordan Park</td>\n",
       "    </tr>\n",
       "    <tr>\n",
       "      <th>4</th>\n",
       "      <td>200615</td>\n",
       "      <td>Presidio Heights</td>\n",
       "      <td>GEARY BLVD</td>\n",
       "      <td>Front</td>\n",
       "      <td>Metrosideros excelsa</td>\n",
       "      <td>New Zealand Christmas Tree</td>\n",
       "      <td>12</td>\n",
       "      <td>Good</td>\n",
       "      <td>Well/Pit</td>\n",
       "      <td>4</td>\n",
       "      <td>1</td>\n",
       "      <td>Large Routine Prune</td>\n",
       "      <td>1</td>\n",
       "      <td>None</td>\n",
       "      <td>None</td>\n",
       "      <td>None</td>\n",
       "      <td>-122.457461</td>\n",
       "      <td>37.781484</td>\n",
       "      <td>Laurel Heights / Jordan Park</td>\n",
       "    </tr>\n",
       "  </tbody>\n",
       "</table>\n",
       "</div>"
      ],
      "text/plain": [
       "  tree_id survey_neighborhood on_street_name   side scientific_species_name  \\\n",
       "0  200610    Presidio Heights     GEARY BLVD  Front   Tristaniopsis laurina   \n",
       "1  200611    Presidio Heights     GEARY BLVD  Front                   Stump   \n",
       "2  200612    Presidio Heights     GEARY BLVD  Front      Prunus x blireiana   \n",
       "3  200614    Presidio Heights     GEARY BLVD  Front    Metrosideros excelsa   \n",
       "4  200615    Presidio Heights     GEARY BLVD  Front    Metrosideros excelsa   \n",
       "\n",
       "          common_species_name  diameter_at_breast_height condition  \\\n",
       "0                   Water Gum                          3      Good   \n",
       "1                       Stump                          7     Stump   \n",
       "2       Double-Flowering Plum                          6      Fair   \n",
       "3  New Zealand Christmas Tree                         11      Fair   \n",
       "4  New Zealand Christmas Tree                         12      Good   \n",
       "\n",
       "  parkway_space_type  parkway_largest_dimension  trunks    maintenance_notes  \\\n",
       "0           Well/Pit                          3       1       Training Prune   \n",
       "1           Well/Pit                          2       1        Stump Removal   \n",
       "2           Well/Pit                          2       1  Small Routine Prune   \n",
       "3           Well/Pit                          4       1  Small Routine Prune   \n",
       "4           Well/Pit                          4       1  Large Routine Prune   \n",
       "\n",
       "  status hardscape_damage observation_notes clearance   longitude   latitude  \\\n",
       "0      1             None              None      None -122.456872  37.781515   \n",
       "1      2             None              None      None -122.457011  37.781501   \n",
       "2      1             None              None      None -122.457057  37.781497   \n",
       "3      1             None              None      None -122.457392  37.781487   \n",
       "4      1             None              None      None -122.457461  37.781484   \n",
       "\n",
       "                   neighborhood  \n",
       "0  Laurel Heights / Jordan Park  \n",
       "1  Laurel Heights / Jordan Park  \n",
       "2  Laurel Heights / Jordan Park  \n",
       "3  Laurel Heights / Jordan Park  \n",
       "4  Laurel Heights / Jordan Park  "
      ]
     },
     "execution_count": 7,
     "metadata": {},
     "output_type": "execute_result"
    }
   ],
   "source": [
    "fuf.head()"
   ]
  },
  {
   "cell_type": "code",
   "execution_count": 14,
   "metadata": {
    "collapsed": false
   },
   "outputs": [
    {
     "data": {
      "text/plain": [
       "242"
      ]
     },
     "execution_count": 14,
     "metadata": {},
     "output_type": "execute_result"
    }
   ],
   "source": [
    "genus = fuf.scientific_species_name.str.extract(r'(\\w+)', expand=False)\n",
    "len(genus.unique())"
   ]
  },
  {
   "cell_type": "code",
   "execution_count": 18,
   "metadata": {
    "collapsed": false
   },
   "outputs": [
    {
     "data": {
      "text/plain": [
       "Platanus        4911\n",
       "Pittosporum     6087\n",
       "Metrosideros    6224\n",
       "Vacant          7730\n",
       "Prunus          9675\n",
       "Name: scientific_species_name, dtype: int64"
      ]
     },
     "execution_count": 18,
     "metadata": {},
     "output_type": "execute_result"
    }
   ],
   "source": [
    "genus.value_counts().sort_values().tail()"
   ]
  },
  {
   "cell_type": "code",
   "execution_count": 5,
   "metadata": {
    "collapsed": false
   },
   "outputs": [
    {
     "data": {
      "text/plain": [
       "662"
      ]
     },
     "execution_count": 5,
     "metadata": {},
     "output_type": "execute_result"
    }
   ],
   "source": [
    "len(fuf.scientific_species_name.unique())"
   ]
  },
  {
   "cell_type": "code",
   "execution_count": 16,
   "metadata": {
    "collapsed": false
   },
   "outputs": [
    {
     "data": {
      "text/plain": [
       "Vacant Planting Site - Small    3472\n",
       "Magnolia grandiflora            3649\n",
       "Sawcut New Tree Well Site       3940\n",
       "Pittosporum undulatum           4121\n",
       "Prunus cerasifera               4330\n",
       "Name: scientific_species_name, dtype: int64"
      ]
     },
     "execution_count": 16,
     "metadata": {},
     "output_type": "execute_result"
    }
   ],
   "source": [
    "cnts = fuf.scientific_species_name.value_counts().sort_values()\n",
    "cnts.tail()"
   ]
  },
  {
   "cell_type": "code",
   "execution_count": null,
   "metadata": {
    "collapsed": true
   },
   "outputs": [],
   "source": []
  }
 ],
 "metadata": {
  "kernelspec": {
   "display_name": "Python 2",
   "language": "python",
   "name": "python2"
  },
  "language_info": {
   "codemirror_mode": {
    "name": "ipython",
    "version": 2
   },
   "file_extension": ".py",
   "mimetype": "text/x-python",
   "name": "python",
   "nbconvert_exporter": "python",
   "pygments_lexer": "ipython2",
   "version": "2.7.12"
  }
 },
 "nbformat": 4,
 "nbformat_minor": 0
}
