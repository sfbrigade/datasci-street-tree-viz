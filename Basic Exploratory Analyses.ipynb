{
 "cells": [
  {
   "cell_type": "markdown",
   "metadata": {},
   "source": [
    "# Basic Exploratory Analyses"
   ]
  },
  {
   "cell_type": "code",
   "execution_count": 148,
   "metadata": {
    "collapsed": true
   },
   "outputs": [],
   "source": [
    "# imports\n",
    "import matplotlib.pyplot as plt\n",
    "# Enables plots within iPython notebooks\n",
    "%matplotlib inline\n",
    "import numpy as np\n",
    "import pandas as pd\n",
    "import re\n",
    "import seaborn as sns\n",
    "import os\n",
    "import urllib"
   ]
  },
  {
   "cell_type": "code",
   "execution_count": 5,
   "metadata": {
    "collapsed": false
   },
   "outputs": [],
   "source": [
    "# From Spencer's code: grab file if local, else DL from URL\n",
    "FILE_PATH = 'Street_Tree_List.csv'\n",
    "DATA_SOURCE_URL = 'https://data.sfgov.org/api/views/tkzw-k3nq/rows.csv?accessType=DOWNLOAD'\n",
    "\n",
    "# Load from interwebs\n",
    "if not os.path.isfile(FILE_PATH):\n",
    "    urllib.urlretrieve (DATA_SOURCE_URL, FILE_PATH)\n",
    "    \n",
    "df_trees = pd.read_csv(FILE_PATH)"
   ]
  },
  {
   "cell_type": "code",
   "execution_count": 15,
   "metadata": {
    "collapsed": false
   },
   "outputs": [
    {
     "data": {
      "text/html": [
       "<div>\n",
       "<table border=\"1\" class=\"dataframe\">\n",
       "  <thead>\n",
       "    <tr style=\"text-align: right;\">\n",
       "      <th></th>\n",
       "      <th>TreeID</th>\n",
       "      <th>qLegalStatus</th>\n",
       "      <th>qSpecies</th>\n",
       "      <th>qAddress</th>\n",
       "      <th>SiteOrder</th>\n",
       "      <th>qSiteInfo</th>\n",
       "      <th>PlantType</th>\n",
       "      <th>qCaretaker</th>\n",
       "      <th>qCareAssistant</th>\n",
       "      <th>PlantDate</th>\n",
       "      <th>DBH</th>\n",
       "      <th>PlotSize</th>\n",
       "      <th>PermitNotes</th>\n",
       "      <th>XCoord</th>\n",
       "      <th>YCoord</th>\n",
       "      <th>Latitude</th>\n",
       "      <th>Longitude</th>\n",
       "      <th>Location</th>\n",
       "    </tr>\n",
       "  </thead>\n",
       "  <tbody>\n",
       "    <tr>\n",
       "      <th>0</th>\n",
       "      <td>119263</td>\n",
       "      <td>DPW Maintained</td>\n",
       "      <td>Pinus radiata :: Monterey Pine</td>\n",
       "      <td>495X Lakeshore Dr</td>\n",
       "      <td>1.0</td>\n",
       "      <td>Median : Yard</td>\n",
       "      <td>Tree</td>\n",
       "      <td>DPW</td>\n",
       "      <td>NaN</td>\n",
       "      <td>NaN</td>\n",
       "      <td>NaN</td>\n",
       "      <td>10x30</td>\n",
       "      <td>NaN</td>\n",
       "      <td>NaN</td>\n",
       "      <td>NaN</td>\n",
       "      <td>NaN</td>\n",
       "      <td>NaN</td>\n",
       "      <td>NaN</td>\n",
       "    </tr>\n",
       "    <tr>\n",
       "      <th>1</th>\n",
       "      <td>110785</td>\n",
       "      <td>Permitted Site</td>\n",
       "      <td>Tree(s) ::</td>\n",
       "      <td>2 Edna St</td>\n",
       "      <td>2.0</td>\n",
       "      <td>Front Yard : Yard</td>\n",
       "      <td>Tree</td>\n",
       "      <td>Private</td>\n",
       "      <td>NaN</td>\n",
       "      <td>05/06/2015 12:00:00 AM</td>\n",
       "      <td>3.0</td>\n",
       "      <td>NaN</td>\n",
       "      <td>NaN</td>\n",
       "      <td>5.998788e+06</td>\n",
       "      <td>2.092980e+06</td>\n",
       "      <td>37.726855</td>\n",
       "      <td>-122.446410</td>\n",
       "      <td>(37.7268545527586, -122.446410203741)</td>\n",
       "    </tr>\n",
       "    <tr>\n",
       "      <th>2</th>\n",
       "      <td>54416</td>\n",
       "      <td>Permitted Site</td>\n",
       "      <td>Tree(s) ::</td>\n",
       "      <td>1434 10th Ave</td>\n",
       "      <td>1.0</td>\n",
       "      <td>Sidewalk: Curb side : Cutout</td>\n",
       "      <td>Tree</td>\n",
       "      <td>Private</td>\n",
       "      <td>NaN</td>\n",
       "      <td>06/19/1972 12:00:00 AM</td>\n",
       "      <td>NaN</td>\n",
       "      <td>NaN</td>\n",
       "      <td>Permit Number 10189</td>\n",
       "      <td>5.993066e+06</td>\n",
       "      <td>2.105706e+06</td>\n",
       "      <td>37.761468</td>\n",
       "      <td>-122.467117</td>\n",
       "      <td>(37.761468352883, -122.467116526016)</td>\n",
       "    </tr>\n",
       "    <tr>\n",
       "      <th>3</th>\n",
       "      <td>10983</td>\n",
       "      <td>DPW Maintained</td>\n",
       "      <td>Metrosideros excelsa :: New Zealand Xmas Tree</td>\n",
       "      <td>1481 Hudson Ave</td>\n",
       "      <td>1.0</td>\n",
       "      <td>Sidewalk: Curb side : Cutout</td>\n",
       "      <td>Tree</td>\n",
       "      <td>DPW</td>\n",
       "      <td>NaN</td>\n",
       "      <td>NaN</td>\n",
       "      <td>12.0</td>\n",
       "      <td>3X4</td>\n",
       "      <td>NaN</td>\n",
       "      <td>6.016322e+06</td>\n",
       "      <td>2.096940e+06</td>\n",
       "      <td>37.738713</td>\n",
       "      <td>-122.386072</td>\n",
       "      <td>(37.7387133435699, -122.386072072848)</td>\n",
       "    </tr>\n",
       "    <tr>\n",
       "      <th>4</th>\n",
       "      <td>94164</td>\n",
       "      <td>Permitted Site</td>\n",
       "      <td>Arbutus 'Marina' :: Hybrid Strawberry Tree</td>\n",
       "      <td>729 Lawton St</td>\n",
       "      <td>1.0</td>\n",
       "      <td>Sidewalk: Curb side : Cutout</td>\n",
       "      <td>Tree</td>\n",
       "      <td>Private</td>\n",
       "      <td>NaN</td>\n",
       "      <td>06/15/2010 12:00:00 AM</td>\n",
       "      <td>NaN</td>\n",
       "      <td>3x3</td>\n",
       "      <td>Permit Number 53529</td>\n",
       "      <td>5.991968e+06</td>\n",
       "      <td>2.104568e+06</td>\n",
       "      <td>37.758281</td>\n",
       "      <td>-122.470832</td>\n",
       "      <td>(37.7582806084367, -122.470831686794)</td>\n",
       "    </tr>\n",
       "  </tbody>\n",
       "</table>\n",
       "</div>"
      ],
      "text/plain": [
       "   TreeID    qLegalStatus                                       qSpecies  \\\n",
       "0  119263  DPW Maintained                 Pinus radiata :: Monterey Pine   \n",
       "1  110785  Permitted Site                                     Tree(s) ::   \n",
       "2   54416  Permitted Site                                     Tree(s) ::   \n",
       "3   10983  DPW Maintained  Metrosideros excelsa :: New Zealand Xmas Tree   \n",
       "4   94164  Permitted Site     Arbutus 'Marina' :: Hybrid Strawberry Tree   \n",
       "\n",
       "            qAddress  SiteOrder                     qSiteInfo PlantType  \\\n",
       "0  495X Lakeshore Dr        1.0                 Median : Yard      Tree   \n",
       "1          2 Edna St        2.0             Front Yard : Yard      Tree   \n",
       "2      1434 10th Ave        1.0  Sidewalk: Curb side : Cutout      Tree   \n",
       "3    1481 Hudson Ave        1.0  Sidewalk: Curb side : Cutout      Tree   \n",
       "4      729 Lawton St        1.0  Sidewalk: Curb side : Cutout      Tree   \n",
       "\n",
       "  qCaretaker qCareAssistant               PlantDate   DBH PlotSize  \\\n",
       "0        DPW            NaN                     NaN   NaN    10x30   \n",
       "1    Private            NaN  05/06/2015 12:00:00 AM   3.0      NaN   \n",
       "2    Private            NaN  06/19/1972 12:00:00 AM   NaN      NaN   \n",
       "3        DPW            NaN                     NaN  12.0      3X4   \n",
       "4    Private            NaN  06/15/2010 12:00:00 AM   NaN      3x3   \n",
       "\n",
       "           PermitNotes        XCoord        YCoord   Latitude   Longitude  \\\n",
       "0                  NaN           NaN           NaN        NaN         NaN   \n",
       "1                  NaN  5.998788e+06  2.092980e+06  37.726855 -122.446410   \n",
       "2  Permit Number 10189  5.993066e+06  2.105706e+06  37.761468 -122.467117   \n",
       "3                  NaN  6.016322e+06  2.096940e+06  37.738713 -122.386072   \n",
       "4  Permit Number 53529  5.991968e+06  2.104568e+06  37.758281 -122.470832   \n",
       "\n",
       "                                Location  \n",
       "0                                    NaN  \n",
       "1  (37.7268545527586, -122.446410203741)  \n",
       "2   (37.761468352883, -122.467116526016)  \n",
       "3  (37.7387133435699, -122.386072072848)  \n",
       "4  (37.7582806084367, -122.470831686794)  "
      ]
     },
     "execution_count": 15,
     "metadata": {},
     "output_type": "execute_result"
    }
   ],
   "source": [
    "# What do the data look like?\n",
    "df_trees.head()"
   ]
  },
  {
   "cell_type": "code",
   "execution_count": 20,
   "metadata": {
    "collapsed": false
   },
   "outputs": [
    {
     "data": {
      "text/plain": [
       "(92407, 18)"
      ]
     },
     "execution_count": 20,
     "metadata": {},
     "output_type": "execute_result"
    }
   ],
   "source": [
    "# How many rows, columns?\n",
    "df_trees.shape"
   ]
  },
  {
   "cell_type": "code",
   "execution_count": 21,
   "metadata": {
    "collapsed": false
   },
   "outputs": [
    {
     "data": {
      "text/plain": [
       "92407"
      ]
     },
     "execution_count": 21,
     "metadata": {},
     "output_type": "execute_result"
    }
   ],
   "source": [
    "df_trees['TreeID'].nunique()"
   ]
  },
  {
   "cell_type": "markdown",
   "metadata": {},
   "source": [
    "No duplicate tree IDs in our records"
   ]
  },
  {
   "cell_type": "markdown",
   "metadata": {},
   "source": [
    "# Data Hygiene Questions"
   ]
  },
  {
   "cell_type": "code",
   "execution_count": 19,
   "metadata": {
    "collapsed": false
   },
   "outputs": [
    {
     "data": {
      "text/plain": [
       "qCareAssistant    68337\n",
       "DBH               53482\n",
       "PermitNotes       43211\n",
       "PlotSize          41495\n",
       "PlantDate         31223\n",
       "Longitude          2419\n",
       "Location           2419\n",
       "XCoord             2419\n",
       "YCoord             2419\n",
       "Latitude           2419\n",
       "qAddress           1490\n",
       "SiteOrder          1405\n",
       "qLegalStatus         56\n",
       "qCaretaker            0\n",
       "PlantType             0\n",
       "qSiteInfo             0\n",
       "qSpecies              0\n",
       "TreeID                0\n",
       "dtype: int64"
      ]
     },
     "execution_count": 19,
     "metadata": {},
     "output_type": "execute_result"
    }
   ],
   "source": [
    "# What kind of missing data are we dealing with?\n",
    "df_trees.isnull().sum().sort_values(ascending=False)"
   ]
  },
  {
   "cell_type": "markdown",
   "metadata": {
    "collapsed": true
   },
   "source": [
    "We can immediately see that roughly **2/3 of our plants don't have a care assistant (does the city, or FUF manage these, if there's no designated assistant?)**\n",
    "\n",
    "There's also **no planting date recorded for roughly 1/3 of the plants**. Do these exist in another database, or are the trees from before the FUF's data collection?\n",
    "\n",
    "Luckily, we have tree ID's, and species, assigned to all trees! Let's dig into those data more."
   ]
  },
  {
   "cell_type": "code",
   "execution_count": 104,
   "metadata": {
    "collapsed": false
   },
   "outputs": [
    {
     "data": {
      "text/plain": [
       "[<matplotlib.text.Text at 0x113ef2710>,\n",
       " <matplotlib.text.Text at 0x113a441d0>,\n",
       " <matplotlib.text.Text at 0x113e0cd50>]"
      ]
     },
     "execution_count": 104,
     "metadata": {},
     "output_type": "execute_result"
    },
    {
     "data": {
      "image/png": "[encoded data removed]",
      "text/plain": [
       "<matplotlib.figure.Figure at 0x1133eb1d0>"
      ]
     },
     "metadata": {},
     "output_type": "display_data"
    }
   ],
   "source": [
    "# Group trees by species, get a count descending to find the top 10\n",
    "# most populus species managed by FUF, and plot it\n",
    "top10Species = df_trees.groupby(['qSpecies'])[['qSpecies']].count().add_suffix('_count'). \\\n",
    "  sort_values(by=\"qSpecies_count\",ascending=False).reset_index().head(10)\n",
    "ax = sns.barplot(y=\"qSpecies\",x=\"qSpecies_count\",data=top10Species)\n",
    "ax.set(xlabel=\"Count\", ylabel=\"Species\", title=\"Top 10 Species\")"
   ]
  },
  {
   "cell_type": "markdown",
   "metadata": {},
   "source": [
    "**About 15% of the trees in the dataset have a qSpecies of \"Tree(s) ::\" , which appear to indicate missing species**. How many of these have a Location, such that we could identify them? Is that important?"
   ]
  },
  {
   "cell_type": "code",
   "execution_count": 105,
   "metadata": {
    "collapsed": false
   },
   "outputs": [
    {
     "name": "stdout",
     "output_type": "stream",
     "text": [
      "Original Bad Species: ['::']\n",
      "After additions: ['::', 'Tree(s) ::']\n"
     ]
    }
   ],
   "source": [
    "# Are there other values that indicate missing species?\n",
    "list_of_species = df_trees['qSpecies'].unique()\n",
    "# FIRST PASS: If we have a pattern that doesn't have alphanumeric characters, we have a bad species\n",
    "bad_species_pattern = re.compile(r'([^a-zA-Z]+)')\n",
    "# If we have any species that match the above pattern, or if we have an empty string\n",
    "# for the species name, store these and print. This list is non-exhaustive. There may\n",
    "# be other species misspelled, etc., and may not qualify as proper species names\n",
    "bad_species = [species for species in list_of_species if bad_species_pattern.match(species) or species == '']\n",
    "print(\"Original Bad Species: %s\" % bad_species)\n",
    "# Finally, add the species we saw above to our \"bad species\" list\n",
    "bad_species.append(\"Tree(s) ::\")\n",
    "print(\"After additions: %s\" % bad_species)"
   ]
  },
  {
   "cell_type": "code",
   "execution_count": 107,
   "metadata": {
    "collapsed": false
   },
   "outputs": [
    {
     "data": {
      "text/plain": [
       "(78508, 18)"
      ]
     },
     "execution_count": 107,
     "metadata": {},
     "output_type": "execute_result"
    }
   ],
   "source": [
    "# Now, filter the records with bad species out, for this specific analysis, and continue\n",
    "df_good_species = df_trees[~df_trees.qSpecies.isin(bad_species)]\n",
    "df_good_species.shape"
   ]
  },
  {
   "cell_type": "markdown",
   "metadata": {},
   "source": [
    "This removed about 14,000 records, as expected"
   ]
  },
  {
   "cell_type": "code",
   "execution_count": 108,
   "metadata": {
    "collapsed": false
   },
   "outputs": [
    {
     "data": {
      "text/plain": [
       "[<matplotlib.text.Text at 0x114015dd0>,\n",
       " <matplotlib.text.Text at 0x113e01c90>,\n",
       " <matplotlib.text.Text at 0x113fe2fd0>]"
      ]
     },
     "execution_count": 108,
     "metadata": {},
     "output_type": "execute_result"
    },
    {
     "data": {
      "image/png": "[encoded data removed]",
      "text/plain": [
       "<matplotlib.figure.Figure at 0x1139bc990>"
      ]
     },
     "metadata": {},
     "output_type": "display_data"
    }
   ],
   "source": [
    "# Let's plot the top 10 species again, and move on\n",
    "top10Species = df_good_species.groupby(['qSpecies'])[['qSpecies']].count().add_suffix('_count'). \\\n",
    "  sort_values(by=\"qSpecies_count\",ascending=False).reset_index().head(10)\n",
    "ax = sns.barplot(y=\"qSpecies\",x=\"qSpecies_count\",data=top10Species)\n",
    "ax.set(xlabel=\"Count\", ylabel=\"Species\", title=\"Top 10 Species\")"
   ]
  },
  {
   "cell_type": "code",
   "execution_count": 160,
   "metadata": {
    "collapsed": false
   },
   "outputs": [
    {
     "name": "stdout",
     "output_type": "stream",
     "text": [
      "35%\n"
     ]
    }
   ],
   "source": [
    "# The top 10 species make up what percent of the total trees managed by FUF?\n",
    "print(\"%i%%\" % (top10Species['qSpecies_count'].sum() * 100 / float(df_trees['TreeID'].count())))"
   ]
  },
  {
   "cell_type": "code",
   "execution_count": 161,
   "metadata": {
    "collapsed": false
   },
   "outputs": [
    {
     "data": {
      "text/plain": [
       "433"
      ]
     },
     "execution_count": 161,
     "metadata": {},
     "output_type": "execute_result"
    }
   ],
   "source": [
    "# How many distinct species of plants are managed by FUF?\n",
    "df_good_species['qSpecies'].nunique()"
   ]
  },
  {
   "cell_type": "code",
   "execution_count": 162,
   "metadata": {
    "collapsed": false
   },
   "outputs": [
    {
     "data": {
      "text/plain": [
       "<matplotlib.text.Text at 0x114d86f10>"
      ]
     },
     "execution_count": 162,
     "metadata": {},
     "output_type": "execute_result"
    },
    {
     "data": {
      "image/png": "[encoded data removed]",
      "text/plain": [
       "<matplotlib.figure.Figure at 0x113fb4290>"
      ]
     },
     "metadata": {},
     "output_type": "display_data"
    }
   ],
   "source": [
    "# What does the CDF look like for count of trees by species? What percentage of total plants\n",
    "# is represented by what percentage of species?\n",
    "species_pct_of_total = df_good_species.groupby(['qSpecies'])[['qSpecies']]. \\\n",
    "    count() * 100 / len(df_good_species)\n",
    "df_species_pct_of_total = species_pct_of_total.add_suffix('_count'). \\\n",
    "    sort_values(by=\"qSpecies_count\",ascending=False).reset_index()\n",
    "# The cumsum function in numpy generates our CDF. Plot it\n",
    "plt.plot(np.cumsum(df_species_pct_of_total['qSpecies_count']))\n",
    "plt.xlabel(\"Number of Species\")\n",
    "plt.ylabel(\"Percentage of Trees\")"
   ]
  },
  {
   "cell_type": "markdown",
   "metadata": {},
   "source": [
    "You can interpret the above plot like so: pick a value along the x axis, e.g. 50. Move up to find\n",
    "the point where the plot sits on the y axis (roughly 80). This means that the **top 50 tree species\n",
    "cover roughly 80% of the total trees managed by FUF.**"
   ]
  },
  {
   "cell_type": "code",
   "execution_count": null,
   "metadata": {
    "collapsed": true
   },
   "outputs": [],
   "source": [
    "# Heatmap of trees within specific (lat, long) zones? Could we do this by ZIP?"
   ]
  }
 ],
 "metadata": {
  "kernelspec": {
   "display_name": "Python 2",
   "language": "python",
   "name": "python2"
  },
  "language_info": {
   "codemirror_mode": {
    "name": "ipython",
    "version": 2
   },
   "file_extension": ".py",
   "mimetype": "text/x-python",
   "name": "python",
   "nbconvert_exporter": "python",
   "pygments_lexer": "ipython2",
   "version": "2.7.12"
  }
 },
 "nbformat": 4,
 "nbformat_minor": 0
}
